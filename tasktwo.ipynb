{
 "cells": [
  {
   "cell_type": "code",
   "execution_count": 1,
   "metadata": {},
   "outputs": [],
   "source": [
    "#Import libraries\n",
    "import os\n",
    "import re\n",
    "import datetime \n",
    "\n",
    "import pandas as pd\n",
    "import numpy as np\n",
    "import matplotlib.pyplot as plt\n",
    "import pandas_gbq\n",
    "import janitor\n",
    "import zipfile36 as zipfile\n",
    "\n",
    "from google.cloud import bigquery\n",
    "from google.oauth2 import service_account"
   ]
  },
  {
   "cell_type": "code",
   "execution_count": 5,
   "metadata": {},
   "outputs": [],
   "source": [
    "#setup connection with user default credentials\n",
    "project_id = 'umt-msba'\n",
    "\n",
    "#setup connection with user default credentials\n",
    "client = bigquery.Client(project=project_id)"
   ]
  },
  {
   "cell_type": "code",
   "execution_count": 8,
   "metadata": {},
   "outputs": [
    {
     "name": "stdout",
     "output_type": "stream",
     "text": [
      "Downloading: 100%|\u001b[32m██████████\u001b[0m|\n"
     ]
    }
   ],
   "source": [
    "#get a list of owners\n",
    "owners = pandas_gbq.read_gbq(\n",
    "    \"\"\"SELECT DISTINCT card_no\n",
    "    FROM `umt-msba.transactions.transArchive_*` \n",
    "    WHERE card_no != 3\"\"\", \n",
    "    project_id=project_id\n",
    ")\n",
    "\n",
    "#convert to list\n",
    "owners = owners['card_no'].tolist()\n"
   ]
  },
  {
   "cell_type": "code",
   "execution_count": 13,
   "metadata": {},
   "outputs": [],
   "source": [
    "#sample list of owners\n",
    "owner_sample = owners[:5]\n"
   ]
  },
  {
   "cell_type": "code",
   "execution_count": 14,
   "metadata": {},
   "outputs": [
    {
     "name": "stdout",
     "output_type": "stream",
     "text": [
      "Downloading: 100%|\u001b[32m██████████\u001b[0m|\n"
     ]
    }
   ],
   "source": [
    "#query to get the transactions of the sample owners\n",
    "transactions = pandas_gbq.read_gbq(\n",
    "    f\"\"\"SELECT *\n",
    "    FROM `umt-msba.transactions.transArchive_*` \n",
    "    WHERE card_no IN ({','.join([str(x) for x in owner_sample])})\"\"\", \n",
    "    project_id=project_id\n",
    ")\n",
    "\n",
    "#save the transactions to a csv file\n",
    "transactions.to_csv('Data/transactions.csv', index=False)"
   ]
  }
 ],
 "metadata": {
  "kernelspec": {
   "display_name": "Python 3",
   "language": "python",
   "name": "python3"
  },
  "language_info": {
   "codemirror_mode": {
    "name": "ipython",
    "version": 3
   },
   "file_extension": ".py",
   "mimetype": "text/x-python",
   "name": "python",
   "nbconvert_exporter": "python",
   "pygments_lexer": "ipython3",
   "version": "3.12.7"
  }
 },
 "nbformat": 4,
 "nbformat_minor": 2
}
