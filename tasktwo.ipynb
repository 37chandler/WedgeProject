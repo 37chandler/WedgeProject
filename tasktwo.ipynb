{
 "cells": [
  {
   "cell_type": "code",
   "execution_count": 1,
   "metadata": {},
   "outputs": [],
   "source": [
    "#Import libraries\n",
    "import os\n",
    "import re\n",
    "import datetime \n",
    "\n",
    "import pandas as pd\n",
    "import pandas_gbq\n",
    "import janitor\n",
    "\n",
    "from google.cloud import bigquery\n",
    "from google.oauth2 import service_account"
   ]
  },
  {
   "cell_type": "code",
   "execution_count": 2,
   "metadata": {},
   "outputs": [],
   "source": [
    "#setup connection with user default credentials\n",
    "project_id = 'wedgeproject-438019'\n",
    "\n",
    "#setup connection with user default credentials\n",
    "client = bigquery.Client(project=project_id)"
   ]
  },
  {
   "cell_type": "code",
   "execution_count": 4,
   "metadata": {},
   "outputs": [
    {
     "name": "stdout",
     "output_type": "stream",
     "text": [
      "Downloading: 100%|\u001b[32m██████████\u001b[0m|\n"
     ]
    }
   ],
   "source": [
    "#get a list of owners\n",
    "owners = pandas_gbq.read_gbq(\n",
    "    \"\"\"SELECT DISTINCT card_no\n",
    "    FROM `wedgeproject-438019.wedgeproject.*`\n",
    "    WHERE card_no != 3\"\"\", \n",
    "    project_id=project_id\n",
    ")\n",
    "\n",
    "#convert to list\n",
    "owners = owners['card_no'].tolist()\n"
   ]
  },
  {
   "cell_type": "code",
   "execution_count": 5,
   "metadata": {},
   "outputs": [],
   "source": [
    "#sample list of owners\n",
    "owner_sample = owners[:500]\n"
   ]
  },
  {
   "cell_type": "code",
   "execution_count": 7,
   "metadata": {},
   "outputs": [
    {
     "name": "stdout",
     "output_type": "stream",
     "text": [
      "Downloading: 100%|\u001b[32m██████████\u001b[0m|\n"
     ]
    }
   ],
   "source": [
    "#query to get the transactions of the sample owners\n",
    "transactions = pandas_gbq.read_gbq(\n",
    "    f\"\"\"SELECT *\n",
    "    FROM `wedgeproject-438019.wedgeproject.*` \n",
    "    WHERE card_no IN ({','.join([str(x) for x in owner_sample])})\"\"\", \n",
    "    project_id=project_id\n",
    ")\n",
    "\n",
    "#save the transactions to a txt file\n",
    "transactions.to_csv('Data/transactions.txt', sep='\\t', index=False)"
   ]
  }
 ],
 "metadata": {
  "kernelspec": {
   "display_name": "Python 3",
   "language": "python",
   "name": "python3"
  },
  "language_info": {
   "codemirror_mode": {
    "name": "ipython",
    "version": 3
   },
   "file_extension": ".py",
   "mimetype": "text/x-python",
   "name": "python",
   "nbconvert_exporter": "python",
   "pygments_lexer": "ipython3",
   "version": "3.12.7"
  }
 },
 "nbformat": 4,
 "nbformat_minor": 2
}
