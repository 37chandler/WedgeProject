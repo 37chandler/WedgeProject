{
 "cells": [
  {
   "cell_type": "markdown",
   "metadata": {},
   "source": [
    "# Task One: To the Cloud!"
   ]
  },
  {
   "cell_type": "code",
   "execution_count": 1,
   "metadata": {},
   "outputs": [],
   "source": [
    "#cleaning data\n",
    "import pandas as pd\n",
    "import numpy as np\n",
    "from zipfile import ZipFile\n",
    "import os\n",
    "import io\n",
    "import csv\n",
    "import datetime\n",
    "\n",
    "import data_functions as datafun"
   ]
  },
  {
   "cell_type": "code",
   "execution_count": 2,
   "metadata": {},
   "outputs": [],
   "source": [
    "#define the data file path and create a delimiter dictionary\n",
    "outer = \"Data/WedgeZipOfZips.zip\"\n",
    "\n",
    "delimiters = dict() \n"
   ]
  },
  {
   "cell_type": "code",
   "execution_count": 3,
   "metadata": {},
   "outputs": [],
   "source": [
    "# Define your schema column names for files without headers\n",
    "schema_columns = ['datetime', 'register_no', 'emp_no', 'trans_no', 'upc', 'description', \n",
    "                  'trans_type', 'trans_subtype', 'trans_status', 'department', 'quantity', \n",
    "                  'Scale', 'cost', 'unitPrice', 'total', 'regPrice', 'altPrice', 'tax', \n",
    "                  'taxexempt', 'foodstamp', 'wicable', 'discount', 'memDiscount', \n",
    "                  'discountable', 'discounttype', 'voided', 'percentDiscount', 'ItemQtty', \n",
    "                  'volDiscType', 'volume', 'VolSpecial', 'mixMatch', 'matched', 'memType', \n",
    "                  'staff', 'numflag', 'itemstatus', 'tenderstatus', 'charflag', 'varflag', \n",
    "                  'batchHeaderID', 'local', 'organic', 'display', 'receipt', 'card_no', \n",
    "                  'store', 'branch', 'match_id', 'trans_id']\n",
    "\n"
   ]
  },
  {
   "cell_type": "code",
   "execution_count": null,
   "metadata": {},
   "outputs": [],
   "source": [
    "# Step 1: Open the ZIP file\n",
    "with ZipFile(outer, 'r') as outer_zip:\n",
    "    outer_files = outer_zip.namelist()\n",
    "\n",
    "    processed_files = 0\n",
    "\n",
    "    # Step 2: Loop through the files in the outer ZIP\n",
    "    for outer_file in outer_files:\n",
    "        if outer_file.endswith('.zip'):  # Check if it's a ZIP file within the outer ZIP\n",
    "            print(f\"Found inner ZIP file: {outer_file}\")\n",
    "\n",
    "            # Step 3: Open the inner ZIP file\n",
    "            with outer_zip.open(outer_file) as inner_zip_file:\n",
    "                # Step 4: Read the inner ZIP file as a ZipFile object\n",
    "                with ZipFile(inner_zip_file) as inner_zip:\n",
    "                    inner_files = inner_zip.namelist()\n",
    "\n",
    "                    for file in inner_files:\n",
    "                        if file.endswith('.csv'):\n",
    "                            print(f\"Processing CSV file: {file}\")\n",
    "                            \n",
    "                            # Step 3: Read the CSV file\n",
    "                            with inner_zip.open(file, 'r') as csv_file:\n",
    "                                csv_file = io.TextIOWrapper(csv_file, encoding=\"utf-8\")\n",
    "                                \n",
    "\n",
    "                                 # Read a sample of the file to detect delimiter\n",
    "                                sample = csv_file.read(3030)\n",
    "                                csv_file.seek(0)  # Reset the file pointer\n",
    "\n",
    "                                # Use csv.Sniffer to detect the delimiter\n",
    "                                try:\n",
    "                                    sniffer = csv.Sniffer()\n",
    "                                    dialect = sniffer.sniff(sample, delimiters=[',', ';', '\\t', ':'])\n",
    "                                    delimiter = dialect.delimiter\n",
    "                                    print(f\"Detected delimiter: {delimiter}\")\n",
    "                                except csv.Error:\n",
    "                                    delimiter = ','  # Default to comma if delimiter detection fails\n",
    "                                    print(\"Could not detect delimiter, using default ','\")\n",
    "\n",
    "                                #check for headers\n",
    "                                has_header = sniffer.has_header(sample)\n",
    "                                print(f\"Has header: {has_header}\")\n",
    "\n",
    "                                #remove the headers if they exist and add the schema columns\n",
    "                                if not has_header:\n",
    "                                    df = pd.read_csv(csv_file, delimiter=delimiter, header=None, names=schema_columns)\n",
    "                                else:\n",
    "                                    df = pd.read_csv(csv_file, delimiter=delimiter)\n",
    "                                    df.columns = schema_columns\n",
    "                               \n",
    "                                \n",
    "                                # Step 5: Perform data cleaning view data types\n",
    "                                print(\"Cleaning data...\")\n",
    "                                df = datafun.clean_data(df)\n",
    "                                print(\"Data cleaned.\")\n",
    "\n",
    "                                 \n",
    "                                 #open connection to bigquery\n",
    "                                table_name = \"wedgeproject-438019.wedgeproject.\" + file.split(\".\")[0].lower()\n",
    "                                datafun.upload_to_bigquery(df,table_name)\n",
    "                                \n",
    "                                processed_files += 1\n",
    "                                progress = processed_files / len(outer_files) * 100\n",
    "                                print(f\"Progress: {progress:.2f}%\")\n",
    "\n",
    "\n",
    "print(\"All files processed.\")\n"
   ]
  }
 ],
 "metadata": {
  "kernelspec": {
   "display_name": "Python 3",
   "language": "python",
   "name": "python3"
  },
  "language_info": {
   "codemirror_mode": {
    "name": "ipython",
    "version": 3
   },
   "file_extension": ".py",
   "mimetype": "text/x-python",
   "name": "python",
   "nbconvert_exporter": "python",
   "pygments_lexer": "ipython3",
   "version": "3.12.2"
  }
 },
 "nbformat": 4,
 "nbformat_minor": 2
}
