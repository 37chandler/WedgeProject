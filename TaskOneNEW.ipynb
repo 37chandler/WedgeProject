{
 "cells": [
  {
   "cell_type": "code",
   "execution_count": 1,
   "metadata": {},
   "outputs": [],
   "source": [
    "#cleaning data\n",
    "import pandas as pd\n",
    "import numpy as np\n",
    "from zipfile import ZipFile\n",
    "import os\n",
    "import io\n",
    "import csv\n",
    "import datetime\n",
    "\n",
    "import data_functions as datafun"
   ]
  },
  {
   "cell_type": "code",
   "execution_count": 2,
   "metadata": {},
   "outputs": [],
   "source": [
    "outer = \"Data/WedgeZipOfZips.zip\"\n",
    "\n",
    "delimiters = dict() \n"
   ]
  },
  {
   "cell_type": "code",
   "execution_count": 3,
   "metadata": {},
   "outputs": [],
   "source": [
    "# Define your schema column names for files without headers\n",
    "schema_columns = ['datetime', 'register_no', 'emp_no', 'trans_no', 'upc', 'description', \n",
    "                  'trans_type', 'trans_subtype', 'trans_status', 'department', 'quantity', \n",
    "                  'Scale', 'cost', 'unitPrice', 'total', 'regPrice', 'altPrice', 'tax', \n",
    "                  'taxexempt', 'foodstamp', 'wicable', 'discount', 'memDiscount', \n",
    "                  'discountable', 'discounttype', 'voided', 'percentDiscount', 'ItemQtty', \n",
    "                  'volDiscType', 'volume', 'VolSpecial', 'mixMatch', 'matched', 'memType', \n",
    "                  'staff', 'numflag', 'itemstatus', 'tenderstatus', 'charflag', 'varflag', \n",
    "                  'batchHeaderID', 'local', 'organic', 'display', 'receipt', 'card_no', \n",
    "                  'store', 'branch', 'match_id', 'trans_id']\n",
    "\n"
   ]
  },
  {
   "cell_type": "code",
   "execution_count": 4,
   "metadata": {},
   "outputs": [
    {
     "name": "stdout",
     "output_type": "stream",
     "text": [
      "Found inner ZIP file: transArchive_201001_201003.zip\n",
      "Processing CSV file: transArchive_201001_201003.csv\n",
      "Detected delimiter: ,\n",
      "Has header: True\n",
      "[' ' 'CC' 'CA' '0' nan 'CK' 'WC' 'CP' 'GD' 'IC' 'EF' 'EC' 'TC']\n",
      "Cleaning data...\n"
     ]
    },
    {
     "name": "stderr",
     "output_type": "stream",
     "text": [
      "c:\\Users\\thaefele31\\Documents\\ADA\\Assignments\\WedgeProject\\data_functions.py:14: FutureWarning: Downcasting object dtype arrays on .fillna, .ffill, .bfill is deprecated and will change in a future version. Call result.infer_objects(copy=False) instead. To opt-in to the future behavior, set `pd.set_option('future.no_silent_downcasting', True)`\n",
      "  df['memType'] = df['memType'].fillna(False)  # fill with False\n",
      "c:\\Users\\thaefele31\\Documents\\ADA\\Assignments\\WedgeProject\\data_functions.py:16: FutureWarning: Downcasting object dtype arrays on .fillna, .ffill, .bfill is deprecated and will change in a future version. Call result.infer_objects(copy=False) instead. To opt-in to the future behavior, set `pd.set_option('future.no_silent_downcasting', True)`\n",
      "  df['batchHeaderID'] = df['batchHeaderID'].fillna(False)  # fill with False\n",
      "c:\\Users\\thaefele31\\Documents\\ADA\\Assignments\\WedgeProject\\data_functions.py:17: FutureWarning: Downcasting object dtype arrays on .fillna, .ffill, .bfill is deprecated and will change in a future version. Call result.infer_objects(copy=False) instead. To opt-in to the future behavior, set `pd.set_option('future.no_silent_downcasting', True)`\n",
      "  df['display'] = df['display'].fillna(False)  # fill with False\n"
     ]
    },
    {
     "name": "stdout",
     "output_type": "stream",
     "text": [
      "Data cleaned.\n",
      "Uploading data to the cloud...\n",
      "Checking if table exists...\n",
      "Deleting table wedgeproject-438019.wedgeproject.transarchive_201001_201003...\n",
      "Successfully loaded 2998330 rows into wedgeproject-438019.wedgeproject.transarchive_201001_201003\n",
      "Progress: 1.89%\n",
      "Found inner ZIP file: transArchive_201004_201006.zip\n",
      "Processing CSV file: transArchive_201004_201006.csv\n",
      "Detected delimiter: ,\n",
      "Has header: True\n",
      "[' ' 'CC' 'CA' nan 'EF' 'EC' 'CP' 'CK' 'GD' 'WC' 'IC']\n",
      "Cleaning data...\n"
     ]
    },
    {
     "name": "stderr",
     "output_type": "stream",
     "text": [
      "c:\\Users\\thaefele31\\Documents\\ADA\\Assignments\\WedgeProject\\data_functions.py:14: FutureWarning: Downcasting object dtype arrays on .fillna, .ffill, .bfill is deprecated and will change in a future version. Call result.infer_objects(copy=False) instead. To opt-in to the future behavior, set `pd.set_option('future.no_silent_downcasting', True)`\n",
      "  df['memType'] = df['memType'].fillna(False)  # fill with False\n",
      "c:\\Users\\thaefele31\\Documents\\ADA\\Assignments\\WedgeProject\\data_functions.py:16: FutureWarning: Downcasting object dtype arrays on .fillna, .ffill, .bfill is deprecated and will change in a future version. Call result.infer_objects(copy=False) instead. To opt-in to the future behavior, set `pd.set_option('future.no_silent_downcasting', True)`\n",
      "  df['batchHeaderID'] = df['batchHeaderID'].fillna(False)  # fill with False\n",
      "c:\\Users\\thaefele31\\Documents\\ADA\\Assignments\\WedgeProject\\data_functions.py:17: FutureWarning: Downcasting object dtype arrays on .fillna, .ffill, .bfill is deprecated and will change in a future version. Call result.infer_objects(copy=False) instead. To opt-in to the future behavior, set `pd.set_option('future.no_silent_downcasting', True)`\n",
      "  df['display'] = df['display'].fillna(False)  # fill with False\n"
     ]
    },
    {
     "name": "stdout",
     "output_type": "stream",
     "text": [
      "Data cleaned.\n",
      "Uploading data to the cloud...\n",
      "Checking if table exists...\n",
      "Deleting table wedgeproject-438019.wedgeproject.transarchive_201004_201006...\n",
      "Successfully loaded 3185807 rows into wedgeproject-438019.wedgeproject.transarchive_201004_201006\n",
      "Progress: 3.77%\n",
      "Found inner ZIP file: transArchive_201007_201009.zip\n",
      "Processing CSV file: transArchive_201007_201009.csv\n",
      "Detected delimiter: ,\n",
      "Has header: True\n",
      "[' ' 'CA' nan 'CC' 'CK' 'EF' 'IC' 'CP' 'EC' 'WC' 'GD']\n",
      "Cleaning data...\n"
     ]
    },
    {
     "name": "stderr",
     "output_type": "stream",
     "text": [
      "c:\\Users\\thaefele31\\Documents\\ADA\\Assignments\\WedgeProject\\data_functions.py:14: FutureWarning: Downcasting object dtype arrays on .fillna, .ffill, .bfill is deprecated and will change in a future version. Call result.infer_objects(copy=False) instead. To opt-in to the future behavior, set `pd.set_option('future.no_silent_downcasting', True)`\n",
      "  df['memType'] = df['memType'].fillna(False)  # fill with False\n",
      "c:\\Users\\thaefele31\\Documents\\ADA\\Assignments\\WedgeProject\\data_functions.py:16: FutureWarning: Downcasting object dtype arrays on .fillna, .ffill, .bfill is deprecated and will change in a future version. Call result.infer_objects(copy=False) instead. To opt-in to the future behavior, set `pd.set_option('future.no_silent_downcasting', True)`\n",
      "  df['batchHeaderID'] = df['batchHeaderID'].fillna(False)  # fill with False\n",
      "c:\\Users\\thaefele31\\Documents\\ADA\\Assignments\\WedgeProject\\data_functions.py:17: FutureWarning: Downcasting object dtype arrays on .fillna, .ffill, .bfill is deprecated and will change in a future version. Call result.infer_objects(copy=False) instead. To opt-in to the future behavior, set `pd.set_option('future.no_silent_downcasting', True)`\n",
      "  df['display'] = df['display'].fillna(False)  # fill with False\n"
     ]
    },
    {
     "name": "stdout",
     "output_type": "stream",
     "text": [
      "Data cleaned.\n",
      "Uploading data to the cloud...\n",
      "Checking if table exists...\n",
      "Deleting table wedgeproject-438019.wedgeproject.transarchive_201007_201009...\n",
      "Successfully loaded 2992585 rows into wedgeproject-438019.wedgeproject.transarchive_201007_201009\n",
      "Progress: 5.66%\n",
      "Found inner ZIP file: transArchive_201010_201012.zip\n",
      "Processing CSV file: transArchive_201010_201012.csv\n",
      "Detected delimiter: ,\n",
      "Has header: True\n"
     ]
    },
    {
     "name": "stderr",
     "output_type": "stream",
     "text": [
      "C:\\Users\\thaefele31\\AppData\\Local\\Temp\\ipykernel_10260\\3962641384.py:51: DtypeWarning: Columns (43) have mixed types. Specify dtype option on import or set low_memory=False.\n",
      "  df = pd.read_csv(csv_file, delimiter=delimiter)\n"
     ]
    },
    {
     "name": "stdout",
     "output_type": "stream",
     "text": [
      "[' ' 'CC' 'CA' 'CK' 'IC' 'CP' 'WC' 'GD' 'EC' 'EF' 'MI' 'GM']\n",
      "Cleaning data...\n"
     ]
    },
    {
     "name": "stderr",
     "output_type": "stream",
     "text": [
      "c:\\Users\\thaefele31\\Documents\\ADA\\Assignments\\WedgeProject\\data_functions.py:14: FutureWarning: Downcasting object dtype arrays on .fillna, .ffill, .bfill is deprecated and will change in a future version. Call result.infer_objects(copy=False) instead. To opt-in to the future behavior, set `pd.set_option('future.no_silent_downcasting', True)`\n",
      "  df['memType'] = df['memType'].fillna(False)  # fill with False\n",
      "c:\\Users\\thaefele31\\Documents\\ADA\\Assignments\\WedgeProject\\data_functions.py:16: FutureWarning: Downcasting object dtype arrays on .fillna, .ffill, .bfill is deprecated and will change in a future version. Call result.infer_objects(copy=False) instead. To opt-in to the future behavior, set `pd.set_option('future.no_silent_downcasting', True)`\n",
      "  df['batchHeaderID'] = df['batchHeaderID'].fillna(False)  # fill with False\n"
     ]
    },
    {
     "name": "stdout",
     "output_type": "stream",
     "text": [
      "Data cleaned.\n",
      "Uploading data to the cloud...\n",
      "Checking if table exists...\n",
      "Deleting table wedgeproject-438019.wedgeproject.transarchive_201010_201012...\n",
      "Successfully loaded 2957586 rows into wedgeproject-438019.wedgeproject.transarchive_201010_201012\n",
      "Progress: 7.55%\n",
      "Found inner ZIP file: transArchive_201101_201103.zip\n",
      "Processing CSV file: transArchive_201101_201103.csv\n",
      "Detected delimiter: ,\n",
      "Has header: True\n",
      "[' ' 'CA' 'CC' 'WC' 'CK' 'EF' 'EC' 'CP' 'GD' 'IC' 'GM']\n",
      "Cleaning data...\n"
     ]
    },
    {
     "name": "stderr",
     "output_type": "stream",
     "text": [
      "c:\\Users\\thaefele31\\Documents\\ADA\\Assignments\\WedgeProject\\data_functions.py:14: FutureWarning: Downcasting object dtype arrays on .fillna, .ffill, .bfill is deprecated and will change in a future version. Call result.infer_objects(copy=False) instead. To opt-in to the future behavior, set `pd.set_option('future.no_silent_downcasting', True)`\n",
      "  df['memType'] = df['memType'].fillna(False)  # fill with False\n",
      "c:\\Users\\thaefele31\\Documents\\ADA\\Assignments\\WedgeProject\\data_functions.py:15: FutureWarning: Downcasting object dtype arrays on .fillna, .ffill, .bfill is deprecated and will change in a future version. Call result.infer_objects(copy=False) instead. To opt-in to the future behavior, set `pd.set_option('future.no_silent_downcasting', True)`\n",
      "  df['staff'] = df['staff'].fillna(False)      # fill with False\n",
      "c:\\Users\\thaefele31\\Documents\\ADA\\Assignments\\WedgeProject\\data_functions.py:16: FutureWarning: Downcasting object dtype arrays on .fillna, .ffill, .bfill is deprecated and will change in a future version. Call result.infer_objects(copy=False) instead. To opt-in to the future behavior, set `pd.set_option('future.no_silent_downcasting', True)`\n",
      "  df['batchHeaderID'] = df['batchHeaderID'].fillna(False)  # fill with False\n"
     ]
    },
    {
     "name": "stdout",
     "output_type": "stream",
     "text": [
      "Data cleaned.\n",
      "Uploading data to the cloud...\n",
      "Checking if table exists...\n",
      "Deleting table wedgeproject-438019.wedgeproject.transarchive_201101_201103...\n",
      "Successfully loaded 2920826 rows into wedgeproject-438019.wedgeproject.transarchive_201101_201103\n",
      "Progress: 9.43%\n",
      "Found inner ZIP file: transArchive_201104.zip\n",
      "Processing CSV file: transArchive_201104.csv\n",
      "Detected delimiter: ,\n",
      "Has header: True\n",
      "[' ' 'CC' 'CA' 'CK' 'GD' 'EF' 'CP' 'EC' 'WC' 'IC']\n",
      "Cleaning data...\n"
     ]
    },
    {
     "name": "stderr",
     "output_type": "stream",
     "text": [
      "c:\\Users\\thaefele31\\Documents\\ADA\\Assignments\\WedgeProject\\data_functions.py:14: FutureWarning: Downcasting object dtype arrays on .fillna, .ffill, .bfill is deprecated and will change in a future version. Call result.infer_objects(copy=False) instead. To opt-in to the future behavior, set `pd.set_option('future.no_silent_downcasting', True)`\n",
      "  df['memType'] = df['memType'].fillna(False)  # fill with False\n",
      "c:\\Users\\thaefele31\\Documents\\ADA\\Assignments\\WedgeProject\\data_functions.py:15: FutureWarning: Downcasting object dtype arrays on .fillna, .ffill, .bfill is deprecated and will change in a future version. Call result.infer_objects(copy=False) instead. To opt-in to the future behavior, set `pd.set_option('future.no_silent_downcasting', True)`\n",
      "  df['staff'] = df['staff'].fillna(False)      # fill with False\n",
      "c:\\Users\\thaefele31\\Documents\\ADA\\Assignments\\WedgeProject\\data_functions.py:16: FutureWarning: Downcasting object dtype arrays on .fillna, .ffill, .bfill is deprecated and will change in a future version. Call result.infer_objects(copy=False) instead. To opt-in to the future behavior, set `pd.set_option('future.no_silent_downcasting', True)`\n",
      "  df['batchHeaderID'] = df['batchHeaderID'].fillna(False)  # fill with False\n"
     ]
    },
    {
     "name": "stdout",
     "output_type": "stream",
     "text": [
      "Data cleaned.\n",
      "Uploading data to the cloud...\n",
      "Checking if table exists...\n",
      "Deleting table wedgeproject-438019.wedgeproject.transarchive_201104...\n",
      "Successfully loaded 1066334 rows into wedgeproject-438019.wedgeproject.transarchive_201104\n",
      "Progress: 11.32%\n",
      "Found inner ZIP file: transArchive_201105.zip\n",
      "Processing CSV file: transArchive_201105.csv\n",
      "Detected delimiter: ,\n",
      "Has header: True\n",
      "[' ' 'CA' 'CC' 'CP' 'EF' 'WC' 'EC' 'CK' 'GD' 'IC']\n",
      "Cleaning data...\n"
     ]
    },
    {
     "name": "stderr",
     "output_type": "stream",
     "text": [
      "c:\\Users\\thaefele31\\Documents\\ADA\\Assignments\\WedgeProject\\data_functions.py:14: FutureWarning: Downcasting object dtype arrays on .fillna, .ffill, .bfill is deprecated and will change in a future version. Call result.infer_objects(copy=False) instead. To opt-in to the future behavior, set `pd.set_option('future.no_silent_downcasting', True)`\n",
      "  df['memType'] = df['memType'].fillna(False)  # fill with False\n",
      "c:\\Users\\thaefele31\\Documents\\ADA\\Assignments\\WedgeProject\\data_functions.py:15: FutureWarning: Downcasting object dtype arrays on .fillna, .ffill, .bfill is deprecated and will change in a future version. Call result.infer_objects(copy=False) instead. To opt-in to the future behavior, set `pd.set_option('future.no_silent_downcasting', True)`\n",
      "  df['staff'] = df['staff'].fillna(False)      # fill with False\n",
      "c:\\Users\\thaefele31\\Documents\\ADA\\Assignments\\WedgeProject\\data_functions.py:16: FutureWarning: Downcasting object dtype arrays on .fillna, .ffill, .bfill is deprecated and will change in a future version. Call result.infer_objects(copy=False) instead. To opt-in to the future behavior, set `pd.set_option('future.no_silent_downcasting', True)`\n",
      "  df['batchHeaderID'] = df['batchHeaderID'].fillna(False)  # fill with False\n"
     ]
    },
    {
     "name": "stdout",
     "output_type": "stream",
     "text": [
      "Data cleaned.\n",
      "Uploading data to the cloud...\n",
      "Checking if table exists...\n",
      "Deleting table wedgeproject-438019.wedgeproject.transarchive_201105...\n",
      "Successfully loaded 1068515 rows into wedgeproject-438019.wedgeproject.transarchive_201105\n",
      "Progress: 13.21%\n",
      "Found inner ZIP file: transArchive_201106.zip\n",
      "Processing CSV file: transArchive_201106.csv\n",
      "Detected delimiter: ,\n",
      "Has header: True\n",
      "[' ' 'CA' 'CC' 'CK' 'EC' 'EF' 'GD' 'CP' 'WC' 'IC' 'GM']\n",
      "Cleaning data...\n"
     ]
    },
    {
     "name": "stderr",
     "output_type": "stream",
     "text": [
      "c:\\Users\\thaefele31\\Documents\\ADA\\Assignments\\WedgeProject\\data_functions.py:15: FutureWarning: Downcasting object dtype arrays on .fillna, .ffill, .bfill is deprecated and will change in a future version. Call result.infer_objects(copy=False) instead. To opt-in to the future behavior, set `pd.set_option('future.no_silent_downcasting', True)`\n",
      "  df['staff'] = df['staff'].fillna(False)      # fill with False\n",
      "c:\\Users\\thaefele31\\Documents\\ADA\\Assignments\\WedgeProject\\data_functions.py:16: FutureWarning: Downcasting object dtype arrays on .fillna, .ffill, .bfill is deprecated and will change in a future version. Call result.infer_objects(copy=False) instead. To opt-in to the future behavior, set `pd.set_option('future.no_silent_downcasting', True)`\n",
      "  df['batchHeaderID'] = df['batchHeaderID'].fillna(False)  # fill with False\n"
     ]
    },
    {
     "name": "stdout",
     "output_type": "stream",
     "text": [
      "Data cleaned.\n",
      "Uploading data to the cloud...\n",
      "Checking if table exists...\n",
      "Deleting table wedgeproject-438019.wedgeproject.transarchive_201106...\n",
      "Successfully loaded 992906 rows into wedgeproject-438019.wedgeproject.transarchive_201106\n",
      "Progress: 15.09%\n",
      "Found inner ZIP file: transArchive_201107_201109.zip\n",
      "Processing CSV file: transArchive_201107_201109.csv\n",
      "Detected delimiter: ,\n",
      "Has header: True\n",
      "[' ' 'CC' 'CA' 'CK' 'WC' 'CP' 'EF' 'EC' 'GD' 'IC' 'GM']\n",
      "Cleaning data...\n"
     ]
    },
    {
     "name": "stderr",
     "output_type": "stream",
     "text": [
      "c:\\Users\\thaefele31\\Documents\\ADA\\Assignments\\WedgeProject\\data_functions.py:14: FutureWarning: Downcasting object dtype arrays on .fillna, .ffill, .bfill is deprecated and will change in a future version. Call result.infer_objects(copy=False) instead. To opt-in to the future behavior, set `pd.set_option('future.no_silent_downcasting', True)`\n",
      "  df['memType'] = df['memType'].fillna(False)  # fill with False\n",
      "c:\\Users\\thaefele31\\Documents\\ADA\\Assignments\\WedgeProject\\data_functions.py:15: FutureWarning: Downcasting object dtype arrays on .fillna, .ffill, .bfill is deprecated and will change in a future version. Call result.infer_objects(copy=False) instead. To opt-in to the future behavior, set `pd.set_option('future.no_silent_downcasting', True)`\n",
      "  df['staff'] = df['staff'].fillna(False)      # fill with False\n",
      "c:\\Users\\thaefele31\\Documents\\ADA\\Assignments\\WedgeProject\\data_functions.py:16: FutureWarning: Downcasting object dtype arrays on .fillna, .ffill, .bfill is deprecated and will change in a future version. Call result.infer_objects(copy=False) instead. To opt-in to the future behavior, set `pd.set_option('future.no_silent_downcasting', True)`\n",
      "  df['batchHeaderID'] = df['batchHeaderID'].fillna(False)  # fill with False\n"
     ]
    },
    {
     "name": "stdout",
     "output_type": "stream",
     "text": [
      "Data cleaned.\n",
      "Uploading data to the cloud...\n",
      "Checking if table exists...\n",
      "Deleting table wedgeproject-438019.wedgeproject.transarchive_201107_201109...\n",
      "Successfully loaded 3011935 rows into wedgeproject-438019.wedgeproject.transarchive_201107_201109\n",
      "Progress: 16.98%\n",
      "Found inner ZIP file: transArchive_201110_201112.zip\n",
      "Processing CSV file: transArchive_201110_201112.csv\n",
      "Detected delimiter: ,\n",
      "Has header: True\n",
      "[' ' 'CA' 'CC' 'WC' 'CP' 'EF' 'CK' 'IC' 'EC' 'GD' nan 'GM']\n",
      "Cleaning data...\n"
     ]
    },
    {
     "name": "stderr",
     "output_type": "stream",
     "text": [
      "c:\\Users\\thaefele31\\Documents\\ADA\\Assignments\\WedgeProject\\data_functions.py:14: FutureWarning: Downcasting object dtype arrays on .fillna, .ffill, .bfill is deprecated and will change in a future version. Call result.infer_objects(copy=False) instead. To opt-in to the future behavior, set `pd.set_option('future.no_silent_downcasting', True)`\n",
      "  df['memType'] = df['memType'].fillna(False)  # fill with False\n",
      "c:\\Users\\thaefele31\\Documents\\ADA\\Assignments\\WedgeProject\\data_functions.py:15: FutureWarning: Downcasting object dtype arrays on .fillna, .ffill, .bfill is deprecated and will change in a future version. Call result.infer_objects(copy=False) instead. To opt-in to the future behavior, set `pd.set_option('future.no_silent_downcasting', True)`\n",
      "  df['staff'] = df['staff'].fillna(False)      # fill with False\n",
      "c:\\Users\\thaefele31\\Documents\\ADA\\Assignments\\WedgeProject\\data_functions.py:16: FutureWarning: Downcasting object dtype arrays on .fillna, .ffill, .bfill is deprecated and will change in a future version. Call result.infer_objects(copy=False) instead. To opt-in to the future behavior, set `pd.set_option('future.no_silent_downcasting', True)`\n",
      "  df['batchHeaderID'] = df['batchHeaderID'].fillna(False)  # fill with False\n"
     ]
    },
    {
     "name": "stdout",
     "output_type": "stream",
     "text": [
      "Data cleaned.\n",
      "Uploading data to the cloud...\n",
      "Checking if table exists...\n",
      "Deleting table wedgeproject-438019.wedgeproject.transarchive_201110_201112...\n",
      "Successfully loaded 3121117 rows into wedgeproject-438019.wedgeproject.transarchive_201110_201112\n",
      "Progress: 18.87%\n",
      "Found inner ZIP file: transArchive_201201_201203.zip\n",
      "Processing CSV file: transArchive_201201_201203.csv\n",
      "Detected delimiter: ,\n",
      "Has header: True\n",
      "[' ' 'CA' 'CX' 'CC' 'CK' 'EF' 'CP' 'WC' 'GD' 'IC' 'EC' 'GM' 'MI']\n",
      "Cleaning data...\n"
     ]
    },
    {
     "name": "stderr",
     "output_type": "stream",
     "text": [
      "c:\\Users\\thaefele31\\Documents\\ADA\\Assignments\\WedgeProject\\data_functions.py:14: FutureWarning: Downcasting object dtype arrays on .fillna, .ffill, .bfill is deprecated and will change in a future version. Call result.infer_objects(copy=False) instead. To opt-in to the future behavior, set `pd.set_option('future.no_silent_downcasting', True)`\n",
      "  df['memType'] = df['memType'].fillna(False)  # fill with False\n",
      "c:\\Users\\thaefele31\\Documents\\ADA\\Assignments\\WedgeProject\\data_functions.py:15: FutureWarning: Downcasting object dtype arrays on .fillna, .ffill, .bfill is deprecated and will change in a future version. Call result.infer_objects(copy=False) instead. To opt-in to the future behavior, set `pd.set_option('future.no_silent_downcasting', True)`\n",
      "  df['staff'] = df['staff'].fillna(False)      # fill with False\n",
      "c:\\Users\\thaefele31\\Documents\\ADA\\Assignments\\WedgeProject\\data_functions.py:16: FutureWarning: Downcasting object dtype arrays on .fillna, .ffill, .bfill is deprecated and will change in a future version. Call result.infer_objects(copy=False) instead. To opt-in to the future behavior, set `pd.set_option('future.no_silent_downcasting', True)`\n",
      "  df['batchHeaderID'] = df['batchHeaderID'].fillna(False)  # fill with False\n"
     ]
    },
    {
     "name": "stdout",
     "output_type": "stream",
     "text": [
      "Data cleaned.\n",
      "Uploading data to the cloud...\n",
      "Checking if table exists...\n",
      "Deleting table wedgeproject-438019.wedgeproject.transarchive_201201_201203...\n",
      "Successfully loaded 2989644 rows into wedgeproject-438019.wedgeproject.transarchive_201201_201203\n",
      "Progress: 20.75%\n",
      "Found inner ZIP file: transArchive_201201_201203_inactive.zip\n",
      "Processing CSV file: transArchive_201201_201203_inactive.csv\n",
      "Detected delimiter: ;\n",
      "Has header: True\n"
     ]
    },
    {
     "name": "stderr",
     "output_type": "stream",
     "text": [
      "C:\\Users\\thaefele31\\AppData\\Local\\Temp\\ipykernel_10260\\3962641384.py:51: DtypeWarning: Columns (42) have mixed types. Specify dtype option on import or set low_memory=False.\n",
      "  df = pd.read_csv(csv_file, delimiter=delimiter)\n"
     ]
    },
    {
     "name": "stdout",
     "output_type": "stream",
     "text": [
      "[' ' 'CC' 'CA' 'CP' 'IC' 'GD' 'GM' 'CK' 'EF' 'EC' 'WC']\n",
      "Cleaning data...\n"
     ]
    },
    {
     "name": "stderr",
     "output_type": "stream",
     "text": [
      "c:\\Users\\thaefele31\\Documents\\ADA\\Assignments\\WedgeProject\\data_functions.py:14: FutureWarning: Downcasting object dtype arrays on .fillna, .ffill, .bfill is deprecated and will change in a future version. Call result.infer_objects(copy=False) instead. To opt-in to the future behavior, set `pd.set_option('future.no_silent_downcasting', True)`\n",
      "  df['memType'] = df['memType'].fillna(False)  # fill with False\n"
     ]
    },
    {
     "name": "stdout",
     "output_type": "stream",
     "text": [
      "Data cleaned.\n",
      "Uploading data to the cloud...\n",
      "Checking if table exists...\n",
      "Deleting table wedgeproject-438019.wedgeproject.transarchive_201201_201203_inactive...\n",
      "Successfully loaded 245772 rows into wedgeproject-438019.wedgeproject.transarchive_201201_201203_inactive\n",
      "Progress: 22.64%\n",
      "Found inner ZIP file: transArchive_201204_201206.zip\n",
      "Processing CSV file: transArchive_201204_201206.csv\n",
      "Detected delimiter: ,\n",
      "Has header: True\n"
     ]
    },
    {
     "name": "stderr",
     "output_type": "stream",
     "text": [
      "C:\\Users\\thaefele31\\AppData\\Local\\Temp\\ipykernel_10260\\3962641384.py:51: DtypeWarning: Columns (33) have mixed types. Specify dtype option on import or set low_memory=False.\n",
      "  df = pd.read_csv(csv_file, delimiter=delimiter)\n"
     ]
    },
    {
     "name": "stdout",
     "output_type": "stream",
     "text": [
      "[' ' 'CX' 'CA' 'CC' 'WC' 'CK' 'CP' 'EF' 'GD' 'IC' 'EC' 'GM']\n",
      "Cleaning data...\n"
     ]
    },
    {
     "name": "stderr",
     "output_type": "stream",
     "text": [
      "c:\\Users\\thaefele31\\Documents\\ADA\\Assignments\\WedgeProject\\data_functions.py:16: FutureWarning: Downcasting object dtype arrays on .fillna, .ffill, .bfill is deprecated and will change in a future version. Call result.infer_objects(copy=False) instead. To opt-in to the future behavior, set `pd.set_option('future.no_silent_downcasting', True)`\n",
      "  df['batchHeaderID'] = df['batchHeaderID'].fillna(False)  # fill with False\n"
     ]
    },
    {
     "name": "stdout",
     "output_type": "stream",
     "text": [
      "Data cleaned.\n",
      "Uploading data to the cloud...\n",
      "Checking if table exists...\n",
      "Deleting table wedgeproject-438019.wedgeproject.transarchive_201204_201206...\n",
      "Successfully loaded 3083546 rows into wedgeproject-438019.wedgeproject.transarchive_201204_201206\n",
      "Progress: 24.53%\n",
      "Found inner ZIP file: transArchive_201204_201206_inactive.zip\n",
      "Processing CSV file: transArchive_201204_201206_inactive.csv\n",
      "Detected delimiter: ;\n",
      "Has header: True\n"
     ]
    },
    {
     "name": "stderr",
     "output_type": "stream",
     "text": [
      "C:\\Users\\thaefele31\\AppData\\Local\\Temp\\ipykernel_10260\\3962641384.py:51: DtypeWarning: Columns (42) have mixed types. Specify dtype option on import or set low_memory=False.\n",
      "  df = pd.read_csv(csv_file, delimiter=delimiter)\n"
     ]
    },
    {
     "name": "stdout",
     "output_type": "stream",
     "text": [
      "[' ' 'CC' 'CA' 'CK' 'CP' 'EF' 'IC' 'V' 'WC' 'GD' 'EC' 'GM']\n",
      "Cleaning data...\n"
     ]
    },
    {
     "name": "stderr",
     "output_type": "stream",
     "text": [
      "c:\\Users\\thaefele31\\Documents\\ADA\\Assignments\\WedgeProject\\data_functions.py:14: FutureWarning: Downcasting object dtype arrays on .fillna, .ffill, .bfill is deprecated and will change in a future version. Call result.infer_objects(copy=False) instead. To opt-in to the future behavior, set `pd.set_option('future.no_silent_downcasting', True)`\n",
      "  df['memType'] = df['memType'].fillna(False)  # fill with False\n"
     ]
    },
    {
     "name": "stdout",
     "output_type": "stream",
     "text": [
      "Data cleaned.\n",
      "Uploading data to the cloud...\n",
      "Checking if table exists...\n",
      "Deleting table wedgeproject-438019.wedgeproject.transarchive_201204_201206_inactive...\n",
      "Successfully loaded 237990 rows into wedgeproject-438019.wedgeproject.transarchive_201204_201206_inactive\n",
      "Progress: 26.42%\n",
      "Found inner ZIP file: transArchive_201207_201209.zip\n",
      "Processing CSV file: transArchive_201207_201209.csv\n",
      "Detected delimiter: ,\n",
      "Has header: True\n"
     ]
    },
    {
     "name": "stderr",
     "output_type": "stream",
     "text": [
      "C:\\Users\\thaefele31\\AppData\\Local\\Temp\\ipykernel_10260\\3962641384.py:51: DtypeWarning: Columns (33) have mixed types. Specify dtype option on import or set low_memory=False.\n",
      "  df = pd.read_csv(csv_file, delimiter=delimiter)\n"
     ]
    },
    {
     "name": "stdout",
     "output_type": "stream",
     "text": [
      "[' ' 'CA' 'CX' 'EC' 'CC' 'WC' 'CK' 'IC' 'CP' 'EF' 'GD' 'GM' nan]\n",
      "Cleaning data...\n"
     ]
    },
    {
     "name": "stderr",
     "output_type": "stream",
     "text": [
      "c:\\Users\\thaefele31\\Documents\\ADA\\Assignments\\WedgeProject\\data_functions.py:16: FutureWarning: Downcasting object dtype arrays on .fillna, .ffill, .bfill is deprecated and will change in a future version. Call result.infer_objects(copy=False) instead. To opt-in to the future behavior, set `pd.set_option('future.no_silent_downcasting', True)`\n",
      "  df['batchHeaderID'] = df['batchHeaderID'].fillna(False)  # fill with False\n"
     ]
    },
    {
     "name": "stdout",
     "output_type": "stream",
     "text": [
      "Data cleaned.\n",
      "Uploading data to the cloud...\n",
      "Checking if table exists...\n",
      "Deleting table wedgeproject-438019.wedgeproject.transarchive_201207_201209...\n",
      "Successfully loaded 2925608 rows into wedgeproject-438019.wedgeproject.transarchive_201207_201209\n",
      "Progress: 28.30%\n",
      "Found inner ZIP file: transArchive_201207_201209_inactive.zip\n",
      "Processing CSV file: transArchive_201207_201209_inactive.csv\n",
      "Detected delimiter: ;\n",
      "Has header: True\n"
     ]
    },
    {
     "name": "stderr",
     "output_type": "stream",
     "text": [
      "C:\\Users\\thaefele31\\AppData\\Local\\Temp\\ipykernel_10260\\3962641384.py:51: DtypeWarning: Columns (33,42) have mixed types. Specify dtype option on import or set low_memory=False.\n",
      "  df = pd.read_csv(csv_file, delimiter=delimiter)\n"
     ]
    },
    {
     "name": "stdout",
     "output_type": "stream",
     "text": [
      "[' ' 'CC' 'CA' 'EF' 'CP' 'WC' 'CK' 'GD' 'IC' 'EC']\n",
      "Cleaning data...\n",
      "Data cleaned.\n",
      "Uploading data to the cloud...\n",
      "Checking if table exists...\n",
      "Deleting table wedgeproject-438019.wedgeproject.transarchive_201207_201209_inactive...\n",
      "Successfully loaded 190877 rows into wedgeproject-438019.wedgeproject.transarchive_201207_201209_inactive\n",
      "Progress: 30.19%\n",
      "Found inner ZIP file: transArchive_201210_201212.zip\n",
      "Processing CSV file: transArchive_201210_201212.csv\n",
      "Detected delimiter: ,\n",
      "Has header: True\n"
     ]
    },
    {
     "name": "stderr",
     "output_type": "stream",
     "text": [
      "C:\\Users\\thaefele31\\AppData\\Local\\Temp\\ipykernel_10260\\3962641384.py:51: DtypeWarning: Columns (33) have mixed types. Specify dtype option on import or set low_memory=False.\n",
      "  df = pd.read_csv(csv_file, delimiter=delimiter)\n"
     ]
    },
    {
     "name": "stdout",
     "output_type": "stream",
     "text": [
      "[' ' 'CX' 'CA' 'CC' 'CP' 'EF' 'EC' 'CK' 'GD' 'WC' 'IC' 'GM' nan]\n",
      "Cleaning data...\n"
     ]
    },
    {
     "name": "stderr",
     "output_type": "stream",
     "text": [
      "c:\\Users\\thaefele31\\Documents\\ADA\\Assignments\\WedgeProject\\data_functions.py:16: FutureWarning: Downcasting object dtype arrays on .fillna, .ffill, .bfill is deprecated and will change in a future version. Call result.infer_objects(copy=False) instead. To opt-in to the future behavior, set `pd.set_option('future.no_silent_downcasting', True)`\n",
      "  df['batchHeaderID'] = df['batchHeaderID'].fillna(False)  # fill with False\n"
     ]
    },
    {
     "name": "stdout",
     "output_type": "stream",
     "text": [
      "Data cleaned.\n",
      "Uploading data to the cloud...\n",
      "Checking if table exists...\n",
      "Deleting table wedgeproject-438019.wedgeproject.transarchive_201210_201212...\n",
      "Successfully loaded 2893637 rows into wedgeproject-438019.wedgeproject.transarchive_201210_201212\n",
      "Progress: 32.08%\n",
      "Found inner ZIP file: transArchive_201210_201212_inactive.zip\n",
      "Processing CSV file: transArchive_201210_201212_inactive.csv\n",
      "Detected delimiter: ;\n",
      "Has header: True\n"
     ]
    },
    {
     "name": "stderr",
     "output_type": "stream",
     "text": [
      "C:\\Users\\thaefele31\\AppData\\Local\\Temp\\ipykernel_10260\\3962641384.py:51: DtypeWarning: Columns (33,42) have mixed types. Specify dtype option on import or set low_memory=False.\n",
      "  df = pd.read_csv(csv_file, delimiter=delimiter)\n"
     ]
    },
    {
     "name": "stdout",
     "output_type": "stream",
     "text": [
      "[' ' 'CA' 'CC' 'EF' 'WC' 'CP' 'CK' 'IC' 'EC' 'GD' 'V']\n",
      "Cleaning data...\n",
      "Data cleaned.\n",
      "Uploading data to the cloud...\n",
      "Checking if table exists...\n",
      "Deleting table wedgeproject-438019.wedgeproject.transarchive_201210_201212_inactive...\n",
      "Successfully loaded 162988 rows into wedgeproject-438019.wedgeproject.transarchive_201210_201212_inactive\n",
      "Progress: 33.96%\n",
      "Found inner ZIP file: transArchive_201301_201303.zip\n",
      "Processing CSV file: transArchive_201301_201303.csv\n",
      "Detected delimiter: ,\n",
      "Has header: True\n"
     ]
    },
    {
     "name": "stderr",
     "output_type": "stream",
     "text": [
      "C:\\Users\\thaefele31\\AppData\\Local\\Temp\\ipykernel_10260\\3962641384.py:51: DtypeWarning: Columns (33) have mixed types. Specify dtype option on import or set low_memory=False.\n",
      "  df = pd.read_csv(csv_file, delimiter=delimiter)\n"
     ]
    },
    {
     "name": "stdout",
     "output_type": "stream",
     "text": [
      "[' ' 'CX' 'CA' 'CC' 'CK' 'EF' 'WC' 'CP' 'IC' 'GD' 'GM' 'EC' nan]\n",
      "Cleaning data...\n"
     ]
    },
    {
     "name": "stderr",
     "output_type": "stream",
     "text": [
      "c:\\Users\\thaefele31\\Documents\\ADA\\Assignments\\WedgeProject\\data_functions.py:16: FutureWarning: Downcasting object dtype arrays on .fillna, .ffill, .bfill is deprecated and will change in a future version. Call result.infer_objects(copy=False) instead. To opt-in to the future behavior, set `pd.set_option('future.no_silent_downcasting', True)`\n",
      "  df['batchHeaderID'] = df['batchHeaderID'].fillna(False)  # fill with False\n"
     ]
    },
    {
     "name": "stdout",
     "output_type": "stream",
     "text": [
      "Data cleaned.\n",
      "Uploading data to the cloud...\n",
      "Checking if table exists...\n",
      "Deleting table wedgeproject-438019.wedgeproject.transarchive_201301_201303...\n",
      "Successfully loaded 2903987 rows into wedgeproject-438019.wedgeproject.transarchive_201301_201303\n",
      "Progress: 35.85%\n",
      "Found inner ZIP file: transArchive_201301_201303_inactive.zip\n",
      "Processing CSV file: transArchive_201301_201303_inactive.csv\n",
      "Detected delimiter: ;\n",
      "Has header: True\n"
     ]
    },
    {
     "name": "stderr",
     "output_type": "stream",
     "text": [
      "C:\\Users\\thaefele31\\AppData\\Local\\Temp\\ipykernel_10260\\3962641384.py:51: DtypeWarning: Columns (33,42) have mixed types. Specify dtype option on import or set low_memory=False.\n",
      "  df = pd.read_csv(csv_file, delimiter=delimiter)\n"
     ]
    },
    {
     "name": "stdout",
     "output_type": "stream",
     "text": [
      "[' ' 'CA' 'CC' 'EF' 'CP' 'GD' 'IC' 'CK' 'WC' 'EC' 'V' 'GM']\n",
      "Cleaning data...\n",
      "Data cleaned.\n",
      "Uploading data to the cloud...\n",
      "Checking if table exists...\n",
      "Deleting table wedgeproject-438019.wedgeproject.transarchive_201301_201303_inactive...\n",
      "Successfully loaded 148623 rows into wedgeproject-438019.wedgeproject.transarchive_201301_201303_inactive\n",
      "Progress: 37.74%\n",
      "Found inner ZIP file: transArchive_201304_201306.zip\n",
      "Processing CSV file: transArchive_201304_201306.csv\n",
      "Detected delimiter: ,\n",
      "Has header: True\n"
     ]
    },
    {
     "name": "stderr",
     "output_type": "stream",
     "text": [
      "C:\\Users\\thaefele31\\AppData\\Local\\Temp\\ipykernel_10260\\3962641384.py:51: DtypeWarning: Columns (33) have mixed types. Specify dtype option on import or set low_memory=False.\n",
      "  df = pd.read_csv(csv_file, delimiter=delimiter)\n"
     ]
    },
    {
     "name": "stdout",
     "output_type": "stream",
     "text": [
      "[' ' 'CA' 'CX' 'CC' 'CP' 'CK' 'EC' 'WC' 'GD' 'IC' 'EF' 'GM']\n",
      "Cleaning data...\n"
     ]
    },
    {
     "name": "stderr",
     "output_type": "stream",
     "text": [
      "c:\\Users\\thaefele31\\Documents\\ADA\\Assignments\\WedgeProject\\data_functions.py:16: FutureWarning: Downcasting object dtype arrays on .fillna, .ffill, .bfill is deprecated and will change in a future version. Call result.infer_objects(copy=False) instead. To opt-in to the future behavior, set `pd.set_option('future.no_silent_downcasting', True)`\n",
      "  df['batchHeaderID'] = df['batchHeaderID'].fillna(False)  # fill with False\n"
     ]
    },
    {
     "name": "stdout",
     "output_type": "stream",
     "text": [
      "Data cleaned.\n",
      "Uploading data to the cloud...\n",
      "Checking if table exists...\n",
      "Deleting table wedgeproject-438019.wedgeproject.transarchive_201304_201306...\n",
      "Successfully loaded 3025434 rows into wedgeproject-438019.wedgeproject.transarchive_201304_201306\n",
      "Progress: 39.62%\n",
      "Found inner ZIP file: transArchive_201304_201306_inactive.zip\n",
      "Processing CSV file: transArchive_201304_201306_inactive.csv\n",
      "Detected delimiter: ;\n",
      "Has header: True\n"
     ]
    },
    {
     "name": "stderr",
     "output_type": "stream",
     "text": [
      "C:\\Users\\thaefele31\\AppData\\Local\\Temp\\ipykernel_10260\\3962641384.py:51: DtypeWarning: Columns (33,42) have mixed types. Specify dtype option on import or set low_memory=False.\n",
      "  df = pd.read_csv(csv_file, delimiter=delimiter)\n"
     ]
    },
    {
     "name": "stdout",
     "output_type": "stream",
     "text": [
      "[' ' 'CC' 'CA' 'WC' 'CP' 'EF' 'IC' 'CK' 'EC' 'GD' 'GM' 'V']\n",
      "Cleaning data...\n",
      "Data cleaned.\n",
      "Uploading data to the cloud...\n",
      "Checking if table exists...\n",
      "Deleting table wedgeproject-438019.wedgeproject.transarchive_201304_201306_inactive...\n",
      "Successfully loaded 137628 rows into wedgeproject-438019.wedgeproject.transarchive_201304_201306_inactive\n",
      "Progress: 41.51%\n",
      "Found inner ZIP file: transArchive_201307_201309.zip\n",
      "Processing CSV file: transArchive_201307_201309.csv\n",
      "Detected delimiter: ,\n",
      "Has header: True\n"
     ]
    },
    {
     "name": "stderr",
     "output_type": "stream",
     "text": [
      "C:\\Users\\thaefele31\\AppData\\Local\\Temp\\ipykernel_10260\\3962641384.py:51: DtypeWarning: Columns (33) have mixed types. Specify dtype option on import or set low_memory=False.\n",
      "  df = pd.read_csv(csv_file, delimiter=delimiter)\n"
     ]
    },
    {
     "name": "stdout",
     "output_type": "stream",
     "text": [
      "[' ' 'CX' 'CA' 'CC' 'EF' 'CP' 'CK' 'GD' 'WC' 'EC' 'IC' 'GM' nan]\n",
      "Cleaning data...\n"
     ]
    },
    {
     "name": "stderr",
     "output_type": "stream",
     "text": [
      "c:\\Users\\thaefele31\\Documents\\ADA\\Assignments\\WedgeProject\\data_functions.py:16: FutureWarning: Downcasting object dtype arrays on .fillna, .ffill, .bfill is deprecated and will change in a future version. Call result.infer_objects(copy=False) instead. To opt-in to the future behavior, set `pd.set_option('future.no_silent_downcasting', True)`\n",
      "  df['batchHeaderID'] = df['batchHeaderID'].fillna(False)  # fill with False\n"
     ]
    },
    {
     "name": "stdout",
     "output_type": "stream",
     "text": [
      "Data cleaned.\n",
      "Uploading data to the cloud...\n",
      "Checking if table exists...\n",
      "Deleting table wedgeproject-438019.wedgeproject.transarchive_201307_201309...\n",
      "Successfully loaded 2997135 rows into wedgeproject-438019.wedgeproject.transarchive_201307_201309\n",
      "Progress: 43.40%\n",
      "Found inner ZIP file: transArchive_201307_201309_inactive.zip\n",
      "Processing CSV file: transArchive_201307_201309_inactive.csv\n",
      "Detected delimiter: ;\n",
      "Has header: True\n"
     ]
    },
    {
     "name": "stderr",
     "output_type": "stream",
     "text": [
      "C:\\Users\\thaefele31\\AppData\\Local\\Temp\\ipykernel_10260\\3962641384.py:51: DtypeWarning: Columns (42) have mixed types. Specify dtype option on import or set low_memory=False.\n",
      "  df = pd.read_csv(csv_file, delimiter=delimiter)\n",
      "c:\\Users\\thaefele31\\Documents\\ADA\\Assignments\\WedgeProject\\data_functions.py:14: FutureWarning: Downcasting object dtype arrays on .fillna, .ffill, .bfill is deprecated and will change in a future version. Call result.infer_objects(copy=False) instead. To opt-in to the future behavior, set `pd.set_option('future.no_silent_downcasting', True)`\n",
      "  df['memType'] = df['memType'].fillna(False)  # fill with False\n"
     ]
    },
    {
     "name": "stdout",
     "output_type": "stream",
     "text": [
      "[' ' 'CC' 'CA' 'EC' 'EF' 'GD' 'WC' 'CP' 'IC' 'CK' 'GM']\n",
      "Cleaning data...\n",
      "Data cleaned.\n",
      "Uploading data to the cloud...\n",
      "Checking if table exists...\n",
      "Deleting table wedgeproject-438019.wedgeproject.transarchive_201307_201309_inactive...\n",
      "Successfully loaded 104468 rows into wedgeproject-438019.wedgeproject.transarchive_201307_201309_inactive\n",
      "Progress: 45.28%\n",
      "Found inner ZIP file: transArchive_201310_201312.zip\n",
      "Processing CSV file: transArchive_201310_201312.csv\n",
      "Detected delimiter: ,\n",
      "Has header: True\n"
     ]
    },
    {
     "name": "stderr",
     "output_type": "stream",
     "text": [
      "C:\\Users\\thaefele31\\AppData\\Local\\Temp\\ipykernel_10260\\3962641384.py:51: DtypeWarning: Columns (33,43) have mixed types. Specify dtype option on import or set low_memory=False.\n",
      "  df = pd.read_csv(csv_file, delimiter=delimiter)\n"
     ]
    },
    {
     "name": "stdout",
     "output_type": "stream",
     "text": [
      "[' ' 'CC' 'CX' 'CA' 'EF' 'WC' 'CP' 'EC' 'CK' 'IC' 'GD' 'GM' nan]\n",
      "Cleaning data...\n"
     ]
    },
    {
     "name": "stderr",
     "output_type": "stream",
     "text": [
      "c:\\Users\\thaefele31\\Documents\\ADA\\Assignments\\WedgeProject\\data_functions.py:16: FutureWarning: Downcasting object dtype arrays on .fillna, .ffill, .bfill is deprecated and will change in a future version. Call result.infer_objects(copy=False) instead. To opt-in to the future behavior, set `pd.set_option('future.no_silent_downcasting', True)`\n",
      "  df['batchHeaderID'] = df['batchHeaderID'].fillna(False)  # fill with False\n"
     ]
    },
    {
     "name": "stdout",
     "output_type": "stream",
     "text": [
      "Data cleaned.\n",
      "Uploading data to the cloud...\n",
      "Checking if table exists...\n",
      "Deleting table wedgeproject-438019.wedgeproject.transarchive_201310_201312...\n",
      "Successfully loaded 2922057 rows into wedgeproject-438019.wedgeproject.transarchive_201310_201312\n",
      "Progress: 47.17%\n",
      "Found inner ZIP file: transArchive_201310_201312_inactive.zip\n",
      "Processing CSV file: transArchive_201310_201312_inactive.csv\n",
      "Detected delimiter: ;\n",
      "Has header: True\n",
      "[' ' 'CA' 'CC' 'CP' 'CK' 'EC' 'EF' 'WC' 'GD' 'IC' 'R' nan]\n",
      "Cleaning data...\n"
     ]
    },
    {
     "name": "stderr",
     "output_type": "stream",
     "text": [
      "c:\\Users\\thaefele31\\Documents\\ADA\\Assignments\\WedgeProject\\data_functions.py:14: FutureWarning: Downcasting object dtype arrays on .fillna, .ffill, .bfill is deprecated and will change in a future version. Call result.infer_objects(copy=False) instead. To opt-in to the future behavior, set `pd.set_option('future.no_silent_downcasting', True)`\n",
      "  df['memType'] = df['memType'].fillna(False)  # fill with False\n"
     ]
    },
    {
     "name": "stdout",
     "output_type": "stream",
     "text": [
      "Data cleaned.\n",
      "Uploading data to the cloud...\n",
      "Checking if table exists...\n",
      "Deleting table wedgeproject-438019.wedgeproject.transarchive_201310_201312_inactive...\n",
      "Successfully loaded 79156 rows into wedgeproject-438019.wedgeproject.transarchive_201310_201312_inactive\n",
      "Progress: 49.06%\n",
      "Found inner ZIP file: transArchive_201401_201403.zip\n",
      "Processing CSV file: transArchive_201401_201403.csv\n",
      "Detected delimiter: ,\n",
      "Has header: True\n"
     ]
    },
    {
     "name": "stderr",
     "output_type": "stream",
     "text": [
      "C:\\Users\\thaefele31\\AppData\\Local\\Temp\\ipykernel_10260\\3962641384.py:51: DtypeWarning: Columns (33,43) have mixed types. Specify dtype option on import or set low_memory=False.\n",
      "  df = pd.read_csv(csv_file, delimiter=delimiter)\n"
     ]
    },
    {
     "name": "stdout",
     "output_type": "stream",
     "text": [
      "[nan 'CC' ' ' 'CA' 'GD' 'WC' 'IC' 'CP' 'CK' 'EF' 'EC' 'GM']\n",
      "Cleaning data...\n"
     ]
    },
    {
     "name": "stderr",
     "output_type": "stream",
     "text": [
      "c:\\Users\\thaefele31\\Documents\\ADA\\Assignments\\WedgeProject\\data_functions.py:16: FutureWarning: Downcasting object dtype arrays on .fillna, .ffill, .bfill is deprecated and will change in a future version. Call result.infer_objects(copy=False) instead. To opt-in to the future behavior, set `pd.set_option('future.no_silent_downcasting', True)`\n",
      "  df['batchHeaderID'] = df['batchHeaderID'].fillna(False)  # fill with False\n"
     ]
    },
    {
     "name": "stdout",
     "output_type": "stream",
     "text": [
      "Data cleaned.\n",
      "Uploading data to the cloud...\n",
      "Checking if table exists...\n",
      "Deleting table wedgeproject-438019.wedgeproject.transarchive_201401_201403...\n",
      "Successfully loaded 2916194 rows into wedgeproject-438019.wedgeproject.transarchive_201401_201403\n",
      "Progress: 50.94%\n",
      "Found inner ZIP file: transArchive_201401_201403_inactive.zip\n",
      "Processing CSV file: transArchive_201401_201403_inactive.csv\n",
      "Detected delimiter: ;\n",
      "Has header: True\n"
     ]
    },
    {
     "name": "stderr",
     "output_type": "stream",
     "text": [
      "C:\\Users\\thaefele31\\AppData\\Local\\Temp\\ipykernel_10260\\3962641384.py:51: DtypeWarning: Columns (43) have mixed types. Specify dtype option on import or set low_memory=False.\n",
      "  df = pd.read_csv(csv_file, delimiter=delimiter)\n"
     ]
    },
    {
     "name": "stdout",
     "output_type": "stream",
     "text": [
      "[' ' 'CC' 'CA' 'CK' 'IC' 'GD' 'EC' 'EF' 'CP' 'WC' nan 'GM']\n",
      "Cleaning data...\n"
     ]
    },
    {
     "name": "stderr",
     "output_type": "stream",
     "text": [
      "c:\\Users\\thaefele31\\Documents\\ADA\\Assignments\\WedgeProject\\data_functions.py:14: FutureWarning: Downcasting object dtype arrays on .fillna, .ffill, .bfill is deprecated and will change in a future version. Call result.infer_objects(copy=False) instead. To opt-in to the future behavior, set `pd.set_option('future.no_silent_downcasting', True)`\n",
      "  df['memType'] = df['memType'].fillna(False)  # fill with False\n"
     ]
    },
    {
     "name": "stdout",
     "output_type": "stream",
     "text": [
      "Data cleaned.\n",
      "Uploading data to the cloud...\n",
      "Checking if table exists...\n",
      "Deleting table wedgeproject-438019.wedgeproject.transarchive_201401_201403_inactive...\n",
      "Successfully loaded 52614 rows into wedgeproject-438019.wedgeproject.transarchive_201401_201403_inactive\n",
      "Progress: 52.83%\n",
      "Found inner ZIP file: transArchive_201404_201406.zip\n",
      "Processing CSV file: transArchive_201404_201406.csv\n",
      "Detected delimiter: ,\n",
      "Has header: True\n"
     ]
    },
    {
     "name": "stderr",
     "output_type": "stream",
     "text": [
      "C:\\Users\\thaefele31\\AppData\\Local\\Temp\\ipykernel_10260\\3962641384.py:51: DtypeWarning: Columns (33,43) have mixed types. Specify dtype option on import or set low_memory=False.\n",
      "  df = pd.read_csv(csv_file, delimiter=delimiter)\n"
     ]
    },
    {
     "name": "stdout",
     "output_type": "stream",
     "text": [
      "[' ' nan 'CA' 'CC' 'CK' 'EF' 'GD' 'CP' 'WC' 'IC' 'EC' 'GM']\n",
      "Cleaning data...\n"
     ]
    },
    {
     "name": "stderr",
     "output_type": "stream",
     "text": [
      "c:\\Users\\thaefele31\\Documents\\ADA\\Assignments\\WedgeProject\\data_functions.py:16: FutureWarning: Downcasting object dtype arrays on .fillna, .ffill, .bfill is deprecated and will change in a future version. Call result.infer_objects(copy=False) instead. To opt-in to the future behavior, set `pd.set_option('future.no_silent_downcasting', True)`\n",
      "  df['batchHeaderID'] = df['batchHeaderID'].fillna(False)  # fill with False\n"
     ]
    },
    {
     "name": "stdout",
     "output_type": "stream",
     "text": [
      "Data cleaned.\n",
      "Uploading data to the cloud...\n",
      "Checking if table exists...\n",
      "Deleting table wedgeproject-438019.wedgeproject.transarchive_201404_201406...\n",
      "Successfully loaded 3154267 rows into wedgeproject-438019.wedgeproject.transarchive_201404_201406\n",
      "Progress: 54.72%\n",
      "Found inner ZIP file: transArchive_201404_201406_inactive.zip\n",
      "Processing CSV file: transArchive_201404_201406_inactive.csv\n",
      "Detected delimiter: ;\n",
      "Has header: True\n",
      "[' ' 'CC' 'CA' nan 'CP' 'EC' 'EF' 'WC' 'IC' 'CK' 'GD']\n",
      "Cleaning data...\n"
     ]
    },
    {
     "name": "stderr",
     "output_type": "stream",
     "text": [
      "c:\\Users\\thaefele31\\Documents\\ADA\\Assignments\\WedgeProject\\data_functions.py:14: FutureWarning: Downcasting object dtype arrays on .fillna, .ffill, .bfill is deprecated and will change in a future version. Call result.infer_objects(copy=False) instead. To opt-in to the future behavior, set `pd.set_option('future.no_silent_downcasting', True)`\n",
      "  df['memType'] = df['memType'].fillna(False)  # fill with False\n"
     ]
    },
    {
     "name": "stdout",
     "output_type": "stream",
     "text": [
      "Data cleaned.\n",
      "Uploading data to the cloud...\n",
      "Checking if table exists...\n",
      "Deleting table wedgeproject-438019.wedgeproject.transarchive_201404_201406_inactive...\n",
      "Successfully loaded 49069 rows into wedgeproject-438019.wedgeproject.transarchive_201404_201406_inactive\n",
      "Progress: 56.60%\n",
      "Found inner ZIP file: transArchive_201407_201409.zip\n",
      "Processing CSV file: transArchive_201407_201409.csv\n",
      "Detected delimiter: ,\n",
      "Has header: True\n",
      "[' ' 'CA' nan 'CC' 'WC' 'IC' 'CP' 'EF' 'GD' 'CK' 'EC' 'GM']\n",
      "Cleaning data...\n"
     ]
    },
    {
     "name": "stderr",
     "output_type": "stream",
     "text": [
      "c:\\Users\\thaefele31\\Documents\\ADA\\Assignments\\WedgeProject\\data_functions.py:14: FutureWarning: Downcasting object dtype arrays on .fillna, .ffill, .bfill is deprecated and will change in a future version. Call result.infer_objects(copy=False) instead. To opt-in to the future behavior, set `pd.set_option('future.no_silent_downcasting', True)`\n",
      "  df['memType'] = df['memType'].fillna(False)  # fill with False\n",
      "c:\\Users\\thaefele31\\Documents\\ADA\\Assignments\\WedgeProject\\data_functions.py:16: FutureWarning: Downcasting object dtype arrays on .fillna, .ffill, .bfill is deprecated and will change in a future version. Call result.infer_objects(copy=False) instead. To opt-in to the future behavior, set `pd.set_option('future.no_silent_downcasting', True)`\n",
      "  df['batchHeaderID'] = df['batchHeaderID'].fillna(False)  # fill with False\n",
      "c:\\Users\\thaefele31\\Documents\\ADA\\Assignments\\WedgeProject\\data_functions.py:17: FutureWarning: Downcasting object dtype arrays on .fillna, .ffill, .bfill is deprecated and will change in a future version. Call result.infer_objects(copy=False) instead. To opt-in to the future behavior, set `pd.set_option('future.no_silent_downcasting', True)`\n",
      "  df['display'] = df['display'].fillna(False)  # fill with False\n"
     ]
    },
    {
     "name": "stdout",
     "output_type": "stream",
     "text": [
      "Data cleaned.\n",
      "Uploading data to the cloud...\n",
      "Checking if table exists...\n",
      "Deleting table wedgeproject-438019.wedgeproject.transarchive_201407_201409...\n",
      "Successfully loaded 3030409 rows into wedgeproject-438019.wedgeproject.transarchive_201407_201409\n",
      "Progress: 58.49%\n",
      "Found inner ZIP file: transArchive_201407_201409_inactive.zip\n",
      "Processing CSV file: transArchive_201407_201409_inactive.csv\n",
      "Detected delimiter: ;\n",
      "Has header: True\n",
      "[' ' 'CC' nan 'CA' 'CP' 'WC' 'EF' 'EC' 'IC' 'CK']\n",
      "Cleaning data...\n"
     ]
    },
    {
     "name": "stderr",
     "output_type": "stream",
     "text": [
      "c:\\Users\\thaefele31\\Documents\\ADA\\Assignments\\WedgeProject\\data_functions.py:14: FutureWarning: Downcasting object dtype arrays on .fillna, .ffill, .bfill is deprecated and will change in a future version. Call result.infer_objects(copy=False) instead. To opt-in to the future behavior, set `pd.set_option('future.no_silent_downcasting', True)`\n",
      "  df['memType'] = df['memType'].fillna(False)  # fill with False\n",
      "c:\\Users\\thaefele31\\Documents\\ADA\\Assignments\\WedgeProject\\data_functions.py:15: FutureWarning: Downcasting object dtype arrays on .fillna, .ffill, .bfill is deprecated and will change in a future version. Call result.infer_objects(copy=False) instead. To opt-in to the future behavior, set `pd.set_option('future.no_silent_downcasting', True)`\n",
      "  df['staff'] = df['staff'].fillna(False)      # fill with False\n",
      "c:\\Users\\thaefele31\\Documents\\ADA\\Assignments\\WedgeProject\\data_functions.py:16: FutureWarning: Downcasting object dtype arrays on .fillna, .ffill, .bfill is deprecated and will change in a future version. Call result.infer_objects(copy=False) instead. To opt-in to the future behavior, set `pd.set_option('future.no_silent_downcasting', True)`\n",
      "  df['batchHeaderID'] = df['batchHeaderID'].fillna(False)  # fill with False\n",
      "c:\\Users\\thaefele31\\Documents\\ADA\\Assignments\\WedgeProject\\data_functions.py:17: FutureWarning: Downcasting object dtype arrays on .fillna, .ffill, .bfill is deprecated and will change in a future version. Call result.infer_objects(copy=False) instead. To opt-in to the future behavior, set `pd.set_option('future.no_silent_downcasting', True)`\n",
      "  df['display'] = df['display'].fillna(False)  # fill with False\n"
     ]
    },
    {
     "name": "stdout",
     "output_type": "stream",
     "text": [
      "Data cleaned.\n",
      "Uploading data to the cloud...\n",
      "Checking if table exists...\n",
      "Deleting table wedgeproject-438019.wedgeproject.transarchive_201407_201409_inactive...\n",
      "Successfully loaded 28323 rows into wedgeproject-438019.wedgeproject.transarchive_201407_201409_inactive\n",
      "Progress: 60.38%\n",
      "Found inner ZIP file: transArchive_201410_201412.zip\n",
      "Processing CSV file: transArchive_201410_201412.csv\n",
      "Detected delimiter: ,\n",
      "Has header: True\n",
      "[' ' 'CA' nan 'CC' 'CP' 'EC' 'EF' 'CK' 'IC' 'WC' 'GD' 'GM']\n",
      "Cleaning data...\n"
     ]
    },
    {
     "name": "stderr",
     "output_type": "stream",
     "text": [
      "c:\\Users\\thaefele31\\Documents\\ADA\\Assignments\\WedgeProject\\data_functions.py:15: FutureWarning: Downcasting object dtype arrays on .fillna, .ffill, .bfill is deprecated and will change in a future version. Call result.infer_objects(copy=False) instead. To opt-in to the future behavior, set `pd.set_option('future.no_silent_downcasting', True)`\n",
      "  df['staff'] = df['staff'].fillna(False)      # fill with False\n",
      "c:\\Users\\thaefele31\\Documents\\ADA\\Assignments\\WedgeProject\\data_functions.py:16: FutureWarning: Downcasting object dtype arrays on .fillna, .ffill, .bfill is deprecated and will change in a future version. Call result.infer_objects(copy=False) instead. To opt-in to the future behavior, set `pd.set_option('future.no_silent_downcasting', True)`\n",
      "  df['batchHeaderID'] = df['batchHeaderID'].fillna(False)  # fill with False\n",
      "c:\\Users\\thaefele31\\Documents\\ADA\\Assignments\\WedgeProject\\data_functions.py:17: FutureWarning: Downcasting object dtype arrays on .fillna, .ffill, .bfill is deprecated and will change in a future version. Call result.infer_objects(copy=False) instead. To opt-in to the future behavior, set `pd.set_option('future.no_silent_downcasting', True)`\n",
      "  df['display'] = df['display'].fillna(False)  # fill with False\n"
     ]
    },
    {
     "name": "stdout",
     "output_type": "stream",
     "text": [
      "Data cleaned.\n",
      "Uploading data to the cloud...\n",
      "Checking if table exists...\n",
      "Deleting table wedgeproject-438019.wedgeproject.transarchive_201410_201412...\n",
      "Successfully loaded 2931416 rows into wedgeproject-438019.wedgeproject.transarchive_201410_201412\n",
      "Progress: 62.26%\n",
      "Found inner ZIP file: transArchive_201410_201412_inactive.zip\n",
      "Processing CSV file: transArchive_201410_201412_inactive.csv\n",
      "Detected delimiter: ;\n",
      "Has header: True\n",
      "[' ' 'CC' nan 'CA' 'EF' 'CP' 'WC' 'IC' 'GD' 'EC' 'CK']\n",
      "Cleaning data...\n"
     ]
    },
    {
     "name": "stderr",
     "output_type": "stream",
     "text": [
      "c:\\Users\\thaefele31\\Documents\\ADA\\Assignments\\WedgeProject\\data_functions.py:15: FutureWarning: Downcasting object dtype arrays on .fillna, .ffill, .bfill is deprecated and will change in a future version. Call result.infer_objects(copy=False) instead. To opt-in to the future behavior, set `pd.set_option('future.no_silent_downcasting', True)`\n",
      "  df['staff'] = df['staff'].fillna(False)      # fill with False\n",
      "c:\\Users\\thaefele31\\Documents\\ADA\\Assignments\\WedgeProject\\data_functions.py:16: FutureWarning: Downcasting object dtype arrays on .fillna, .ffill, .bfill is deprecated and will change in a future version. Call result.infer_objects(copy=False) instead. To opt-in to the future behavior, set `pd.set_option('future.no_silent_downcasting', True)`\n",
      "  df['batchHeaderID'] = df['batchHeaderID'].fillna(False)  # fill with False\n",
      "c:\\Users\\thaefele31\\Documents\\ADA\\Assignments\\WedgeProject\\data_functions.py:17: FutureWarning: Downcasting object dtype arrays on .fillna, .ffill, .bfill is deprecated and will change in a future version. Call result.infer_objects(copy=False) instead. To opt-in to the future behavior, set `pd.set_option('future.no_silent_downcasting', True)`\n",
      "  df['display'] = df['display'].fillna(False)  # fill with False\n"
     ]
    },
    {
     "name": "stdout",
     "output_type": "stream",
     "text": [
      "Data cleaned.\n",
      "Uploading data to the cloud...\n",
      "Checking if table exists...\n",
      "Deleting table wedgeproject-438019.wedgeproject.transarchive_201410_201412_inactive...\n",
      "Successfully loaded 7964 rows into wedgeproject-438019.wedgeproject.transarchive_201410_201412_inactive\n",
      "Progress: 64.15%\n",
      "Found inner ZIP file: transArchive_201501_201503.zip\n",
      "Processing CSV file: transArchive_201501_201503.csv\n",
      "Detected delimiter: ,\n",
      "Has header: True\n",
      "[' ' 'WC' 'CC' 'CA' nan 'CK' 'EF' 'GD' 'CP' 'IC' 'EC' 'GM' 'V']\n",
      "Cleaning data...\n",
      "Data cleaned.\n",
      "Uploading data to the cloud...\n",
      "Checking if table exists...\n",
      "Deleting table wedgeproject-438019.wedgeproject.transarchive_201501_201503...\n",
      "Successfully loaded 3041129 rows into wedgeproject-438019.wedgeproject.transarchive_201501_201503\n",
      "Progress: 66.04%\n",
      "Found inner ZIP file: transArchive_201504_201506.zip\n",
      "Processing CSV file: transArchive_201504_201506.csv\n",
      "Detected delimiter: ,\n",
      "Has header: True\n",
      "[' ' 'CA' nan 'CC' 'EC' 'EF' 'GD' 'CP' 'CK' 'WC' 'IC' 'GM']\n",
      "Cleaning data...\n"
     ]
    },
    {
     "name": "stderr",
     "output_type": "stream",
     "text": [
      "c:\\Users\\thaefele31\\Documents\\ADA\\Assignments\\WedgeProject\\data_functions.py:15: FutureWarning: Downcasting object dtype arrays on .fillna, .ffill, .bfill is deprecated and will change in a future version. Call result.infer_objects(copy=False) instead. To opt-in to the future behavior, set `pd.set_option('future.no_silent_downcasting', True)`\n",
      "  df['staff'] = df['staff'].fillna(False)      # fill with False\n",
      "c:\\Users\\thaefele31\\Documents\\ADA\\Assignments\\WedgeProject\\data_functions.py:16: FutureWarning: Downcasting object dtype arrays on .fillna, .ffill, .bfill is deprecated and will change in a future version. Call result.infer_objects(copy=False) instead. To opt-in to the future behavior, set `pd.set_option('future.no_silent_downcasting', True)`\n",
      "  df['batchHeaderID'] = df['batchHeaderID'].fillna(False)  # fill with False\n"
     ]
    },
    {
     "name": "stdout",
     "output_type": "stream",
     "text": [
      "Data cleaned.\n",
      "Uploading data to the cloud...\n",
      "Checking if table exists...\n",
      "Deleting table wedgeproject-438019.wedgeproject.transarchive_201504_201506...\n",
      "Successfully loaded 3274964 rows into wedgeproject-438019.wedgeproject.transarchive_201504_201506\n",
      "Progress: 67.92%\n",
      "Found inner ZIP file: transArchive_201507_201509.zip\n",
      "Processing CSV file: transArchive_201507_201509.csv\n",
      "Detected delimiter: ,\n",
      "Has header: True\n",
      "[' ' nan 'CC' 'CA' 'GD' 'WC' 'IC' 'EC' 'EF' 'CP' 'CK' 'GM' 'WT']\n",
      "Cleaning data...\n"
     ]
    },
    {
     "name": "stderr",
     "output_type": "stream",
     "text": [
      "c:\\Users\\thaefele31\\Documents\\ADA\\Assignments\\WedgeProject\\data_functions.py:15: FutureWarning: Downcasting object dtype arrays on .fillna, .ffill, .bfill is deprecated and will change in a future version. Call result.infer_objects(copy=False) instead. To opt-in to the future behavior, set `pd.set_option('future.no_silent_downcasting', True)`\n",
      "  df['staff'] = df['staff'].fillna(False)      # fill with False\n",
      "c:\\Users\\thaefele31\\Documents\\ADA\\Assignments\\WedgeProject\\data_functions.py:16: FutureWarning: Downcasting object dtype arrays on .fillna, .ffill, .bfill is deprecated and will change in a future version. Call result.infer_objects(copy=False) instead. To opt-in to the future behavior, set `pd.set_option('future.no_silent_downcasting', True)`\n",
      "  df['batchHeaderID'] = df['batchHeaderID'].fillna(False)  # fill with False\n",
      "c:\\Users\\thaefele31\\Documents\\ADA\\Assignments\\WedgeProject\\data_functions.py:17: FutureWarning: Downcasting object dtype arrays on .fillna, .ffill, .bfill is deprecated and will change in a future version. Call result.infer_objects(copy=False) instead. To opt-in to the future behavior, set `pd.set_option('future.no_silent_downcasting', True)`\n",
      "  df['display'] = df['display'].fillna(False)  # fill with False\n"
     ]
    },
    {
     "name": "stdout",
     "output_type": "stream",
     "text": [
      "Data cleaned.\n",
      "Uploading data to the cloud...\n",
      "Checking if table exists...\n",
      "Deleting table wedgeproject-438019.wedgeproject.transarchive_201507_201509...\n",
      "Successfully loaded 3124699 rows into wedgeproject-438019.wedgeproject.transarchive_201507_201509\n",
      "Progress: 69.81%\n",
      "Found inner ZIP file: transArchive_201510.zip\n",
      "Processing CSV file: transArchive_201510.csv\n",
      "Detected delimiter: ,\n",
      "Has header: True\n",
      "['CA' nan ' ' 'CC' 'CP' 'GD' 'CK' 'EF' 'WT' 'IC' 'EC' 'WC' 'R' 'V' 'GM'\n",
      " 'PT']\n",
      "Cleaning data...\n",
      "Data cleaned.\n",
      "Uploading data to the cloud...\n",
      "Checking if table exists...\n",
      "Deleting table wedgeproject-438019.wedgeproject.transarchive_201510...\n",
      "Successfully loaded 1006055 rows into wedgeproject-438019.wedgeproject.transarchive_201510\n",
      "Progress: 71.70%\n",
      "Found inner ZIP file: transArchive_201511.zip\n",
      "Processing CSV file: transArchive_201511.csv\n",
      "Detected delimiter: ,\n",
      "Has header: False\n"
     ]
    },
    {
     "name": "stderr",
     "output_type": "stream",
     "text": [
      "C:\\Users\\thaefele31\\AppData\\Local\\Temp\\ipykernel_10260\\3962641384.py:49: DtypeWarning: Columns (18,36,37,41,43,44,48) have mixed types. Specify dtype option on import or set low_memory=False.\n",
      "  df = pd.read_csv(csv_file, delimiter=delimiter, header=None, names=schema_columns)\n"
     ]
    },
    {
     "name": "stdout",
     "output_type": "stream",
     "text": [
      "[nan ' ' 'CA' 'CC' 'PT' 'EF' 'GD' 'CP' 'IC' 'WC' 'CK' 'EC' 'WT' 'GM']\n",
      "Cleaning data...\n"
     ]
    },
    {
     "name": "stderr",
     "output_type": "stream",
     "text": [
      "c:\\Users\\thaefele31\\Documents\\ADA\\Assignments\\WedgeProject\\data_functions.py:86: FutureWarning: Downcasting behavior in `replace` is deprecated and will be removed in a future version. To retain the old behavior, explicitly call `result.infer_objects(copy=False)`. To opt-in to the future behavior, set `pd.set_option('future.no_silent_downcasting', True)`\n",
      "  df[column] = df[column].replace([\"\\\\N\", \" \"], 0.0)\n"
     ]
    },
    {
     "name": "stdout",
     "output_type": "stream",
     "text": [
      "Data cleaned.\n",
      "Uploading data to the cloud...\n",
      "Checking if table exists...\n",
      "Deleting table wedgeproject-438019.wedgeproject.transarchive_201511...\n",
      "Successfully loaded 993744 rows into wedgeproject-438019.wedgeproject.transarchive_201511\n",
      "Progress: 73.58%\n",
      "Found inner ZIP file: transArchive_201512.zip\n",
      "Processing CSV file: transArchive_201512.csv\n",
      "Detected delimiter: ,\n",
      "Has header: False\n",
      "[nan 'CC' ' ' 'CA' 'EC' 'CP' 'IC' 'EF' 'PT' 'GD' 'WC' 'CK' 'WT' 'GM']\n",
      "Cleaning data...\n"
     ]
    },
    {
     "name": "stderr",
     "output_type": "stream",
     "text": [
      "c:\\Users\\thaefele31\\Documents\\ADA\\Assignments\\WedgeProject\\data_functions.py:15: FutureWarning: Downcasting object dtype arrays on .fillna, .ffill, .bfill is deprecated and will change in a future version. Call result.infer_objects(copy=False) instead. To opt-in to the future behavior, set `pd.set_option('future.no_silent_downcasting', True)`\n",
      "  df['staff'] = df['staff'].fillna(False)      # fill with False\n",
      "c:\\Users\\thaefele31\\Documents\\ADA\\Assignments\\WedgeProject\\data_functions.py:16: FutureWarning: Downcasting object dtype arrays on .fillna, .ffill, .bfill is deprecated and will change in a future version. Call result.infer_objects(copy=False) instead. To opt-in to the future behavior, set `pd.set_option('future.no_silent_downcasting', True)`\n",
      "  df['batchHeaderID'] = df['batchHeaderID'].fillna(False)  # fill with False\n",
      "c:\\Users\\thaefele31\\Documents\\ADA\\Assignments\\WedgeProject\\data_functions.py:17: FutureWarning: Downcasting object dtype arrays on .fillna, .ffill, .bfill is deprecated and will change in a future version. Call result.infer_objects(copy=False) instead. To opt-in to the future behavior, set `pd.set_option('future.no_silent_downcasting', True)`\n",
      "  df['display'] = df['display'].fillna(False)  # fill with False\n"
     ]
    },
    {
     "name": "stdout",
     "output_type": "stream",
     "text": [
      "Data cleaned.\n",
      "Uploading data to the cloud...\n",
      "Checking if table exists...\n",
      "Deleting table wedgeproject-438019.wedgeproject.transarchive_201512...\n",
      "Successfully loaded 960017 rows into wedgeproject-438019.wedgeproject.transarchive_201512\n",
      "Progress: 75.47%\n",
      "Found inner ZIP file: transArchive_201601.zip\n",
      "Processing CSV file: transArchive_201601.csv\n",
      "Detected delimiter: ,\n",
      "Has header: False\n",
      "[' ' 'CC' 'CA' nan 'PT' 'EC' 'IC' 'EF' 'GD' 'WC' 'CK' 'CP' 'GM' 'WT']\n",
      "Cleaning data...\n"
     ]
    },
    {
     "name": "stderr",
     "output_type": "stream",
     "text": [
      "c:\\Users\\thaefele31\\Documents\\ADA\\Assignments\\WedgeProject\\data_functions.py:86: FutureWarning: Downcasting behavior in `replace` is deprecated and will be removed in a future version. To retain the old behavior, explicitly call `result.infer_objects(copy=False)`. To opt-in to the future behavior, set `pd.set_option('future.no_silent_downcasting', True)`\n",
      "  df[column] = df[column].replace([\"\\\\N\", \" \"], 0.0)\n"
     ]
    },
    {
     "name": "stdout",
     "output_type": "stream",
     "text": [
      "Data cleaned.\n",
      "Uploading data to the cloud...\n",
      "Checking if table exists...\n",
      "Deleting table wedgeproject-438019.wedgeproject.transarchive_201601...\n",
      "Successfully loaded 979408 rows into wedgeproject-438019.wedgeproject.transarchive_201601\n",
      "Progress: 77.36%\n",
      "Found inner ZIP file: transArchive_201602.zip\n",
      "Processing CSV file: transArchive_201602.csv\n",
      "Detected delimiter: ,\n",
      "Has header: False\n",
      "[nan ' ' 'CC' 'CA' 'IC' 'EF' 'EC' 'CP' 'PT' 'CK' 'WC' 'GD' 'WT' 'GM']\n",
      "Cleaning data...\n"
     ]
    },
    {
     "name": "stderr",
     "output_type": "stream",
     "text": [
      "c:\\Users\\thaefele31\\Documents\\ADA\\Assignments\\WedgeProject\\data_functions.py:86: FutureWarning: Downcasting behavior in `replace` is deprecated and will be removed in a future version. To retain the old behavior, explicitly call `result.infer_objects(copy=False)`. To opt-in to the future behavior, set `pd.set_option('future.no_silent_downcasting', True)`\n",
      "  df[column] = df[column].replace([\"\\\\N\", \" \"], 0.0)\n"
     ]
    },
    {
     "name": "stdout",
     "output_type": "stream",
     "text": [
      "Data cleaned.\n",
      "Uploading data to the cloud...\n",
      "Checking if table exists...\n",
      "Deleting table wedgeproject-438019.wedgeproject.transarchive_201602...\n",
      "Successfully loaded 874853 rows into wedgeproject-438019.wedgeproject.transarchive_201602\n",
      "Progress: 79.25%\n",
      "Found inner ZIP file: transArchive_201603.zip\n",
      "Processing CSV file: transArchive_201603.csv\n",
      "Detected delimiter: ,\n",
      "Has header: False\n",
      "[nan ' ' 'CC' 'CA' 'EF' 'GD' 'EC' 'PT' 'WC' 'CP' 'CK' 'WT' 'IC']\n",
      "Cleaning data...\n"
     ]
    },
    {
     "name": "stderr",
     "output_type": "stream",
     "text": [
      "c:\\Users\\thaefele31\\Documents\\ADA\\Assignments\\WedgeProject\\data_functions.py:86: FutureWarning: Downcasting behavior in `replace` is deprecated and will be removed in a future version. To retain the old behavior, explicitly call `result.infer_objects(copy=False)`. To opt-in to the future behavior, set `pd.set_option('future.no_silent_downcasting', True)`\n",
      "  df[column] = df[column].replace([\"\\\\N\", \" \"], 0.0)\n"
     ]
    },
    {
     "name": "stdout",
     "output_type": "stream",
     "text": [
      "Data cleaned.\n",
      "Uploading data to the cloud...\n",
      "Checking if table exists...\n",
      "Deleting table wedgeproject-438019.wedgeproject.transarchive_201603...\n",
      "Successfully loaded 964635 rows into wedgeproject-438019.wedgeproject.transarchive_201603\n",
      "Progress: 81.13%\n",
      "Found inner ZIP file: transArchive_201604.zip\n",
      "Processing CSV file: transArchive_201604.csv\n",
      "Detected delimiter: ,\n",
      "Has header: False\n",
      "['CA' ' ' nan 'CC' 'EC' 'EF' 'PT' 'CP' 'GD' 'WC' 'CK' 'IC' 'WT' 'RT']\n",
      "Cleaning data...\n"
     ]
    },
    {
     "name": "stderr",
     "output_type": "stream",
     "text": [
      "c:\\Users\\thaefele31\\Documents\\ADA\\Assignments\\WedgeProject\\data_functions.py:86: FutureWarning: Downcasting behavior in `replace` is deprecated and will be removed in a future version. To retain the old behavior, explicitly call `result.infer_objects(copy=False)`. To opt-in to the future behavior, set `pd.set_option('future.no_silent_downcasting', True)`\n",
      "  df[column] = df[column].replace([\"\\\\N\", \" \"], 0.0)\n"
     ]
    },
    {
     "name": "stdout",
     "output_type": "stream",
     "text": [
      "Data cleaned.\n",
      "Uploading data to the cloud...\n",
      "Checking if table exists...\n",
      "Deleting table wedgeproject-438019.wedgeproject.transarchive_201604...\n",
      "Successfully loaded 930359 rows into wedgeproject-438019.wedgeproject.transarchive_201604\n",
      "Progress: 83.02%\n",
      "Found inner ZIP file: transArchive_201605.zip\n",
      "Processing CSV file: transArchive_201605.csv\n",
      "Detected delimiter: ,\n",
      "Has header: False\n"
     ]
    },
    {
     "name": "stderr",
     "output_type": "stream",
     "text": [
      "C:\\Users\\thaefele31\\AppData\\Local\\Temp\\ipykernel_10260\\3962641384.py:49: DtypeWarning: Columns (18,36,37,41,43,44,48) have mixed types. Specify dtype option on import or set low_memory=False.\n",
      "  df = pd.read_csv(csv_file, delimiter=delimiter, header=None, names=schema_columns)\n"
     ]
    },
    {
     "name": "stdout",
     "output_type": "stream",
     "text": [
      "[' ' 'CA' nan 'CC' 'EF' 'IC' 'EC' 'GD' 'WC' 'CP' 'CK' 'PT' 'WT']\n",
      "Cleaning data...\n"
     ]
    },
    {
     "name": "stderr",
     "output_type": "stream",
     "text": [
      "c:\\Users\\thaefele31\\Documents\\ADA\\Assignments\\WedgeProject\\data_functions.py:86: FutureWarning: Downcasting behavior in `replace` is deprecated and will be removed in a future version. To retain the old behavior, explicitly call `result.infer_objects(copy=False)`. To opt-in to the future behavior, set `pd.set_option('future.no_silent_downcasting', True)`\n",
      "  df[column] = df[column].replace([\"\\\\N\", \" \"], 0.0)\n"
     ]
    },
    {
     "name": "stdout",
     "output_type": "stream",
     "text": [
      "Data cleaned.\n",
      "Uploading data to the cloud...\n",
      "Checking if table exists...\n",
      "Deleting table wedgeproject-438019.wedgeproject.transarchive_201605...\n",
      "Successfully loaded 938769 rows into wedgeproject-438019.wedgeproject.transarchive_201605\n",
      "Progress: 84.91%\n",
      "Found inner ZIP file: transArchive_201606.zip\n",
      "Processing CSV file: transArchive_201606.csv\n",
      "Detected delimiter: ,\n",
      "Has header: False\n",
      "[' ' nan 'IC' 'CA' 'CC' 'GD' 'EF' 'WC' 'EC' 'CK' 'CP' 'WT' 'GM']\n",
      "Cleaning data...\n"
     ]
    },
    {
     "name": "stderr",
     "output_type": "stream",
     "text": [
      "c:\\Users\\thaefele31\\Documents\\ADA\\Assignments\\WedgeProject\\data_functions.py:86: FutureWarning: Downcasting behavior in `replace` is deprecated and will be removed in a future version. To retain the old behavior, explicitly call `result.infer_objects(copy=False)`. To opt-in to the future behavior, set `pd.set_option('future.no_silent_downcasting', True)`\n",
      "  df[column] = df[column].replace([\"\\\\N\", \" \"], 0.0)\n"
     ]
    },
    {
     "name": "stdout",
     "output_type": "stream",
     "text": [
      "Data cleaned.\n",
      "Uploading data to the cloud...\n",
      "Checking if table exists...\n",
      "Deleting table wedgeproject-438019.wedgeproject.transarchive_201606...\n",
      "Successfully loaded 862329 rows into wedgeproject-438019.wedgeproject.transarchive_201606\n",
      "Progress: 86.79%\n",
      "Found inner ZIP file: transArchive_201607.zip\n",
      "Processing CSV file: transArchive_201607.csv\n",
      "Detected delimiter: ,\n",
      "Has header: False\n"
     ]
    },
    {
     "name": "stderr",
     "output_type": "stream",
     "text": [
      "C:\\Users\\thaefele31\\AppData\\Local\\Temp\\ipykernel_10260\\3962641384.py:49: DtypeWarning: Columns (18,36,37,41,43,44,48) have mixed types. Specify dtype option on import or set low_memory=False.\n",
      "  df = pd.read_csv(csv_file, delimiter=delimiter, header=None, names=schema_columns)\n"
     ]
    },
    {
     "name": "stdout",
     "output_type": "stream",
     "text": [
      "[' ' nan 'CC' 'CA' 'IC' 'EF' 'WC' 'EC' 'CP' 'GD' 'CK' 'WT' 'GM']\n",
      "Cleaning data...\n"
     ]
    },
    {
     "name": "stderr",
     "output_type": "stream",
     "text": [
      "c:\\Users\\thaefele31\\Documents\\ADA\\Assignments\\WedgeProject\\data_functions.py:86: FutureWarning: Downcasting behavior in `replace` is deprecated and will be removed in a future version. To retain the old behavior, explicitly call `result.infer_objects(copy=False)`. To opt-in to the future behavior, set `pd.set_option('future.no_silent_downcasting', True)`\n",
      "  df[column] = df[column].replace([\"\\\\N\", \" \"], 0.0)\n"
     ]
    },
    {
     "name": "stdout",
     "output_type": "stream",
     "text": [
      "Data cleaned.\n",
      "Uploading data to the cloud...\n",
      "Checking if table exists...\n",
      "Deleting table wedgeproject-438019.wedgeproject.transarchive_201607...\n",
      "Successfully loaded 872161 rows into wedgeproject-438019.wedgeproject.transarchive_201607\n",
      "Progress: 88.68%\n",
      "Found inner ZIP file: transArchive_201608.zip\n",
      "Processing CSV file: transArchive_201608.csv\n",
      "Detected delimiter: ,\n",
      "Has header: False\n"
     ]
    },
    {
     "name": "stderr",
     "output_type": "stream",
     "text": [
      "C:\\Users\\thaefele31\\AppData\\Local\\Temp\\ipykernel_10260\\3962641384.py:49: DtypeWarning: Columns (18,36,37,41,43,44,48) have mixed types. Specify dtype option on import or set low_memory=False.\n",
      "  df = pd.read_csv(csv_file, delimiter=delimiter, header=None, names=schema_columns)\n"
     ]
    },
    {
     "name": "stdout",
     "output_type": "stream",
     "text": [
      "[' ' nan 'CA' 'CC' 'GD' 'IC' 'EF' 'EC' 'CP' 'WC' 'CK' 'WT' 'GM']\n",
      "Cleaning data...\n"
     ]
    },
    {
     "name": "stderr",
     "output_type": "stream",
     "text": [
      "c:\\Users\\thaefele31\\Documents\\ADA\\Assignments\\WedgeProject\\data_functions.py:86: FutureWarning: Downcasting behavior in `replace` is deprecated and will be removed in a future version. To retain the old behavior, explicitly call `result.infer_objects(copy=False)`. To opt-in to the future behavior, set `pd.set_option('future.no_silent_downcasting', True)`\n",
      "  df[column] = df[column].replace([\"\\\\N\", \" \"], 0.0)\n"
     ]
    },
    {
     "name": "stdout",
     "output_type": "stream",
     "text": [
      "Data cleaned.\n",
      "Uploading data to the cloud...\n",
      "Checking if table exists...\n",
      "Deleting table wedgeproject-438019.wedgeproject.transarchive_201608...\n",
      "Successfully loaded 858168 rows into wedgeproject-438019.wedgeproject.transarchive_201608\n",
      "Progress: 90.57%\n",
      "Found inner ZIP file: transArchive_201609.zip\n",
      "Processing CSV file: transArchive_201609.csv\n",
      "Detected delimiter: ,\n",
      "Has header: False\n"
     ]
    },
    {
     "name": "stderr",
     "output_type": "stream",
     "text": [
      "C:\\Users\\thaefele31\\AppData\\Local\\Temp\\ipykernel_10260\\3962641384.py:49: DtypeWarning: Columns (18,36,37,41,43,44,48) have mixed types. Specify dtype option on import or set low_memory=False.\n",
      "  df = pd.read_csv(csv_file, delimiter=delimiter, header=None, names=schema_columns)\n"
     ]
    },
    {
     "name": "stdout",
     "output_type": "stream",
     "text": [
      "['CA' 'CC' nan ' ' 'IC' 'EC' 'EF' 'CP' 'GD' 'WC' 'CK' 'WT' 'GM']\n",
      "Cleaning data...\n"
     ]
    },
    {
     "name": "stderr",
     "output_type": "stream",
     "text": [
      "c:\\Users\\thaefele31\\Documents\\ADA\\Assignments\\WedgeProject\\data_functions.py:86: FutureWarning: Downcasting behavior in `replace` is deprecated and will be removed in a future version. To retain the old behavior, explicitly call `result.infer_objects(copy=False)`. To opt-in to the future behavior, set `pd.set_option('future.no_silent_downcasting', True)`\n",
      "  df[column] = df[column].replace([\"\\\\N\", \" \"], 0.0)\n"
     ]
    },
    {
     "name": "stdout",
     "output_type": "stream",
     "text": [
      "Data cleaned.\n",
      "Uploading data to the cloud...\n",
      "Checking if table exists...\n",
      "Deleting table wedgeproject-438019.wedgeproject.transarchive_201609...\n",
      "Successfully loaded 861248 rows into wedgeproject-438019.wedgeproject.transarchive_201609\n",
      "Progress: 92.45%\n",
      "Found inner ZIP file: transArchive_201610.zip\n",
      "Processing CSV file: transArchive_201610.csv\n",
      "Detected delimiter: ,\n",
      "Has header: False\n"
     ]
    },
    {
     "name": "stderr",
     "output_type": "stream",
     "text": [
      "C:\\Users\\thaefele31\\AppData\\Local\\Temp\\ipykernel_10260\\3962641384.py:49: DtypeWarning: Columns (18,36,37,41,43,44,48) have mixed types. Specify dtype option on import or set low_memory=False.\n",
      "  df = pd.read_csv(csv_file, delimiter=delimiter, header=None, names=schema_columns)\n"
     ]
    },
    {
     "name": "stdout",
     "output_type": "stream",
     "text": [
      "[nan 'CA' ' ' 'CC' 'IC' 'EF' 'CP' 'GD' 'WC' 'WT' 'EC' 'CK']\n",
      "Cleaning data...\n"
     ]
    },
    {
     "name": "stderr",
     "output_type": "stream",
     "text": [
      "c:\\Users\\thaefele31\\Documents\\ADA\\Assignments\\WedgeProject\\data_functions.py:86: FutureWarning: Downcasting behavior in `replace` is deprecated and will be removed in a future version. To retain the old behavior, explicitly call `result.infer_objects(copy=False)`. To opt-in to the future behavior, set `pd.set_option('future.no_silent_downcasting', True)`\n",
      "  df[column] = df[column].replace([\"\\\\N\", \" \"], 0.0)\n"
     ]
    },
    {
     "name": "stdout",
     "output_type": "stream",
     "text": [
      "Data cleaned.\n",
      "Uploading data to the cloud...\n",
      "Checking if table exists...\n",
      "Deleting table wedgeproject-438019.wedgeproject.transarchive_201610...\n",
      "Successfully loaded 905092 rows into wedgeproject-438019.wedgeproject.transarchive_201610\n",
      "Progress: 94.34%\n",
      "Found inner ZIP file: transArchive_201611.zip\n",
      "Processing CSV file: transArchive_201611.csv\n",
      "Detected delimiter: ,\n",
      "Has header: False\n",
      "[' ' nan 'CA' 'IC' 'CC' 'CP' 'GD' 'EF' 'CK' 'EC' 'WT' 'WC' 'MI' 'GM']\n",
      "Cleaning data...\n"
     ]
    },
    {
     "name": "stderr",
     "output_type": "stream",
     "text": [
      "c:\\Users\\thaefele31\\Documents\\ADA\\Assignments\\WedgeProject\\data_functions.py:86: FutureWarning: Downcasting behavior in `replace` is deprecated and will be removed in a future version. To retain the old behavior, explicitly call `result.infer_objects(copy=False)`. To opt-in to the future behavior, set `pd.set_option('future.no_silent_downcasting', True)`\n",
      "  df[column] = df[column].replace([\"\\\\N\", \" \"], 0.0)\n"
     ]
    },
    {
     "name": "stdout",
     "output_type": "stream",
     "text": [
      "Data cleaned.\n",
      "Uploading data to the cloud...\n",
      "Checking if table exists...\n",
      "Deleting table wedgeproject-438019.wedgeproject.transarchive_201611...\n",
      "Successfully loaded 925314 rows into wedgeproject-438019.wedgeproject.transarchive_201611\n",
      "Progress: 96.23%\n",
      "Found inner ZIP file: transArchive_201612.zip\n",
      "Processing CSV file: transArchive_201612.csv\n",
      "Detected delimiter: ,\n",
      "Has header: False\n"
     ]
    },
    {
     "name": "stderr",
     "output_type": "stream",
     "text": [
      "C:\\Users\\thaefele31\\AppData\\Local\\Temp\\ipykernel_10260\\3962641384.py:49: DtypeWarning: Columns (18,36,37,41,43,44,48) have mixed types. Specify dtype option on import or set low_memory=False.\n",
      "  df = pd.read_csv(csv_file, delimiter=delimiter, header=None, names=schema_columns)\n"
     ]
    },
    {
     "name": "stdout",
     "output_type": "stream",
     "text": [
      "[' ' nan 'CA' 'CC' 'IC' 'CP' 'EF' 'EC' 'GD' 'WC' 'WT' 'CK' 'GM']\n",
      "Cleaning data...\n"
     ]
    },
    {
     "name": "stderr",
     "output_type": "stream",
     "text": [
      "c:\\Users\\thaefele31\\Documents\\ADA\\Assignments\\WedgeProject\\data_functions.py:86: FutureWarning: Downcasting behavior in `replace` is deprecated and will be removed in a future version. To retain the old behavior, explicitly call `result.infer_objects(copy=False)`. To opt-in to the future behavior, set `pd.set_option('future.no_silent_downcasting', True)`\n",
      "  df[column] = df[column].replace([\"\\\\N\", \" \"], 0.0)\n"
     ]
    },
    {
     "name": "stdout",
     "output_type": "stream",
     "text": [
      "Data cleaned.\n",
      "Uploading data to the cloud...\n",
      "Checking if table exists...\n",
      "Deleting table wedgeproject-438019.wedgeproject.transarchive_201612...\n",
      "Successfully loaded 915707 rows into wedgeproject-438019.wedgeproject.transarchive_201612\n",
      "Progress: 98.11%\n",
      "Found inner ZIP file: transArchive_201701.zip\n",
      "Processing CSV file: transArchive_201701.csv\n",
      "Detected delimiter: ,\n",
      "Has header: False\n"
     ]
    },
    {
     "name": "stderr",
     "output_type": "stream",
     "text": [
      "C:\\Users\\thaefele31\\AppData\\Local\\Temp\\ipykernel_10260\\3962641384.py:49: DtypeWarning: Columns (18,36,37,41,43,44,48) have mixed types. Specify dtype option on import or set low_memory=False.\n",
      "  df = pd.read_csv(csv_file, delimiter=delimiter, header=None, names=schema_columns)\n"
     ]
    },
    {
     "name": "stdout",
     "output_type": "stream",
     "text": [
      "['CA' nan ' ' 'CC' 'IC' 'GD' 'EF' 'EC' 'WC' 'CP' 'CK' 'WT' 'GM' 'MI']\n",
      "Cleaning data...\n"
     ]
    },
    {
     "name": "stderr",
     "output_type": "stream",
     "text": [
      "c:\\Users\\thaefele31\\Documents\\ADA\\Assignments\\WedgeProject\\data_functions.py:86: FutureWarning: Downcasting behavior in `replace` is deprecated and will be removed in a future version. To retain the old behavior, explicitly call `result.infer_objects(copy=False)`. To opt-in to the future behavior, set `pd.set_option('future.no_silent_downcasting', True)`\n",
      "  df[column] = df[column].replace([\"\\\\N\", \" \"], 0.0)\n"
     ]
    },
    {
     "name": "stdout",
     "output_type": "stream",
     "text": [
      "Data cleaned.\n",
      "Uploading data to the cloud...\n",
      "Checking if table exists...\n",
      "Deleting table wedgeproject-438019.wedgeproject.transarchive_201701...\n",
      "Successfully loaded 936741 rows into wedgeproject-438019.wedgeproject.transarchive_201701\n",
      "Progress: 100.00%\n",
      "0\n",
      "All files processed.\n"
     ]
    }
   ],
   "source": [
    "# Step 1: Open the ZIP file\n",
    "with ZipFile(outer, 'r') as outer_zip:\n",
    "    outer_files = outer_zip.namelist()\n",
    "\n",
    "    processed_files = 0\n",
    "\n",
    "    count_of_nulls = 0\n",
    "\n",
    "    # Step 2: Loop through the files in the outer ZIP\n",
    "    for outer_file in outer_files:\n",
    "        if outer_file.endswith('.zip'):  # Check if it's a ZIP file within the outer ZIP\n",
    "            print(f\"Found inner ZIP file: {outer_file}\")\n",
    "\n",
    "            # Step 3: Open the inner ZIP file\n",
    "            with outer_zip.open(outer_file) as inner_zip_file:\n",
    "                # Step 4: Read the inner ZIP file as a ZipFile object\n",
    "                with ZipFile(inner_zip_file) as inner_zip:\n",
    "                    inner_files = inner_zip.namelist()\n",
    "\n",
    "                    for file in inner_files:\n",
    "                        if file.endswith('.csv'):\n",
    "                            print(f\"Processing CSV file: {file}\")\n",
    "                            \n",
    "                            # Step 3: Read the CSV file\n",
    "                            with inner_zip.open(file, 'r') as csv_file:\n",
    "                                csv_file = io.TextIOWrapper(csv_file, encoding=\"utf-8\")\n",
    "                                \n",
    "\n",
    "                                 # Read a sample of the file to detect delimiter\n",
    "                                sample = csv_file.read(3030)\n",
    "                                csv_file.seek(0)  # Reset the file pointer\n",
    "\n",
    "                                # Use csv.Sniffer to detect the delimiter\n",
    "                                try:\n",
    "                                    sniffer = csv.Sniffer()\n",
    "                                    dialect = sniffer.sniff(sample, delimiters=[',', ';', '\\t', ':'])\n",
    "                                    delimiter = dialect.delimiter\n",
    "                                    print(f\"Detected delimiter: {delimiter}\")\n",
    "                                except csv.Error:\n",
    "                                    delimiter = ','  # Default to comma if delimiter detection fails\n",
    "                                    print(\"Could not detect delimiter, using default ','\")\n",
    "\n",
    "                                #check for headers\n",
    "                                has_header = sniffer.has_header(sample)\n",
    "                                print(f\"Has header: {has_header}\")\n",
    "\n",
    "                                #remove the headers if they exist and add the schema columns\n",
    "                                if not has_header:\n",
    "                                    df = pd.read_csv(csv_file, delimiter=delimiter, header=None, names=schema_columns)\n",
    "                                else:\n",
    "                                    df = pd.read_csv(csv_file, delimiter=delimiter)\n",
    "                                    df.columns = schema_columns\n",
    "                                #view unique values in trans_subtype\n",
    "                                print(df[\"trans_subtype\"].unique())\n",
    "\n",
    "                                \n",
    "                                # Step 5: Perform data cleaning view data types\n",
    "                                print(\"Cleaning data...\")\n",
    "                                df = datafun.clean_data(df)\n",
    "                                print(\"Data cleaned.\")\n",
    "\n",
    "                                \n",
    "\n",
    "                                #count null values and add to count_of_nulls\n",
    "                                count_of_nulls += df[\"trans_subtype\"].isnull().sum()\n",
    "\n",
    "                                \n",
    "                                # open connection to bigquery\n",
    "                                table_name = \"wedgeproject-438019.wedgeproject.\" + file.split(\".\")[0].lower()\n",
    "                                datafun.upload_to_bigquery(df,table_name)\n",
    "                                \n",
    "                                processed_files += 1\n",
    "                                progress = processed_files / len(outer_files) * 100\n",
    "                                print(f\"Progress: {progress:.2f}%\")\n",
    "                                \n",
    "                            \n",
    "print(count_of_nulls)\n",
    "\n",
    "print(\"All files processed.\")\n",
    "\n",
    "#count null values in trans_subtype\n",
    "\n",
    "                               \n",
    "                                \n",
    "\n"
   ]
  }
 ],
 "metadata": {
  "kernelspec": {
   "display_name": "Python 3",
   "language": "python",
   "name": "python3"
  },
  "language_info": {
   "codemirror_mode": {
    "name": "ipython",
    "version": 3
   },
   "file_extension": ".py",
   "mimetype": "text/x-python",
   "name": "python",
   "nbconvert_exporter": "python",
   "pygments_lexer": "ipython3",
   "version": "3.12.7"
  }
 },
 "nbformat": 4,
 "nbformat_minor": 2
}
