{
 "cells": [
  {
   "cell_type": "code",
   "execution_count": 1,
   "metadata": {},
   "outputs": [],
   "source": [
    "#cleaning data\n",
    "import pandas as pd\n",
    "import numpy as np\n",
    "import janitor\n",
    "from zipfile import ZipFile\n",
    "import os\n",
    "import io\n",
    "import csv\n",
    "import datetime\n",
    "\n",
    "import data_functions as datafun"
   ]
  },
  {
   "cell_type": "code",
   "execution_count": 2,
   "metadata": {},
   "outputs": [],
   "source": [
    "outer = \"data/WedgeZipOfZips_small.zip\"\n",
    "\n",
    "delimiters = dict() \n"
   ]
  },
  {
   "cell_type": "code",
   "execution_count": 3,
   "metadata": {},
   "outputs": [],
   "source": [
    "# Define your schema column names for files without headers\n",
    "schema_columns = ['datetime', 'register_no', 'emp_no', 'trans_no', 'upc', 'description', \n",
    "                  'trans_type', 'trans_subtype', 'trans_status', 'department', 'quantity', \n",
    "                  'Scale', 'cost', 'unitPrice', 'total', 'regPrice', 'altPrice', 'tax', \n",
    "                  'taxexempt', 'foodstamp', 'wicable', 'discount', 'memDiscount', \n",
    "                  'discountable', 'discounttype', 'voided', 'percentDiscount', 'ItemQtty', \n",
    "                  'volDiscType', 'volume', 'VolSpecial', 'mixMatch', 'matched', 'memType', \n",
    "                  'staff', 'numflag', 'itemstatus', 'tenderstatus', 'charflag', 'varflag', \n",
    "                  'batchHeaderID', 'local', 'organic', 'display', 'receipt', 'card_no', \n",
    "                  'store', 'branch', 'match_id', 'trans_id']\n",
    "\n"
   ]
  },
  {
   "cell_type": "code",
   "execution_count": 4,
   "metadata": {},
   "outputs": [
    {
     "name": "stdout",
     "output_type": "stream",
     "text": [
      "Found inner ZIP file: transArchive_201001_201003_small.zip\n",
      "Processing CSV file: transArchive_201001_201003_small.csv\n",
      "Detected delimiter: ,\n",
      "Has header: True\n",
      "Cleaning data...\n"
     ]
    },
    {
     "name": "stderr",
     "output_type": "stream",
     "text": [
      "c:\\Users\\thaefele31\\Documents\\ADA\\Assignments\\WedgeProject\\data_functions.py:15: FutureWarning: Downcasting object dtype arrays on .fillna, .ffill, .bfill is deprecated and will change in a future version. Call result.infer_objects(copy=False) instead. To opt-in to the future behavior, set `pd.set_option('future.no_silent_downcasting', True)`\n",
      "  df['memType'] = df['memType'].fillna(False)  # fill with False\n",
      "c:\\Users\\thaefele31\\Documents\\ADA\\Assignments\\WedgeProject\\data_functions.py:17: FutureWarning: Downcasting object dtype arrays on .fillna, .ffill, .bfill is deprecated and will change in a future version. Call result.infer_objects(copy=False) instead. To opt-in to the future behavior, set `pd.set_option('future.no_silent_downcasting', True)`\n",
      "  df['batchHeaderID'] = df['batchHeaderID'].fillna(False)  # fill with False\n",
      "c:\\Users\\thaefele31\\Documents\\ADA\\Assignments\\WedgeProject\\data_functions.py:18: FutureWarning: Downcasting object dtype arrays on .fillna, .ffill, .bfill is deprecated and will change in a future version. Call result.infer_objects(copy=False) instead. To opt-in to the future behavior, set `pd.set_option('future.no_silent_downcasting', True)`\n",
      "  df['display'] = df['display'].fillna(False)  # fill with False\n"
     ]
    },
    {
     "name": "stdout",
     "output_type": "stream",
     "text": [
      "Data cleaned.\n",
      "Uploading data to the cloud...\n",
      "Successfully loaded 10000 rows into wedgeproject-438019.wedgeproject.transarchive_201001_201003_small\n",
      "Found inner ZIP file: transArchive_201004_201006_small.zip\n",
      "Processing CSV file: transArchive_201004_201006_small.csv\n",
      "Detected delimiter: ,\n",
      "Has header: True\n",
      "Cleaning data...\n"
     ]
    },
    {
     "name": "stderr",
     "output_type": "stream",
     "text": [
      "c:\\Users\\thaefele31\\Documents\\ADA\\Assignments\\WedgeProject\\data_functions.py:15: FutureWarning: Downcasting object dtype arrays on .fillna, .ffill, .bfill is deprecated and will change in a future version. Call result.infer_objects(copy=False) instead. To opt-in to the future behavior, set `pd.set_option('future.no_silent_downcasting', True)`\n",
      "  df['memType'] = df['memType'].fillna(False)  # fill with False\n",
      "c:\\Users\\thaefele31\\Documents\\ADA\\Assignments\\WedgeProject\\data_functions.py:17: FutureWarning: Downcasting object dtype arrays on .fillna, .ffill, .bfill is deprecated and will change in a future version. Call result.infer_objects(copy=False) instead. To opt-in to the future behavior, set `pd.set_option('future.no_silent_downcasting', True)`\n",
      "  df['batchHeaderID'] = df['batchHeaderID'].fillna(False)  # fill with False\n",
      "c:\\Users\\thaefele31\\Documents\\ADA\\Assignments\\WedgeProject\\data_functions.py:18: FutureWarning: Downcasting object dtype arrays on .fillna, .ffill, .bfill is deprecated and will change in a future version. Call result.infer_objects(copy=False) instead. To opt-in to the future behavior, set `pd.set_option('future.no_silent_downcasting', True)`\n",
      "  df['display'] = df['display'].fillna(False)  # fill with False\n"
     ]
    },
    {
     "name": "stdout",
     "output_type": "stream",
     "text": [
      "Data cleaned.\n",
      "Uploading data to the cloud...\n",
      "Successfully loaded 10000 rows into wedgeproject-438019.wedgeproject.transarchive_201004_201006_small\n",
      "Found inner ZIP file: transArchive_201007_201009_small.zip\n",
      "Processing CSV file: transArchive_201007_201009_small.csv\n",
      "Detected delimiter: ,\n",
      "Has header: True\n",
      "Cleaning data...\n"
     ]
    },
    {
     "name": "stderr",
     "output_type": "stream",
     "text": [
      "c:\\Users\\thaefele31\\Documents\\ADA\\Assignments\\WedgeProject\\data_functions.py:15: FutureWarning: Downcasting object dtype arrays on .fillna, .ffill, .bfill is deprecated and will change in a future version. Call result.infer_objects(copy=False) instead. To opt-in to the future behavior, set `pd.set_option('future.no_silent_downcasting', True)`\n",
      "  df['memType'] = df['memType'].fillna(False)  # fill with False\n",
      "c:\\Users\\thaefele31\\Documents\\ADA\\Assignments\\WedgeProject\\data_functions.py:17: FutureWarning: Downcasting object dtype arrays on .fillna, .ffill, .bfill is deprecated and will change in a future version. Call result.infer_objects(copy=False) instead. To opt-in to the future behavior, set `pd.set_option('future.no_silent_downcasting', True)`\n",
      "  df['batchHeaderID'] = df['batchHeaderID'].fillna(False)  # fill with False\n",
      "c:\\Users\\thaefele31\\Documents\\ADA\\Assignments\\WedgeProject\\data_functions.py:18: FutureWarning: Downcasting object dtype arrays on .fillna, .ffill, .bfill is deprecated and will change in a future version. Call result.infer_objects(copy=False) instead. To opt-in to the future behavior, set `pd.set_option('future.no_silent_downcasting', True)`\n",
      "  df['display'] = df['display'].fillna(False)  # fill with False\n"
     ]
    },
    {
     "name": "stdout",
     "output_type": "stream",
     "text": [
      "Data cleaned.\n",
      "Uploading data to the cloud...\n",
      "Successfully loaded 10000 rows into wedgeproject-438019.wedgeproject.transarchive_201007_201009_small\n",
      "Found inner ZIP file: transArchive_201010_201012_small.zip\n",
      "Processing CSV file: transArchive_201010_201012_small.csv\n",
      "Detected delimiter: ,\n",
      "Has header: True\n",
      "Cleaning data...\n"
     ]
    },
    {
     "name": "stderr",
     "output_type": "stream",
     "text": [
      "c:\\Users\\thaefele31\\Documents\\ADA\\Assignments\\WedgeProject\\data_functions.py:15: FutureWarning: Downcasting object dtype arrays on .fillna, .ffill, .bfill is deprecated and will change in a future version. Call result.infer_objects(copy=False) instead. To opt-in to the future behavior, set `pd.set_option('future.no_silent_downcasting', True)`\n",
      "  df['memType'] = df['memType'].fillna(False)  # fill with False\n",
      "c:\\Users\\thaefele31\\Documents\\ADA\\Assignments\\WedgeProject\\data_functions.py:17: FutureWarning: Downcasting object dtype arrays on .fillna, .ffill, .bfill is deprecated and will change in a future version. Call result.infer_objects(copy=False) instead. To opt-in to the future behavior, set `pd.set_option('future.no_silent_downcasting', True)`\n",
      "  df['batchHeaderID'] = df['batchHeaderID'].fillna(False)  # fill with False\n",
      "c:\\Users\\thaefele31\\Documents\\ADA\\Assignments\\WedgeProject\\data_functions.py:18: FutureWarning: Downcasting object dtype arrays on .fillna, .ffill, .bfill is deprecated and will change in a future version. Call result.infer_objects(copy=False) instead. To opt-in to the future behavior, set `pd.set_option('future.no_silent_downcasting', True)`\n",
      "  df['display'] = df['display'].fillna(False)  # fill with False\n"
     ]
    },
    {
     "name": "stdout",
     "output_type": "stream",
     "text": [
      "Data cleaned.\n",
      "Uploading data to the cloud...\n",
      "Successfully loaded 10000 rows into wedgeproject-438019.wedgeproject.transarchive_201010_201012_small\n",
      "Found inner ZIP file: transArchive_201101_201103_small.zip\n",
      "Processing CSV file: transArchive_201101_201103_small.csv\n",
      "Detected delimiter: ,\n",
      "Has header: True\n",
      "Cleaning data...\n"
     ]
    },
    {
     "name": "stderr",
     "output_type": "stream",
     "text": [
      "c:\\Users\\thaefele31\\Documents\\ADA\\Assignments\\WedgeProject\\data_functions.py:15: FutureWarning: Downcasting object dtype arrays on .fillna, .ffill, .bfill is deprecated and will change in a future version. Call result.infer_objects(copy=False) instead. To opt-in to the future behavior, set `pd.set_option('future.no_silent_downcasting', True)`\n",
      "  df['memType'] = df['memType'].fillna(False)  # fill with False\n",
      "c:\\Users\\thaefele31\\Documents\\ADA\\Assignments\\WedgeProject\\data_functions.py:16: FutureWarning: Downcasting object dtype arrays on .fillna, .ffill, .bfill is deprecated and will change in a future version. Call result.infer_objects(copy=False) instead. To opt-in to the future behavior, set `pd.set_option('future.no_silent_downcasting', True)`\n",
      "  df['staff'] = df['staff'].fillna(False)      # fill with False\n",
      "c:\\Users\\thaefele31\\Documents\\ADA\\Assignments\\WedgeProject\\data_functions.py:17: FutureWarning: Downcasting object dtype arrays on .fillna, .ffill, .bfill is deprecated and will change in a future version. Call result.infer_objects(copy=False) instead. To opt-in to the future behavior, set `pd.set_option('future.no_silent_downcasting', True)`\n",
      "  df['batchHeaderID'] = df['batchHeaderID'].fillna(False)  # fill with False\n"
     ]
    },
    {
     "name": "stdout",
     "output_type": "stream",
     "text": [
      "Data cleaned.\n",
      "Uploading data to the cloud...\n",
      "Successfully loaded 10000 rows into wedgeproject-438019.wedgeproject.transarchive_201101_201103_small\n",
      "Found inner ZIP file: transArchive_201104_small.zip\n",
      "Processing CSV file: transArchive_201104_small.csv\n",
      "Detected delimiter: ,\n",
      "Has header: True\n",
      "Cleaning data...\n"
     ]
    },
    {
     "name": "stderr",
     "output_type": "stream",
     "text": [
      "c:\\Users\\thaefele31\\Documents\\ADA\\Assignments\\WedgeProject\\data_functions.py:15: FutureWarning: Downcasting object dtype arrays on .fillna, .ffill, .bfill is deprecated and will change in a future version. Call result.infer_objects(copy=False) instead. To opt-in to the future behavior, set `pd.set_option('future.no_silent_downcasting', True)`\n",
      "  df['memType'] = df['memType'].fillna(False)  # fill with False\n",
      "c:\\Users\\thaefele31\\Documents\\ADA\\Assignments\\WedgeProject\\data_functions.py:16: FutureWarning: Downcasting object dtype arrays on .fillna, .ffill, .bfill is deprecated and will change in a future version. Call result.infer_objects(copy=False) instead. To opt-in to the future behavior, set `pd.set_option('future.no_silent_downcasting', True)`\n",
      "  df['staff'] = df['staff'].fillna(False)      # fill with False\n",
      "c:\\Users\\thaefele31\\Documents\\ADA\\Assignments\\WedgeProject\\data_functions.py:17: FutureWarning: Downcasting object dtype arrays on .fillna, .ffill, .bfill is deprecated and will change in a future version. Call result.infer_objects(copy=False) instead. To opt-in to the future behavior, set `pd.set_option('future.no_silent_downcasting', True)`\n",
      "  df['batchHeaderID'] = df['batchHeaderID'].fillna(False)  # fill with False\n"
     ]
    },
    {
     "name": "stdout",
     "output_type": "stream",
     "text": [
      "Data cleaned.\n",
      "Uploading data to the cloud...\n",
      "Successfully loaded 10000 rows into wedgeproject-438019.wedgeproject.transarchive_201104_small\n",
      "Found inner ZIP file: transArchive_201105_small.zip\n",
      "Processing CSV file: transArchive_201105_small.csv\n",
      "Detected delimiter: ,\n",
      "Has header: True\n",
      "Cleaning data...\n"
     ]
    },
    {
     "name": "stderr",
     "output_type": "stream",
     "text": [
      "c:\\Users\\thaefele31\\Documents\\ADA\\Assignments\\WedgeProject\\data_functions.py:15: FutureWarning: Downcasting object dtype arrays on .fillna, .ffill, .bfill is deprecated and will change in a future version. Call result.infer_objects(copy=False) instead. To opt-in to the future behavior, set `pd.set_option('future.no_silent_downcasting', True)`\n",
      "  df['memType'] = df['memType'].fillna(False)  # fill with False\n",
      "c:\\Users\\thaefele31\\Documents\\ADA\\Assignments\\WedgeProject\\data_functions.py:16: FutureWarning: Downcasting object dtype arrays on .fillna, .ffill, .bfill is deprecated and will change in a future version. Call result.infer_objects(copy=False) instead. To opt-in to the future behavior, set `pd.set_option('future.no_silent_downcasting', True)`\n",
      "  df['staff'] = df['staff'].fillna(False)      # fill with False\n",
      "c:\\Users\\thaefele31\\Documents\\ADA\\Assignments\\WedgeProject\\data_functions.py:17: FutureWarning: Downcasting object dtype arrays on .fillna, .ffill, .bfill is deprecated and will change in a future version. Call result.infer_objects(copy=False) instead. To opt-in to the future behavior, set `pd.set_option('future.no_silent_downcasting', True)`\n",
      "  df['batchHeaderID'] = df['batchHeaderID'].fillna(False)  # fill with False\n"
     ]
    },
    {
     "name": "stdout",
     "output_type": "stream",
     "text": [
      "Data cleaned.\n",
      "Uploading data to the cloud...\n",
      "Successfully loaded 10000 rows into wedgeproject-438019.wedgeproject.transarchive_201105_small\n",
      "Found inner ZIP file: transArchive_201106_small.zip\n",
      "Processing CSV file: transArchive_201106_small.csv\n",
      "Detected delimiter: ,\n",
      "Has header: True\n",
      "Cleaning data...\n"
     ]
    },
    {
     "name": "stderr",
     "output_type": "stream",
     "text": [
      "c:\\Users\\thaefele31\\Documents\\ADA\\Assignments\\WedgeProject\\data_functions.py:15: FutureWarning: Downcasting object dtype arrays on .fillna, .ffill, .bfill is deprecated and will change in a future version. Call result.infer_objects(copy=False) instead. To opt-in to the future behavior, set `pd.set_option('future.no_silent_downcasting', True)`\n",
      "  df['memType'] = df['memType'].fillna(False)  # fill with False\n",
      "c:\\Users\\thaefele31\\Documents\\ADA\\Assignments\\WedgeProject\\data_functions.py:16: FutureWarning: Downcasting object dtype arrays on .fillna, .ffill, .bfill is deprecated and will change in a future version. Call result.infer_objects(copy=False) instead. To opt-in to the future behavior, set `pd.set_option('future.no_silent_downcasting', True)`\n",
      "  df['staff'] = df['staff'].fillna(False)      # fill with False\n",
      "c:\\Users\\thaefele31\\Documents\\ADA\\Assignments\\WedgeProject\\data_functions.py:17: FutureWarning: Downcasting object dtype arrays on .fillna, .ffill, .bfill is deprecated and will change in a future version. Call result.infer_objects(copy=False) instead. To opt-in to the future behavior, set `pd.set_option('future.no_silent_downcasting', True)`\n",
      "  df['batchHeaderID'] = df['batchHeaderID'].fillna(False)  # fill with False\n"
     ]
    },
    {
     "name": "stdout",
     "output_type": "stream",
     "text": [
      "Data cleaned.\n",
      "Uploading data to the cloud...\n",
      "Successfully loaded 10000 rows into wedgeproject-438019.wedgeproject.transarchive_201106_small\n",
      "Found inner ZIP file: transArchive_201107_201109_small.zip\n",
      "Processing CSV file: transArchive_201107_201109_small.csv\n",
      "Detected delimiter: ,\n",
      "Has header: True\n",
      "Cleaning data...\n"
     ]
    },
    {
     "name": "stderr",
     "output_type": "stream",
     "text": [
      "c:\\Users\\thaefele31\\Documents\\ADA\\Assignments\\WedgeProject\\data_functions.py:15: FutureWarning: Downcasting object dtype arrays on .fillna, .ffill, .bfill is deprecated and will change in a future version. Call result.infer_objects(copy=False) instead. To opt-in to the future behavior, set `pd.set_option('future.no_silent_downcasting', True)`\n",
      "  df['memType'] = df['memType'].fillna(False)  # fill with False\n",
      "c:\\Users\\thaefele31\\Documents\\ADA\\Assignments\\WedgeProject\\data_functions.py:16: FutureWarning: Downcasting object dtype arrays on .fillna, .ffill, .bfill is deprecated and will change in a future version. Call result.infer_objects(copy=False) instead. To opt-in to the future behavior, set `pd.set_option('future.no_silent_downcasting', True)`\n",
      "  df['staff'] = df['staff'].fillna(False)      # fill with False\n",
      "c:\\Users\\thaefele31\\Documents\\ADA\\Assignments\\WedgeProject\\data_functions.py:17: FutureWarning: Downcasting object dtype arrays on .fillna, .ffill, .bfill is deprecated and will change in a future version. Call result.infer_objects(copy=False) instead. To opt-in to the future behavior, set `pd.set_option('future.no_silent_downcasting', True)`\n",
      "  df['batchHeaderID'] = df['batchHeaderID'].fillna(False)  # fill with False\n"
     ]
    },
    {
     "name": "stdout",
     "output_type": "stream",
     "text": [
      "Data cleaned.\n",
      "Uploading data to the cloud...\n",
      "Successfully loaded 10000 rows into wedgeproject-438019.wedgeproject.transarchive_201107_201109_small\n",
      "Found inner ZIP file: transArchive_201110_201112_small.zip\n",
      "Processing CSV file: transArchive_201110_201112_small.csv\n",
      "Detected delimiter: ,\n",
      "Has header: True\n",
      "Cleaning data...\n"
     ]
    },
    {
     "name": "stderr",
     "output_type": "stream",
     "text": [
      "c:\\Users\\thaefele31\\Documents\\ADA\\Assignments\\WedgeProject\\data_functions.py:15: FutureWarning: Downcasting object dtype arrays on .fillna, .ffill, .bfill is deprecated and will change in a future version. Call result.infer_objects(copy=False) instead. To opt-in to the future behavior, set `pd.set_option('future.no_silent_downcasting', True)`\n",
      "  df['memType'] = df['memType'].fillna(False)  # fill with False\n",
      "c:\\Users\\thaefele31\\Documents\\ADA\\Assignments\\WedgeProject\\data_functions.py:16: FutureWarning: Downcasting object dtype arrays on .fillna, .ffill, .bfill is deprecated and will change in a future version. Call result.infer_objects(copy=False) instead. To opt-in to the future behavior, set `pd.set_option('future.no_silent_downcasting', True)`\n",
      "  df['staff'] = df['staff'].fillna(False)      # fill with False\n",
      "c:\\Users\\thaefele31\\Documents\\ADA\\Assignments\\WedgeProject\\data_functions.py:17: FutureWarning: Downcasting object dtype arrays on .fillna, .ffill, .bfill is deprecated and will change in a future version. Call result.infer_objects(copy=False) instead. To opt-in to the future behavior, set `pd.set_option('future.no_silent_downcasting', True)`\n",
      "  df['batchHeaderID'] = df['batchHeaderID'].fillna(False)  # fill with False\n"
     ]
    },
    {
     "name": "stdout",
     "output_type": "stream",
     "text": [
      "Data cleaned.\n",
      "Uploading data to the cloud...\n",
      "Successfully loaded 10000 rows into wedgeproject-438019.wedgeproject.transarchive_201110_201112_small\n",
      "Found inner ZIP file: transArchive_201201_201203_inactive_small.zip\n",
      "Processing CSV file: transArchive_201201_201203_inactive_small.csv\n",
      "Detected delimiter: ;\n",
      "Has header: True\n",
      "Cleaning data...\n"
     ]
    },
    {
     "name": "stderr",
     "output_type": "stream",
     "text": [
      "c:\\Users\\thaefele31\\Documents\\ADA\\Assignments\\WedgeProject\\data_functions.py:15: FutureWarning: Downcasting object dtype arrays on .fillna, .ffill, .bfill is deprecated and will change in a future version. Call result.infer_objects(copy=False) instead. To opt-in to the future behavior, set `pd.set_option('future.no_silent_downcasting', True)`\n",
      "  df['memType'] = df['memType'].fillna(False)  # fill with False\n",
      "c:\\Users\\thaefele31\\Documents\\ADA\\Assignments\\WedgeProject\\data_functions.py:16: FutureWarning: Downcasting object dtype arrays on .fillna, .ffill, .bfill is deprecated and will change in a future version. Call result.infer_objects(copy=False) instead. To opt-in to the future behavior, set `pd.set_option('future.no_silent_downcasting', True)`\n",
      "  df['staff'] = df['staff'].fillna(False)      # fill with False\n",
      "c:\\Users\\thaefele31\\Documents\\ADA\\Assignments\\WedgeProject\\data_functions.py:17: FutureWarning: Downcasting object dtype arrays on .fillna, .ffill, .bfill is deprecated and will change in a future version. Call result.infer_objects(copy=False) instead. To opt-in to the future behavior, set `pd.set_option('future.no_silent_downcasting', True)`\n",
      "  df['batchHeaderID'] = df['batchHeaderID'].fillna(False)  # fill with False\n"
     ]
    },
    {
     "name": "stdout",
     "output_type": "stream",
     "text": [
      "Data cleaned.\n",
      "Uploading data to the cloud...\n",
      "Successfully loaded 10000 rows into wedgeproject-438019.wedgeproject.transarchive_201201_201203_inactive_small\n",
      "Found inner ZIP file: transArchive_201201_201203_small.zip\n",
      "Processing CSV file: transArchive_201201_201203_small.csv\n",
      "Detected delimiter: ,\n",
      "Has header: True\n",
      "Cleaning data...\n"
     ]
    },
    {
     "name": "stderr",
     "output_type": "stream",
     "text": [
      "c:\\Users\\thaefele31\\Documents\\ADA\\Assignments\\WedgeProject\\data_functions.py:15: FutureWarning: Downcasting object dtype arrays on .fillna, .ffill, .bfill is deprecated and will change in a future version. Call result.infer_objects(copy=False) instead. To opt-in to the future behavior, set `pd.set_option('future.no_silent_downcasting', True)`\n",
      "  df['memType'] = df['memType'].fillna(False)  # fill with False\n",
      "c:\\Users\\thaefele31\\Documents\\ADA\\Assignments\\WedgeProject\\data_functions.py:16: FutureWarning: Downcasting object dtype arrays on .fillna, .ffill, .bfill is deprecated and will change in a future version. Call result.infer_objects(copy=False) instead. To opt-in to the future behavior, set `pd.set_option('future.no_silent_downcasting', True)`\n",
      "  df['staff'] = df['staff'].fillna(False)      # fill with False\n",
      "c:\\Users\\thaefele31\\Documents\\ADA\\Assignments\\WedgeProject\\data_functions.py:17: FutureWarning: Downcasting object dtype arrays on .fillna, .ffill, .bfill is deprecated and will change in a future version. Call result.infer_objects(copy=False) instead. To opt-in to the future behavior, set `pd.set_option('future.no_silent_downcasting', True)`\n",
      "  df['batchHeaderID'] = df['batchHeaderID'].fillna(False)  # fill with False\n"
     ]
    },
    {
     "name": "stdout",
     "output_type": "stream",
     "text": [
      "Data cleaned.\n",
      "Uploading data to the cloud...\n",
      "Successfully loaded 10000 rows into wedgeproject-438019.wedgeproject.transarchive_201201_201203_small\n",
      "Found inner ZIP file: transArchive_201204_201206_inactive_small.zip\n",
      "Processing CSV file: transArchive_201204_201206_inactive_small.csv\n",
      "Detected delimiter: ;\n",
      "Has header: True\n",
      "Cleaning data...\n"
     ]
    },
    {
     "name": "stderr",
     "output_type": "stream",
     "text": [
      "c:\\Users\\thaefele31\\Documents\\ADA\\Assignments\\WedgeProject\\data_functions.py:15: FutureWarning: Downcasting object dtype arrays on .fillna, .ffill, .bfill is deprecated and will change in a future version. Call result.infer_objects(copy=False) instead. To opt-in to the future behavior, set `pd.set_option('future.no_silent_downcasting', True)`\n",
      "  df['memType'] = df['memType'].fillna(False)  # fill with False\n"
     ]
    },
    {
     "name": "stdout",
     "output_type": "stream",
     "text": [
      "Data cleaned.\n",
      "Uploading data to the cloud...\n",
      "Successfully loaded 10000 rows into wedgeproject-438019.wedgeproject.transarchive_201204_201206_inactive_small\n",
      "Found inner ZIP file: transArchive_201204_201206_small.zip\n",
      "Processing CSV file: transArchive_201204_201206_small.csv\n",
      "Detected delimiter: ,\n",
      "Has header: True\n",
      "Cleaning data...\n"
     ]
    },
    {
     "name": "stderr",
     "output_type": "stream",
     "text": [
      "c:\\Users\\thaefele31\\Documents\\ADA\\Assignments\\WedgeProject\\data_functions.py:15: FutureWarning: Downcasting object dtype arrays on .fillna, .ffill, .bfill is deprecated and will change in a future version. Call result.infer_objects(copy=False) instead. To opt-in to the future behavior, set `pd.set_option('future.no_silent_downcasting', True)`\n",
      "  df['memType'] = df['memType'].fillna(False)  # fill with False\n",
      "c:\\Users\\thaefele31\\Documents\\ADA\\Assignments\\WedgeProject\\data_functions.py:16: FutureWarning: Downcasting object dtype arrays on .fillna, .ffill, .bfill is deprecated and will change in a future version. Call result.infer_objects(copy=False) instead. To opt-in to the future behavior, set `pd.set_option('future.no_silent_downcasting', True)`\n",
      "  df['staff'] = df['staff'].fillna(False)      # fill with False\n",
      "c:\\Users\\thaefele31\\Documents\\ADA\\Assignments\\WedgeProject\\data_functions.py:17: FutureWarning: Downcasting object dtype arrays on .fillna, .ffill, .bfill is deprecated and will change in a future version. Call result.infer_objects(copy=False) instead. To opt-in to the future behavior, set `pd.set_option('future.no_silent_downcasting', True)`\n",
      "  df['batchHeaderID'] = df['batchHeaderID'].fillna(False)  # fill with False\n"
     ]
    },
    {
     "name": "stdout",
     "output_type": "stream",
     "text": [
      "Data cleaned.\n",
      "Uploading data to the cloud...\n",
      "Successfully loaded 10000 rows into wedgeproject-438019.wedgeproject.transarchive_201204_201206_small\n",
      "Found inner ZIP file: transArchive_201207_201209_inactive_small.zip\n",
      "Processing CSV file: transArchive_201207_201209_inactive_small.csv\n",
      "Detected delimiter: ;\n",
      "Has header: True\n",
      "Cleaning data...\n"
     ]
    },
    {
     "name": "stderr",
     "output_type": "stream",
     "text": [
      "c:\\Users\\thaefele31\\Documents\\ADA\\Assignments\\WedgeProject\\data_functions.py:15: FutureWarning: Downcasting object dtype arrays on .fillna, .ffill, .bfill is deprecated and will change in a future version. Call result.infer_objects(copy=False) instead. To opt-in to the future behavior, set `pd.set_option('future.no_silent_downcasting', True)`\n",
      "  df['memType'] = df['memType'].fillna(False)  # fill with False\n"
     ]
    },
    {
     "name": "stdout",
     "output_type": "stream",
     "text": [
      "Data cleaned.\n",
      "Uploading data to the cloud...\n",
      "Successfully loaded 10000 rows into wedgeproject-438019.wedgeproject.transarchive_201207_201209_inactive_small\n",
      "Found inner ZIP file: transArchive_201207_201209_small.zip\n",
      "Processing CSV file: transArchive_201207_201209_small.csv\n",
      "Detected delimiter: ,\n",
      "Has header: True\n",
      "Cleaning data...\n"
     ]
    },
    {
     "name": "stderr",
     "output_type": "stream",
     "text": [
      "c:\\Users\\thaefele31\\Documents\\ADA\\Assignments\\WedgeProject\\data_functions.py:15: FutureWarning: Downcasting object dtype arrays on .fillna, .ffill, .bfill is deprecated and will change in a future version. Call result.infer_objects(copy=False) instead. To opt-in to the future behavior, set `pd.set_option('future.no_silent_downcasting', True)`\n",
      "  df['memType'] = df['memType'].fillna(False)  # fill with False\n",
      "c:\\Users\\thaefele31\\Documents\\ADA\\Assignments\\WedgeProject\\data_functions.py:16: FutureWarning: Downcasting object dtype arrays on .fillna, .ffill, .bfill is deprecated and will change in a future version. Call result.infer_objects(copy=False) instead. To opt-in to the future behavior, set `pd.set_option('future.no_silent_downcasting', True)`\n",
      "  df['staff'] = df['staff'].fillna(False)      # fill with False\n",
      "c:\\Users\\thaefele31\\Documents\\ADA\\Assignments\\WedgeProject\\data_functions.py:17: FutureWarning: Downcasting object dtype arrays on .fillna, .ffill, .bfill is deprecated and will change in a future version. Call result.infer_objects(copy=False) instead. To opt-in to the future behavior, set `pd.set_option('future.no_silent_downcasting', True)`\n",
      "  df['batchHeaderID'] = df['batchHeaderID'].fillna(False)  # fill with False\n"
     ]
    },
    {
     "name": "stdout",
     "output_type": "stream",
     "text": [
      "Data cleaned.\n",
      "Uploading data to the cloud...\n",
      "Successfully loaded 10000 rows into wedgeproject-438019.wedgeproject.transarchive_201207_201209_small\n",
      "Found inner ZIP file: transArchive_201210_201212_inactive_small.zip\n",
      "Processing CSV file: transArchive_201210_201212_inactive_small.csv\n",
      "Detected delimiter: ;\n",
      "Has header: True\n",
      "Cleaning data...\n",
      "Data cleaned.\n",
      "Uploading data to the cloud...\n",
      "Successfully loaded 10000 rows into wedgeproject-438019.wedgeproject.transarchive_201210_201212_inactive_small\n",
      "Found inner ZIP file: transArchive_201210_201212_small.zip\n",
      "Processing CSV file: transArchive_201210_201212_small.csv\n",
      "Detected delimiter: ,\n",
      "Has header: True\n",
      "Cleaning data...\n"
     ]
    },
    {
     "name": "stderr",
     "output_type": "stream",
     "text": [
      "c:\\Users\\thaefele31\\Documents\\ADA\\Assignments\\WedgeProject\\data_functions.py:15: FutureWarning: Downcasting object dtype arrays on .fillna, .ffill, .bfill is deprecated and will change in a future version. Call result.infer_objects(copy=False) instead. To opt-in to the future behavior, set `pd.set_option('future.no_silent_downcasting', True)`\n",
      "  df['memType'] = df['memType'].fillna(False)  # fill with False\n",
      "c:\\Users\\thaefele31\\Documents\\ADA\\Assignments\\WedgeProject\\data_functions.py:16: FutureWarning: Downcasting object dtype arrays on .fillna, .ffill, .bfill is deprecated and will change in a future version. Call result.infer_objects(copy=False) instead. To opt-in to the future behavior, set `pd.set_option('future.no_silent_downcasting', True)`\n",
      "  df['staff'] = df['staff'].fillna(False)      # fill with False\n",
      "c:\\Users\\thaefele31\\Documents\\ADA\\Assignments\\WedgeProject\\data_functions.py:17: FutureWarning: Downcasting object dtype arrays on .fillna, .ffill, .bfill is deprecated and will change in a future version. Call result.infer_objects(copy=False) instead. To opt-in to the future behavior, set `pd.set_option('future.no_silent_downcasting', True)`\n",
      "  df['batchHeaderID'] = df['batchHeaderID'].fillna(False)  # fill with False\n"
     ]
    },
    {
     "name": "stdout",
     "output_type": "stream",
     "text": [
      "Data cleaned.\n",
      "Uploading data to the cloud...\n",
      "Successfully loaded 10000 rows into wedgeproject-438019.wedgeproject.transarchive_201210_201212_small\n",
      "Found inner ZIP file: transArchive_201301_201303_inactive_small.zip\n",
      "Processing CSV file: transArchive_201301_201303_inactive_small.csv\n",
      "Detected delimiter: ;\n",
      "Has header: True\n",
      "Cleaning data...\n"
     ]
    },
    {
     "name": "stderr",
     "output_type": "stream",
     "text": [
      "c:\\Users\\thaefele31\\Documents\\ADA\\Assignments\\WedgeProject\\data_functions.py:17: FutureWarning: Downcasting object dtype arrays on .fillna, .ffill, .bfill is deprecated and will change in a future version. Call result.infer_objects(copy=False) instead. To opt-in to the future behavior, set `pd.set_option('future.no_silent_downcasting', True)`\n",
      "  df['batchHeaderID'] = df['batchHeaderID'].fillna(False)  # fill with False\n"
     ]
    },
    {
     "name": "stdout",
     "output_type": "stream",
     "text": [
      "Data cleaned.\n",
      "Uploading data to the cloud...\n",
      "Successfully loaded 10000 rows into wedgeproject-438019.wedgeproject.transarchive_201301_201303_inactive_small\n",
      "Found inner ZIP file: transArchive_201301_201303_small.zip\n",
      "Processing CSV file: transArchive_201301_201303_small.csv\n",
      "Detected delimiter: ,\n",
      "Has header: True\n",
      "Cleaning data...\n",
      "Data cleaned.\n",
      "Uploading data to the cloud...\n"
     ]
    },
    {
     "name": "stderr",
     "output_type": "stream",
     "text": [
      "c:\\Users\\thaefele31\\Documents\\ADA\\Assignments\\WedgeProject\\data_functions.py:15: FutureWarning: Downcasting object dtype arrays on .fillna, .ffill, .bfill is deprecated and will change in a future version. Call result.infer_objects(copy=False) instead. To opt-in to the future behavior, set `pd.set_option('future.no_silent_downcasting', True)`\n",
      "  df['memType'] = df['memType'].fillna(False)  # fill with False\n",
      "c:\\Users\\thaefele31\\Documents\\ADA\\Assignments\\WedgeProject\\data_functions.py:16: FutureWarning: Downcasting object dtype arrays on .fillna, .ffill, .bfill is deprecated and will change in a future version. Call result.infer_objects(copy=False) instead. To opt-in to the future behavior, set `pd.set_option('future.no_silent_downcasting', True)`\n",
      "  df['staff'] = df['staff'].fillna(False)      # fill with False\n",
      "c:\\Users\\thaefele31\\Documents\\ADA\\Assignments\\WedgeProject\\data_functions.py:17: FutureWarning: Downcasting object dtype arrays on .fillna, .ffill, .bfill is deprecated and will change in a future version. Call result.infer_objects(copy=False) instead. To opt-in to the future behavior, set `pd.set_option('future.no_silent_downcasting', True)`\n",
      "  df['batchHeaderID'] = df['batchHeaderID'].fillna(False)  # fill with False\n"
     ]
    },
    {
     "name": "stdout",
     "output_type": "stream",
     "text": [
      "Successfully loaded 10000 rows into wedgeproject-438019.wedgeproject.transarchive_201301_201303_small\n",
      "Found inner ZIP file: transArchive_201304_201306_inactive_small.zip\n",
      "Processing CSV file: transArchive_201304_201306_inactive_small.csv\n",
      "Detected delimiter: ;\n",
      "Has header: True\n",
      "Cleaning data...\n"
     ]
    },
    {
     "name": "stderr",
     "output_type": "stream",
     "text": [
      "c:\\Users\\thaefele31\\Documents\\ADA\\Assignments\\WedgeProject\\data_functions.py:15: FutureWarning: Downcasting object dtype arrays on .fillna, .ffill, .bfill is deprecated and will change in a future version. Call result.infer_objects(copy=False) instead. To opt-in to the future behavior, set `pd.set_option('future.no_silent_downcasting', True)`\n",
      "  df['memType'] = df['memType'].fillna(False)  # fill with False\n"
     ]
    },
    {
     "name": "stdout",
     "output_type": "stream",
     "text": [
      "Data cleaned.\n",
      "Uploading data to the cloud...\n",
      "Successfully loaded 10000 rows into wedgeproject-438019.wedgeproject.transarchive_201304_201306_inactive_small\n",
      "Found inner ZIP file: transArchive_201304_201306_small.zip\n",
      "Processing CSV file: transArchive_201304_201306_small.csv\n",
      "Detected delimiter: ,\n",
      "Has header: True\n",
      "Cleaning data...\n"
     ]
    },
    {
     "name": "stderr",
     "output_type": "stream",
     "text": [
      "c:\\Users\\thaefele31\\Documents\\ADA\\Assignments\\WedgeProject\\data_functions.py:15: FutureWarning: Downcasting object dtype arrays on .fillna, .ffill, .bfill is deprecated and will change in a future version. Call result.infer_objects(copy=False) instead. To opt-in to the future behavior, set `pd.set_option('future.no_silent_downcasting', True)`\n",
      "  df['memType'] = df['memType'].fillna(False)  # fill with False\n",
      "c:\\Users\\thaefele31\\Documents\\ADA\\Assignments\\WedgeProject\\data_functions.py:16: FutureWarning: Downcasting object dtype arrays on .fillna, .ffill, .bfill is deprecated and will change in a future version. Call result.infer_objects(copy=False) instead. To opt-in to the future behavior, set `pd.set_option('future.no_silent_downcasting', True)`\n",
      "  df['staff'] = df['staff'].fillna(False)      # fill with False\n",
      "c:\\Users\\thaefele31\\Documents\\ADA\\Assignments\\WedgeProject\\data_functions.py:17: FutureWarning: Downcasting object dtype arrays on .fillna, .ffill, .bfill is deprecated and will change in a future version. Call result.infer_objects(copy=False) instead. To opt-in to the future behavior, set `pd.set_option('future.no_silent_downcasting', True)`\n",
      "  df['batchHeaderID'] = df['batchHeaderID'].fillna(False)  # fill with False\n"
     ]
    },
    {
     "name": "stdout",
     "output_type": "stream",
     "text": [
      "Data cleaned.\n",
      "Uploading data to the cloud...\n",
      "Successfully loaded 10000 rows into wedgeproject-438019.wedgeproject.transarchive_201304_201306_small\n",
      "Found inner ZIP file: transArchive_201307_201309_inactive_small.zip\n",
      "Processing CSV file: transArchive_201307_201309_inactive_small.csv\n",
      "Detected delimiter: ;\n",
      "Has header: True\n",
      "Cleaning data...\n"
     ]
    },
    {
     "name": "stderr",
     "output_type": "stream",
     "text": [
      "c:\\Users\\thaefele31\\Documents\\ADA\\Assignments\\WedgeProject\\data_functions.py:15: FutureWarning: Downcasting object dtype arrays on .fillna, .ffill, .bfill is deprecated and will change in a future version. Call result.infer_objects(copy=False) instead. To opt-in to the future behavior, set `pd.set_option('future.no_silent_downcasting', True)`\n",
      "  df['memType'] = df['memType'].fillna(False)  # fill with False\n"
     ]
    },
    {
     "name": "stdout",
     "output_type": "stream",
     "text": [
      "Data cleaned.\n",
      "Uploading data to the cloud...\n",
      "Successfully loaded 10000 rows into wedgeproject-438019.wedgeproject.transarchive_201307_201309_inactive_small\n",
      "Found inner ZIP file: transArchive_201307_201309_small.zip\n",
      "Processing CSV file: transArchive_201307_201309_small.csv\n",
      "Detected delimiter: ,\n",
      "Has header: True\n",
      "Cleaning data...\n"
     ]
    },
    {
     "name": "stderr",
     "output_type": "stream",
     "text": [
      "c:\\Users\\thaefele31\\Documents\\ADA\\Assignments\\WedgeProject\\data_functions.py:15: FutureWarning: Downcasting object dtype arrays on .fillna, .ffill, .bfill is deprecated and will change in a future version. Call result.infer_objects(copy=False) instead. To opt-in to the future behavior, set `pd.set_option('future.no_silent_downcasting', True)`\n",
      "  df['memType'] = df['memType'].fillna(False)  # fill with False\n",
      "c:\\Users\\thaefele31\\Documents\\ADA\\Assignments\\WedgeProject\\data_functions.py:16: FutureWarning: Downcasting object dtype arrays on .fillna, .ffill, .bfill is deprecated and will change in a future version. Call result.infer_objects(copy=False) instead. To opt-in to the future behavior, set `pd.set_option('future.no_silent_downcasting', True)`\n",
      "  df['staff'] = df['staff'].fillna(False)      # fill with False\n",
      "c:\\Users\\thaefele31\\Documents\\ADA\\Assignments\\WedgeProject\\data_functions.py:17: FutureWarning: Downcasting object dtype arrays on .fillna, .ffill, .bfill is deprecated and will change in a future version. Call result.infer_objects(copy=False) instead. To opt-in to the future behavior, set `pd.set_option('future.no_silent_downcasting', True)`\n",
      "  df['batchHeaderID'] = df['batchHeaderID'].fillna(False)  # fill with False\n"
     ]
    },
    {
     "name": "stdout",
     "output_type": "stream",
     "text": [
      "Data cleaned.\n",
      "Uploading data to the cloud...\n",
      "Successfully loaded 10000 rows into wedgeproject-438019.wedgeproject.transarchive_201307_201309_small\n",
      "Found inner ZIP file: transArchive_201310_201312_inactive_small.zip\n",
      "Processing CSV file: transArchive_201310_201312_inactive_small.csv\n",
      "Detected delimiter: ;\n",
      "Has header: True\n",
      "Cleaning data...\n"
     ]
    },
    {
     "name": "stderr",
     "output_type": "stream",
     "text": [
      "c:\\Users\\thaefele31\\Documents\\ADA\\Assignments\\WedgeProject\\data_functions.py:15: FutureWarning: Downcasting object dtype arrays on .fillna, .ffill, .bfill is deprecated and will change in a future version. Call result.infer_objects(copy=False) instead. To opt-in to the future behavior, set `pd.set_option('future.no_silent_downcasting', True)`\n",
      "  df['memType'] = df['memType'].fillna(False)  # fill with False\n"
     ]
    },
    {
     "name": "stdout",
     "output_type": "stream",
     "text": [
      "Data cleaned.\n",
      "Uploading data to the cloud...\n",
      "Successfully loaded 10000 rows into wedgeproject-438019.wedgeproject.transarchive_201310_201312_inactive_small\n",
      "Found inner ZIP file: transArchive_201310_201312_small.zip\n",
      "Processing CSV file: transArchive_201310_201312_small.csv\n",
      "Detected delimiter: ,\n",
      "Has header: True\n",
      "Cleaning data...\n"
     ]
    },
    {
     "name": "stderr",
     "output_type": "stream",
     "text": [
      "c:\\Users\\thaefele31\\Documents\\ADA\\Assignments\\WedgeProject\\data_functions.py:17: FutureWarning: Downcasting object dtype arrays on .fillna, .ffill, .bfill is deprecated and will change in a future version. Call result.infer_objects(copy=False) instead. To opt-in to the future behavior, set `pd.set_option('future.no_silent_downcasting', True)`\n",
      "  df['batchHeaderID'] = df['batchHeaderID'].fillna(False)  # fill with False\n"
     ]
    },
    {
     "name": "stdout",
     "output_type": "stream",
     "text": [
      "Data cleaned.\n",
      "Uploading data to the cloud...\n",
      "Successfully loaded 10000 rows into wedgeproject-438019.wedgeproject.transarchive_201310_201312_small\n",
      "Found inner ZIP file: transArchive_201401_201403_inactive_small.zip\n",
      "Processing CSV file: transArchive_201401_201403_inactive_small.csv\n",
      "Detected delimiter: ;\n",
      "Has header: True\n",
      "Cleaning data...\n"
     ]
    },
    {
     "name": "stderr",
     "output_type": "stream",
     "text": [
      "c:\\Users\\thaefele31\\Documents\\ADA\\Assignments\\WedgeProject\\data_functions.py:15: FutureWarning: Downcasting object dtype arrays on .fillna, .ffill, .bfill is deprecated and will change in a future version. Call result.infer_objects(copy=False) instead. To opt-in to the future behavior, set `pd.set_option('future.no_silent_downcasting', True)`\n",
      "  df['memType'] = df['memType'].fillna(False)  # fill with False\n"
     ]
    },
    {
     "name": "stdout",
     "output_type": "stream",
     "text": [
      "Data cleaned.\n",
      "Uploading data to the cloud...\n",
      "Successfully loaded 10000 rows into wedgeproject-438019.wedgeproject.transarchive_201401_201403_inactive_small\n",
      "Found inner ZIP file: transArchive_201401_201403_small.zip\n",
      "Processing CSV file: transArchive_201401_201403_small.csv\n",
      "Detected delimiter: ,\n",
      "Has header: True\n",
      "Cleaning data...\n"
     ]
    },
    {
     "name": "stderr",
     "output_type": "stream",
     "text": [
      "c:\\Users\\thaefele31\\Documents\\ADA\\Assignments\\WedgeProject\\data_functions.py:15: FutureWarning: Downcasting object dtype arrays on .fillna, .ffill, .bfill is deprecated and will change in a future version. Call result.infer_objects(copy=False) instead. To opt-in to the future behavior, set `pd.set_option('future.no_silent_downcasting', True)`\n",
      "  df['memType'] = df['memType'].fillna(False)  # fill with False\n",
      "c:\\Users\\thaefele31\\Documents\\ADA\\Assignments\\WedgeProject\\data_functions.py:17: FutureWarning: Downcasting object dtype arrays on .fillna, .ffill, .bfill is deprecated and will change in a future version. Call result.infer_objects(copy=False) instead. To opt-in to the future behavior, set `pd.set_option('future.no_silent_downcasting', True)`\n",
      "  df['batchHeaderID'] = df['batchHeaderID'].fillna(False)  # fill with False\n",
      "c:\\Users\\thaefele31\\Documents\\ADA\\Assignments\\WedgeProject\\data_functions.py:18: FutureWarning: Downcasting object dtype arrays on .fillna, .ffill, .bfill is deprecated and will change in a future version. Call result.infer_objects(copy=False) instead. To opt-in to the future behavior, set `pd.set_option('future.no_silent_downcasting', True)`\n",
      "  df['display'] = df['display'].fillna(False)  # fill with False\n"
     ]
    },
    {
     "name": "stdout",
     "output_type": "stream",
     "text": [
      "Data cleaned.\n",
      "Uploading data to the cloud...\n",
      "Successfully loaded 10000 rows into wedgeproject-438019.wedgeproject.transarchive_201401_201403_small\n",
      "Found inner ZIP file: transArchive_201404_201406_inactive_small.zip\n",
      "Processing CSV file: transArchive_201404_201406_inactive_small.csv\n",
      "Detected delimiter: ;\n",
      "Has header: True\n",
      "Cleaning data...\n"
     ]
    },
    {
     "name": "stderr",
     "output_type": "stream",
     "text": [
      "c:\\Users\\thaefele31\\Documents\\ADA\\Assignments\\WedgeProject\\data_functions.py:15: FutureWarning: Downcasting object dtype arrays on .fillna, .ffill, .bfill is deprecated and will change in a future version. Call result.infer_objects(copy=False) instead. To opt-in to the future behavior, set `pd.set_option('future.no_silent_downcasting', True)`\n",
      "  df['memType'] = df['memType'].fillna(False)  # fill with False\n",
      "c:\\Users\\thaefele31\\Documents\\ADA\\Assignments\\WedgeProject\\data_functions.py:16: FutureWarning: Downcasting object dtype arrays on .fillna, .ffill, .bfill is deprecated and will change in a future version. Call result.infer_objects(copy=False) instead. To opt-in to the future behavior, set `pd.set_option('future.no_silent_downcasting', True)`\n",
      "  df['staff'] = df['staff'].fillna(False)      # fill with False\n",
      "c:\\Users\\thaefele31\\Documents\\ADA\\Assignments\\WedgeProject\\data_functions.py:17: FutureWarning: Downcasting object dtype arrays on .fillna, .ffill, .bfill is deprecated and will change in a future version. Call result.infer_objects(copy=False) instead. To opt-in to the future behavior, set `pd.set_option('future.no_silent_downcasting', True)`\n",
      "  df['batchHeaderID'] = df['batchHeaderID'].fillna(False)  # fill with False\n",
      "c:\\Users\\thaefele31\\Documents\\ADA\\Assignments\\WedgeProject\\data_functions.py:18: FutureWarning: Downcasting object dtype arrays on .fillna, .ffill, .bfill is deprecated and will change in a future version. Call result.infer_objects(copy=False) instead. To opt-in to the future behavior, set `pd.set_option('future.no_silent_downcasting', True)`\n",
      "  df['display'] = df['display'].fillna(False)  # fill with False\n"
     ]
    },
    {
     "name": "stdout",
     "output_type": "stream",
     "text": [
      "Data cleaned.\n",
      "Uploading data to the cloud...\n",
      "Successfully loaded 10000 rows into wedgeproject-438019.wedgeproject.transarchive_201404_201406_inactive_small\n",
      "Found inner ZIP file: transArchive_201404_201406_small.zip\n",
      "Processing CSV file: transArchive_201404_201406_small.csv\n",
      "Detected delimiter: ,\n",
      "Has header: True\n",
      "Cleaning data...\n"
     ]
    },
    {
     "name": "stderr",
     "output_type": "stream",
     "text": [
      "c:\\Users\\thaefele31\\Documents\\ADA\\Assignments\\WedgeProject\\data_functions.py:15: FutureWarning: Downcasting object dtype arrays on .fillna, .ffill, .bfill is deprecated and will change in a future version. Call result.infer_objects(copy=False) instead. To opt-in to the future behavior, set `pd.set_option('future.no_silent_downcasting', True)`\n",
      "  df['memType'] = df['memType'].fillna(False)  # fill with False\n",
      "c:\\Users\\thaefele31\\Documents\\ADA\\Assignments\\WedgeProject\\data_functions.py:17: FutureWarning: Downcasting object dtype arrays on .fillna, .ffill, .bfill is deprecated and will change in a future version. Call result.infer_objects(copy=False) instead. To opt-in to the future behavior, set `pd.set_option('future.no_silent_downcasting', True)`\n",
      "  df['batchHeaderID'] = df['batchHeaderID'].fillna(False)  # fill with False\n",
      "c:\\Users\\thaefele31\\Documents\\ADA\\Assignments\\WedgeProject\\data_functions.py:18: FutureWarning: Downcasting object dtype arrays on .fillna, .ffill, .bfill is deprecated and will change in a future version. Call result.infer_objects(copy=False) instead. To opt-in to the future behavior, set `pd.set_option('future.no_silent_downcasting', True)`\n",
      "  df['display'] = df['display'].fillna(False)  # fill with False\n"
     ]
    },
    {
     "name": "stdout",
     "output_type": "stream",
     "text": [
      "Data cleaned.\n",
      "Uploading data to the cloud...\n",
      "Successfully loaded 10000 rows into wedgeproject-438019.wedgeproject.transarchive_201404_201406_small\n",
      "Found inner ZIP file: transArchive_201407_201409_inactive_small.zip\n",
      "Processing CSV file: transArchive_201407_201409_inactive_small.csv\n",
      "Detected delimiter: ;\n",
      "Has header: True\n",
      "Cleaning data...\n"
     ]
    },
    {
     "name": "stderr",
     "output_type": "stream",
     "text": [
      "c:\\Users\\thaefele31\\Documents\\ADA\\Assignments\\WedgeProject\\data_functions.py:15: FutureWarning: Downcasting object dtype arrays on .fillna, .ffill, .bfill is deprecated and will change in a future version. Call result.infer_objects(copy=False) instead. To opt-in to the future behavior, set `pd.set_option('future.no_silent_downcasting', True)`\n",
      "  df['memType'] = df['memType'].fillna(False)  # fill with False\n",
      "c:\\Users\\thaefele31\\Documents\\ADA\\Assignments\\WedgeProject\\data_functions.py:16: FutureWarning: Downcasting object dtype arrays on .fillna, .ffill, .bfill is deprecated and will change in a future version. Call result.infer_objects(copy=False) instead. To opt-in to the future behavior, set `pd.set_option('future.no_silent_downcasting', True)`\n",
      "  df['staff'] = df['staff'].fillna(False)      # fill with False\n",
      "c:\\Users\\thaefele31\\Documents\\ADA\\Assignments\\WedgeProject\\data_functions.py:17: FutureWarning: Downcasting object dtype arrays on .fillna, .ffill, .bfill is deprecated and will change in a future version. Call result.infer_objects(copy=False) instead. To opt-in to the future behavior, set `pd.set_option('future.no_silent_downcasting', True)`\n",
      "  df['batchHeaderID'] = df['batchHeaderID'].fillna(False)  # fill with False\n",
      "c:\\Users\\thaefele31\\Documents\\ADA\\Assignments\\WedgeProject\\data_functions.py:18: FutureWarning: Downcasting object dtype arrays on .fillna, .ffill, .bfill is deprecated and will change in a future version. Call result.infer_objects(copy=False) instead. To opt-in to the future behavior, set `pd.set_option('future.no_silent_downcasting', True)`\n",
      "  df['display'] = df['display'].fillna(False)  # fill with False\n"
     ]
    },
    {
     "name": "stdout",
     "output_type": "stream",
     "text": [
      "Data cleaned.\n",
      "Uploading data to the cloud...\n",
      "Successfully loaded 10000 rows into wedgeproject-438019.wedgeproject.transarchive_201407_201409_inactive_small\n",
      "Found inner ZIP file: transArchive_201407_201409_small.zip\n",
      "Processing CSV file: transArchive_201407_201409_small.csv\n",
      "Detected delimiter: ,\n",
      "Has header: True\n",
      "Cleaning data...\n",
      "Data cleaned.\n",
      "Uploading data to the cloud...\n"
     ]
    },
    {
     "name": "stderr",
     "output_type": "stream",
     "text": [
      "c:\\Users\\thaefele31\\Documents\\ADA\\Assignments\\WedgeProject\\data_functions.py:15: FutureWarning: Downcasting object dtype arrays on .fillna, .ffill, .bfill is deprecated and will change in a future version. Call result.infer_objects(copy=False) instead. To opt-in to the future behavior, set `pd.set_option('future.no_silent_downcasting', True)`\n",
      "  df['memType'] = df['memType'].fillna(False)  # fill with False\n",
      "c:\\Users\\thaefele31\\Documents\\ADA\\Assignments\\WedgeProject\\data_functions.py:17: FutureWarning: Downcasting object dtype arrays on .fillna, .ffill, .bfill is deprecated and will change in a future version. Call result.infer_objects(copy=False) instead. To opt-in to the future behavior, set `pd.set_option('future.no_silent_downcasting', True)`\n",
      "  df['batchHeaderID'] = df['batchHeaderID'].fillna(False)  # fill with False\n",
      "c:\\Users\\thaefele31\\Documents\\ADA\\Assignments\\WedgeProject\\data_functions.py:18: FutureWarning: Downcasting object dtype arrays on .fillna, .ffill, .bfill is deprecated and will change in a future version. Call result.infer_objects(copy=False) instead. To opt-in to the future behavior, set `pd.set_option('future.no_silent_downcasting', True)`\n",
      "  df['display'] = df['display'].fillna(False)  # fill with False\n"
     ]
    },
    {
     "name": "stdout",
     "output_type": "stream",
     "text": [
      "Successfully loaded 10000 rows into wedgeproject-438019.wedgeproject.transarchive_201407_201409_small\n",
      "Found inner ZIP file: transArchive_201410_201412_inactive_small.zip\n",
      "Processing CSV file: transArchive_201410_201412_inactive_small.csv\n",
      "Detected delimiter: ;\n",
      "Has header: True\n",
      "Cleaning data...\n"
     ]
    },
    {
     "name": "stderr",
     "output_type": "stream",
     "text": [
      "c:\\Users\\thaefele31\\Documents\\ADA\\Assignments\\WedgeProject\\data_functions.py:16: FutureWarning: Downcasting object dtype arrays on .fillna, .ffill, .bfill is deprecated and will change in a future version. Call result.infer_objects(copy=False) instead. To opt-in to the future behavior, set `pd.set_option('future.no_silent_downcasting', True)`\n",
      "  df['staff'] = df['staff'].fillna(False)      # fill with False\n",
      "c:\\Users\\thaefele31\\Documents\\ADA\\Assignments\\WedgeProject\\data_functions.py:17: FutureWarning: Downcasting object dtype arrays on .fillna, .ffill, .bfill is deprecated and will change in a future version. Call result.infer_objects(copy=False) instead. To opt-in to the future behavior, set `pd.set_option('future.no_silent_downcasting', True)`\n",
      "  df['batchHeaderID'] = df['batchHeaderID'].fillna(False)  # fill with False\n",
      "c:\\Users\\thaefele31\\Documents\\ADA\\Assignments\\WedgeProject\\data_functions.py:18: FutureWarning: Downcasting object dtype arrays on .fillna, .ffill, .bfill is deprecated and will change in a future version. Call result.infer_objects(copy=False) instead. To opt-in to the future behavior, set `pd.set_option('future.no_silent_downcasting', True)`\n",
      "  df['display'] = df['display'].fillna(False)  # fill with False\n"
     ]
    },
    {
     "name": "stdout",
     "output_type": "stream",
     "text": [
      "Data cleaned.\n",
      "Uploading data to the cloud...\n",
      "Successfully loaded 7964 rows into wedgeproject-438019.wedgeproject.transarchive_201410_201412_inactive_small\n",
      "Found inner ZIP file: transArchive_201410_201412_small.zip\n",
      "Processing CSV file: transArchive_201410_201412_small.csv\n",
      "Detected delimiter: ,\n",
      "Has header: True\n",
      "Cleaning data...\n"
     ]
    },
    {
     "name": "stderr",
     "output_type": "stream",
     "text": [
      "c:\\Users\\thaefele31\\Documents\\ADA\\Assignments\\WedgeProject\\data_functions.py:15: FutureWarning: Downcasting object dtype arrays on .fillna, .ffill, .bfill is deprecated and will change in a future version. Call result.infer_objects(copy=False) instead. To opt-in to the future behavior, set `pd.set_option('future.no_silent_downcasting', True)`\n",
      "  df['memType'] = df['memType'].fillna(False)  # fill with False\n",
      "c:\\Users\\thaefele31\\Documents\\ADA\\Assignments\\WedgeProject\\data_functions.py:16: FutureWarning: Downcasting object dtype arrays on .fillna, .ffill, .bfill is deprecated and will change in a future version. Call result.infer_objects(copy=False) instead. To opt-in to the future behavior, set `pd.set_option('future.no_silent_downcasting', True)`\n",
      "  df['staff'] = df['staff'].fillna(False)      # fill with False\n",
      "c:\\Users\\thaefele31\\Documents\\ADA\\Assignments\\WedgeProject\\data_functions.py:17: FutureWarning: Downcasting object dtype arrays on .fillna, .ffill, .bfill is deprecated and will change in a future version. Call result.infer_objects(copy=False) instead. To opt-in to the future behavior, set `pd.set_option('future.no_silent_downcasting', True)`\n",
      "  df['batchHeaderID'] = df['batchHeaderID'].fillna(False)  # fill with False\n",
      "c:\\Users\\thaefele31\\Documents\\ADA\\Assignments\\WedgeProject\\data_functions.py:18: FutureWarning: Downcasting object dtype arrays on .fillna, .ffill, .bfill is deprecated and will change in a future version. Call result.infer_objects(copy=False) instead. To opt-in to the future behavior, set `pd.set_option('future.no_silent_downcasting', True)`\n",
      "  df['display'] = df['display'].fillna(False)  # fill with False\n"
     ]
    },
    {
     "name": "stdout",
     "output_type": "stream",
     "text": [
      "Data cleaned.\n",
      "Uploading data to the cloud...\n",
      "Successfully loaded 10000 rows into wedgeproject-438019.wedgeproject.transarchive_201410_201412_small\n",
      "Found inner ZIP file: transArchive_201501_201503_small.zip\n",
      "Processing CSV file: transArchive_201501_201503_small.csv\n",
      "Detected delimiter: ,\n",
      "Has header: True\n",
      "Cleaning data...\n"
     ]
    },
    {
     "name": "stderr",
     "output_type": "stream",
     "text": [
      "c:\\Users\\thaefele31\\Documents\\ADA\\Assignments\\WedgeProject\\data_functions.py:16: FutureWarning: Downcasting object dtype arrays on .fillna, .ffill, .bfill is deprecated and will change in a future version. Call result.infer_objects(copy=False) instead. To opt-in to the future behavior, set `pd.set_option('future.no_silent_downcasting', True)`\n",
      "  df['staff'] = df['staff'].fillna(False)      # fill with False\n",
      "c:\\Users\\thaefele31\\Documents\\ADA\\Assignments\\WedgeProject\\data_functions.py:17: FutureWarning: Downcasting object dtype arrays on .fillna, .ffill, .bfill is deprecated and will change in a future version. Call result.infer_objects(copy=False) instead. To opt-in to the future behavior, set `pd.set_option('future.no_silent_downcasting', True)`\n",
      "  df['batchHeaderID'] = df['batchHeaderID'].fillna(False)  # fill with False\n",
      "c:\\Users\\thaefele31\\Documents\\ADA\\Assignments\\WedgeProject\\data_functions.py:18: FutureWarning: Downcasting object dtype arrays on .fillna, .ffill, .bfill is deprecated and will change in a future version. Call result.infer_objects(copy=False) instead. To opt-in to the future behavior, set `pd.set_option('future.no_silent_downcasting', True)`\n",
      "  df['display'] = df['display'].fillna(False)  # fill with False\n"
     ]
    },
    {
     "name": "stdout",
     "output_type": "stream",
     "text": [
      "Data cleaned.\n",
      "Uploading data to the cloud...\n",
      "Successfully loaded 10000 rows into wedgeproject-438019.wedgeproject.transarchive_201501_201503_small\n",
      "Found inner ZIP file: transArchive_201504_201506_small.zip\n",
      "Processing CSV file: transArchive_201504_201506_small.csv\n",
      "Detected delimiter: ,\n",
      "Has header: True\n",
      "Cleaning data...\n"
     ]
    },
    {
     "name": "stderr",
     "output_type": "stream",
     "text": [
      "c:\\Users\\thaefele31\\Documents\\ADA\\Assignments\\WedgeProject\\data_functions.py:16: FutureWarning: Downcasting object dtype arrays on .fillna, .ffill, .bfill is deprecated and will change in a future version. Call result.infer_objects(copy=False) instead. To opt-in to the future behavior, set `pd.set_option('future.no_silent_downcasting', True)`\n",
      "  df['staff'] = df['staff'].fillna(False)      # fill with False\n",
      "c:\\Users\\thaefele31\\Documents\\ADA\\Assignments\\WedgeProject\\data_functions.py:17: FutureWarning: Downcasting object dtype arrays on .fillna, .ffill, .bfill is deprecated and will change in a future version. Call result.infer_objects(copy=False) instead. To opt-in to the future behavior, set `pd.set_option('future.no_silent_downcasting', True)`\n",
      "  df['batchHeaderID'] = df['batchHeaderID'].fillna(False)  # fill with False\n",
      "c:\\Users\\thaefele31\\Documents\\ADA\\Assignments\\WedgeProject\\data_functions.py:18: FutureWarning: Downcasting object dtype arrays on .fillna, .ffill, .bfill is deprecated and will change in a future version. Call result.infer_objects(copy=False) instead. To opt-in to the future behavior, set `pd.set_option('future.no_silent_downcasting', True)`\n",
      "  df['display'] = df['display'].fillna(False)  # fill with False\n"
     ]
    },
    {
     "name": "stdout",
     "output_type": "stream",
     "text": [
      "Data cleaned.\n",
      "Uploading data to the cloud...\n",
      "Successfully loaded 10000 rows into wedgeproject-438019.wedgeproject.transarchive_201504_201506_small\n",
      "Found inner ZIP file: transArchive_201507_201509_small.zip\n",
      "Processing CSV file: transArchive_201507_201509_small.csv\n",
      "Detected delimiter: ,\n",
      "Has header: True\n",
      "Cleaning data...\n"
     ]
    },
    {
     "name": "stderr",
     "output_type": "stream",
     "text": [
      "c:\\Users\\thaefele31\\Documents\\ADA\\Assignments\\WedgeProject\\data_functions.py:16: FutureWarning: Downcasting object dtype arrays on .fillna, .ffill, .bfill is deprecated and will change in a future version. Call result.infer_objects(copy=False) instead. To opt-in to the future behavior, set `pd.set_option('future.no_silent_downcasting', True)`\n",
      "  df['staff'] = df['staff'].fillna(False)      # fill with False\n",
      "c:\\Users\\thaefele31\\Documents\\ADA\\Assignments\\WedgeProject\\data_functions.py:17: FutureWarning: Downcasting object dtype arrays on .fillna, .ffill, .bfill is deprecated and will change in a future version. Call result.infer_objects(copy=False) instead. To opt-in to the future behavior, set `pd.set_option('future.no_silent_downcasting', True)`\n",
      "  df['batchHeaderID'] = df['batchHeaderID'].fillna(False)  # fill with False\n",
      "c:\\Users\\thaefele31\\Documents\\ADA\\Assignments\\WedgeProject\\data_functions.py:18: FutureWarning: Downcasting object dtype arrays on .fillna, .ffill, .bfill is deprecated and will change in a future version. Call result.infer_objects(copy=False) instead. To opt-in to the future behavior, set `pd.set_option('future.no_silent_downcasting', True)`\n",
      "  df['display'] = df['display'].fillna(False)  # fill with False\n"
     ]
    },
    {
     "name": "stdout",
     "output_type": "stream",
     "text": [
      "Data cleaned.\n",
      "Uploading data to the cloud...\n",
      "Successfully loaded 10000 rows into wedgeproject-438019.wedgeproject.transarchive_201507_201509_small\n",
      "Found inner ZIP file: transArchive_201510_small.zip\n",
      "Processing CSV file: transArchive_201510_small.csv\n",
      "Detected delimiter: ,\n",
      "Has header: True\n",
      "Cleaning data...\n"
     ]
    },
    {
     "name": "stderr",
     "output_type": "stream",
     "text": [
      "c:\\Users\\thaefele31\\Documents\\ADA\\Assignments\\WedgeProject\\data_functions.py:16: FutureWarning: Downcasting object dtype arrays on .fillna, .ffill, .bfill is deprecated and will change in a future version. Call result.infer_objects(copy=False) instead. To opt-in to the future behavior, set `pd.set_option('future.no_silent_downcasting', True)`\n",
      "  df['staff'] = df['staff'].fillna(False)      # fill with False\n",
      "c:\\Users\\thaefele31\\Documents\\ADA\\Assignments\\WedgeProject\\data_functions.py:17: FutureWarning: Downcasting object dtype arrays on .fillna, .ffill, .bfill is deprecated and will change in a future version. Call result.infer_objects(copy=False) instead. To opt-in to the future behavior, set `pd.set_option('future.no_silent_downcasting', True)`\n",
      "  df['batchHeaderID'] = df['batchHeaderID'].fillna(False)  # fill with False\n",
      "c:\\Users\\thaefele31\\Documents\\ADA\\Assignments\\WedgeProject\\data_functions.py:18: FutureWarning: Downcasting object dtype arrays on .fillna, .ffill, .bfill is deprecated and will change in a future version. Call result.infer_objects(copy=False) instead. To opt-in to the future behavior, set `pd.set_option('future.no_silent_downcasting', True)`\n",
      "  df['display'] = df['display'].fillna(False)  # fill with False\n"
     ]
    },
    {
     "name": "stdout",
     "output_type": "stream",
     "text": [
      "Data cleaned.\n",
      "Uploading data to the cloud...\n",
      "Successfully loaded 10000 rows into wedgeproject-438019.wedgeproject.transarchive_201510_small\n",
      "Found inner ZIP file: transArchive_201511_small.zip\n",
      "Processing CSV file: transArchive_201511_small.csv\n",
      "Detected delimiter: ,\n",
      "Has header: False\n",
      "Cleaning data...\n"
     ]
    },
    {
     "name": "stderr",
     "output_type": "stream",
     "text": [
      "c:\\Users\\thaefele31\\Documents\\ADA\\Assignments\\WedgeProject\\data_functions.py:31: FutureWarning: Downcasting behavior in `replace` is deprecated and will be removed in a future version. To retain the old behavior, explicitly call `result.infer_objects(copy=False)`. To opt-in to the future behavior, set `pd.set_option('future.no_silent_downcasting', True)`\n",
      "  df = df.replace(r'\\\\N', np.nan, regex=True)\n"
     ]
    },
    {
     "name": "stdout",
     "output_type": "stream",
     "text": [
      "Data cleaned.\n",
      "Uploading data to the cloud...\n",
      "Successfully loaded 10001 rows into wedgeproject-438019.wedgeproject.transarchive_201511_small\n",
      "Found inner ZIP file: transArchive_201512_small.zip\n",
      "Processing CSV file: transArchive_201512_small.csv\n",
      "Detected delimiter: ,\n",
      "Has header: False\n",
      "Cleaning data...\n"
     ]
    },
    {
     "name": "stderr",
     "output_type": "stream",
     "text": [
      "c:\\Users\\thaefele31\\Documents\\ADA\\Assignments\\WedgeProject\\data_functions.py:16: FutureWarning: Downcasting object dtype arrays on .fillna, .ffill, .bfill is deprecated and will change in a future version. Call result.infer_objects(copy=False) instead. To opt-in to the future behavior, set `pd.set_option('future.no_silent_downcasting', True)`\n",
      "  df['staff'] = df['staff'].fillna(False)      # fill with False\n",
      "c:\\Users\\thaefele31\\Documents\\ADA\\Assignments\\WedgeProject\\data_functions.py:17: FutureWarning: Downcasting object dtype arrays on .fillna, .ffill, .bfill is deprecated and will change in a future version. Call result.infer_objects(copy=False) instead. To opt-in to the future behavior, set `pd.set_option('future.no_silent_downcasting', True)`\n",
      "  df['batchHeaderID'] = df['batchHeaderID'].fillna(False)  # fill with False\n",
      "c:\\Users\\thaefele31\\Documents\\ADA\\Assignments\\WedgeProject\\data_functions.py:18: FutureWarning: Downcasting object dtype arrays on .fillna, .ffill, .bfill is deprecated and will change in a future version. Call result.infer_objects(copy=False) instead. To opt-in to the future behavior, set `pd.set_option('future.no_silent_downcasting', True)`\n",
      "  df['display'] = df['display'].fillna(False)  # fill with False\n"
     ]
    },
    {
     "name": "stdout",
     "output_type": "stream",
     "text": [
      "Data cleaned.\n",
      "Uploading data to the cloud...\n",
      "Successfully loaded 10001 rows into wedgeproject-438019.wedgeproject.transarchive_201512_small\n",
      "Found inner ZIP file: transArchive_201601_small.zip\n",
      "Processing CSV file: transArchive_201601_small.csv\n",
      "Detected delimiter: ,\n",
      "Has header: False\n",
      "Cleaning data...\n"
     ]
    },
    {
     "name": "stderr",
     "output_type": "stream",
     "text": [
      "c:\\Users\\thaefele31\\Documents\\ADA\\Assignments\\WedgeProject\\data_functions.py:31: FutureWarning: Downcasting behavior in `replace` is deprecated and will be removed in a future version. To retain the old behavior, explicitly call `result.infer_objects(copy=False)`. To opt-in to the future behavior, set `pd.set_option('future.no_silent_downcasting', True)`\n",
      "  df = df.replace(r'\\\\N', np.nan, regex=True)\n"
     ]
    },
    {
     "name": "stdout",
     "output_type": "stream",
     "text": [
      "Data cleaned.\n",
      "Uploading data to the cloud...\n",
      "Successfully loaded 10001 rows into wedgeproject-438019.wedgeproject.transarchive_201601_small\n",
      "Found inner ZIP file: transArchive_201602_small.zip\n",
      "Processing CSV file: transArchive_201602_small.csv\n",
      "Detected delimiter: ,\n",
      "Has header: False\n",
      "Cleaning data...\n"
     ]
    },
    {
     "name": "stderr",
     "output_type": "stream",
     "text": [
      "c:\\Users\\thaefele31\\Documents\\ADA\\Assignments\\WedgeProject\\data_functions.py:31: FutureWarning: Downcasting behavior in `replace` is deprecated and will be removed in a future version. To retain the old behavior, explicitly call `result.infer_objects(copy=False)`. To opt-in to the future behavior, set `pd.set_option('future.no_silent_downcasting', True)`\n",
      "  df = df.replace(r'\\\\N', np.nan, regex=True)\n"
     ]
    },
    {
     "name": "stdout",
     "output_type": "stream",
     "text": [
      "Data cleaned.\n",
      "Uploading data to the cloud...\n",
      "Successfully loaded 10001 rows into wedgeproject-438019.wedgeproject.transarchive_201602_small\n",
      "Found inner ZIP file: transArchive_201603_small.zip\n",
      "Processing CSV file: transArchive_201603_small.csv\n",
      "Detected delimiter: ,\n",
      "Has header: False\n",
      "Cleaning data...\n"
     ]
    },
    {
     "name": "stderr",
     "output_type": "stream",
     "text": [
      "c:\\Users\\thaefele31\\Documents\\ADA\\Assignments\\WedgeProject\\data_functions.py:31: FutureWarning: Downcasting behavior in `replace` is deprecated and will be removed in a future version. To retain the old behavior, explicitly call `result.infer_objects(copy=False)`. To opt-in to the future behavior, set `pd.set_option('future.no_silent_downcasting', True)`\n",
      "  df = df.replace(r'\\\\N', np.nan, regex=True)\n"
     ]
    },
    {
     "name": "stdout",
     "output_type": "stream",
     "text": [
      "Data cleaned.\n",
      "Uploading data to the cloud...\n",
      "Successfully loaded 10001 rows into wedgeproject-438019.wedgeproject.transarchive_201603_small\n",
      "Found inner ZIP file: transArchive_201604_small.zip\n",
      "Processing CSV file: transArchive_201604_small.csv\n",
      "Detected delimiter: ,\n",
      "Has header: False\n",
      "Cleaning data...\n"
     ]
    },
    {
     "name": "stderr",
     "output_type": "stream",
     "text": [
      "c:\\Users\\thaefele31\\Documents\\ADA\\Assignments\\WedgeProject\\data_functions.py:31: FutureWarning: Downcasting behavior in `replace` is deprecated and will be removed in a future version. To retain the old behavior, explicitly call `result.infer_objects(copy=False)`. To opt-in to the future behavior, set `pd.set_option('future.no_silent_downcasting', True)`\n",
      "  df = df.replace(r'\\\\N', np.nan, regex=True)\n"
     ]
    },
    {
     "name": "stdout",
     "output_type": "stream",
     "text": [
      "Data cleaned.\n",
      "Uploading data to the cloud...\n",
      "Successfully loaded 10001 rows into wedgeproject-438019.wedgeproject.transarchive_201604_small\n",
      "Found inner ZIP file: transArchive_201605_small.zip\n",
      "Processing CSV file: transArchive_201605_small.csv\n",
      "Detected delimiter: ,\n",
      "Has header: False\n",
      "Cleaning data...\n"
     ]
    },
    {
     "name": "stderr",
     "output_type": "stream",
     "text": [
      "c:\\Users\\thaefele31\\Documents\\ADA\\Assignments\\WedgeProject\\data_functions.py:31: FutureWarning: Downcasting behavior in `replace` is deprecated and will be removed in a future version. To retain the old behavior, explicitly call `result.infer_objects(copy=False)`. To opt-in to the future behavior, set `pd.set_option('future.no_silent_downcasting', True)`\n",
      "  df = df.replace(r'\\\\N', np.nan, regex=True)\n"
     ]
    },
    {
     "name": "stdout",
     "output_type": "stream",
     "text": [
      "Data cleaned.\n",
      "Uploading data to the cloud...\n",
      "Successfully loaded 10001 rows into wedgeproject-438019.wedgeproject.transarchive_201605_small\n",
      "Found inner ZIP file: transArchive_201606_small.zip\n",
      "Processing CSV file: transArchive_201606_small.csv\n",
      "Detected delimiter: ,\n",
      "Has header: False\n",
      "Cleaning data...\n"
     ]
    },
    {
     "name": "stderr",
     "output_type": "stream",
     "text": [
      "c:\\Users\\thaefele31\\Documents\\ADA\\Assignments\\WedgeProject\\data_functions.py:31: FutureWarning: Downcasting behavior in `replace` is deprecated and will be removed in a future version. To retain the old behavior, explicitly call `result.infer_objects(copy=False)`. To opt-in to the future behavior, set `pd.set_option('future.no_silent_downcasting', True)`\n",
      "  df = df.replace(r'\\\\N', np.nan, regex=True)\n"
     ]
    },
    {
     "name": "stdout",
     "output_type": "stream",
     "text": [
      "Data cleaned.\n",
      "Uploading data to the cloud...\n",
      "Successfully loaded 10001 rows into wedgeproject-438019.wedgeproject.transarchive_201606_small\n",
      "Found inner ZIP file: transArchive_201607_small.zip\n",
      "Processing CSV file: transArchive_201607_small.csv\n",
      "Detected delimiter: ,\n",
      "Has header: False\n",
      "Cleaning data...\n"
     ]
    },
    {
     "name": "stderr",
     "output_type": "stream",
     "text": [
      "c:\\Users\\thaefele31\\Documents\\ADA\\Assignments\\WedgeProject\\data_functions.py:31: FutureWarning: Downcasting behavior in `replace` is deprecated and will be removed in a future version. To retain the old behavior, explicitly call `result.infer_objects(copy=False)`. To opt-in to the future behavior, set `pd.set_option('future.no_silent_downcasting', True)`\n",
      "  df = df.replace(r'\\\\N', np.nan, regex=True)\n"
     ]
    },
    {
     "name": "stdout",
     "output_type": "stream",
     "text": [
      "Data cleaned.\n",
      "Uploading data to the cloud...\n",
      "Successfully loaded 10001 rows into wedgeproject-438019.wedgeproject.transarchive_201607_small\n",
      "Found inner ZIP file: transArchive_201608_small.zip\n",
      "Processing CSV file: transArchive_201608_small.csv\n",
      "Detected delimiter: ,\n",
      "Has header: False\n",
      "Cleaning data...\n"
     ]
    },
    {
     "name": "stderr",
     "output_type": "stream",
     "text": [
      "c:\\Users\\thaefele31\\Documents\\ADA\\Assignments\\WedgeProject\\data_functions.py:18: FutureWarning: Downcasting object dtype arrays on .fillna, .ffill, .bfill is deprecated and will change in a future version. Call result.infer_objects(copy=False) instead. To opt-in to the future behavior, set `pd.set_option('future.no_silent_downcasting', True)`\n",
      "  df['display'] = df['display'].fillna(False)  # fill with False\n",
      "c:\\Users\\thaefele31\\Documents\\ADA\\Assignments\\WedgeProject\\data_functions.py:31: FutureWarning: Downcasting behavior in `replace` is deprecated and will be removed in a future version. To retain the old behavior, explicitly call `result.infer_objects(copy=False)`. To opt-in to the future behavior, set `pd.set_option('future.no_silent_downcasting', True)`\n",
      "  df = df.replace(r'\\\\N', np.nan, regex=True)\n"
     ]
    },
    {
     "name": "stdout",
     "output_type": "stream",
     "text": [
      "Data cleaned.\n",
      "Uploading data to the cloud...\n",
      "Successfully loaded 10001 rows into wedgeproject-438019.wedgeproject.transarchive_201608_small\n",
      "Found inner ZIP file: transArchive_201609_small.zip\n",
      "Processing CSV file: transArchive_201609_small.csv\n",
      "Detected delimiter: ,\n",
      "Has header: False\n",
      "Cleaning data...\n"
     ]
    },
    {
     "name": "stderr",
     "output_type": "stream",
     "text": [
      "c:\\Users\\thaefele31\\Documents\\ADA\\Assignments\\WedgeProject\\data_functions.py:31: FutureWarning: Downcasting behavior in `replace` is deprecated and will be removed in a future version. To retain the old behavior, explicitly call `result.infer_objects(copy=False)`. To opt-in to the future behavior, set `pd.set_option('future.no_silent_downcasting', True)`\n",
      "  df = df.replace(r'\\\\N', np.nan, regex=True)\n"
     ]
    },
    {
     "name": "stdout",
     "output_type": "stream",
     "text": [
      "Data cleaned.\n",
      "Uploading data to the cloud...\n",
      "Successfully loaded 10001 rows into wedgeproject-438019.wedgeproject.transarchive_201609_small\n",
      "Found inner ZIP file: transArchive_201610_small.zip\n",
      "Processing CSV file: transArchive_201610_small.csv\n",
      "Detected delimiter: ,\n",
      "Has header: False\n",
      "Cleaning data...\n"
     ]
    },
    {
     "name": "stderr",
     "output_type": "stream",
     "text": [
      "c:\\Users\\thaefele31\\Documents\\ADA\\Assignments\\WedgeProject\\data_functions.py:31: FutureWarning: Downcasting behavior in `replace` is deprecated and will be removed in a future version. To retain the old behavior, explicitly call `result.infer_objects(copy=False)`. To opt-in to the future behavior, set `pd.set_option('future.no_silent_downcasting', True)`\n",
      "  df = df.replace(r'\\\\N', np.nan, regex=True)\n"
     ]
    },
    {
     "name": "stdout",
     "output_type": "stream",
     "text": [
      "Data cleaned.\n",
      "Uploading data to the cloud...\n",
      "Successfully loaded 10001 rows into wedgeproject-438019.wedgeproject.transarchive_201610_small\n",
      "Found inner ZIP file: transArchive_201611_small.zip\n",
      "Processing CSV file: transArchive_201611_small.csv\n",
      "Detected delimiter: ,\n",
      "Has header: False\n",
      "Cleaning data...\n"
     ]
    },
    {
     "name": "stderr",
     "output_type": "stream",
     "text": [
      "c:\\Users\\thaefele31\\Documents\\ADA\\Assignments\\WedgeProject\\data_functions.py:18: FutureWarning: Downcasting object dtype arrays on .fillna, .ffill, .bfill is deprecated and will change in a future version. Call result.infer_objects(copy=False) instead. To opt-in to the future behavior, set `pd.set_option('future.no_silent_downcasting', True)`\n",
      "  df['display'] = df['display'].fillna(False)  # fill with False\n",
      "c:\\Users\\thaefele31\\Documents\\ADA\\Assignments\\WedgeProject\\data_functions.py:31: FutureWarning: Downcasting behavior in `replace` is deprecated and will be removed in a future version. To retain the old behavior, explicitly call `result.infer_objects(copy=False)`. To opt-in to the future behavior, set `pd.set_option('future.no_silent_downcasting', True)`\n",
      "  df = df.replace(r'\\\\N', np.nan, regex=True)\n"
     ]
    },
    {
     "name": "stdout",
     "output_type": "stream",
     "text": [
      "Data cleaned.\n",
      "Uploading data to the cloud...\n",
      "Successfully loaded 10001 rows into wedgeproject-438019.wedgeproject.transarchive_201611_small\n",
      "Found inner ZIP file: transArchive_201612_small.zip\n",
      "Processing CSV file: transArchive_201612_small.csv\n",
      "Detected delimiter: ,\n",
      "Has header: False\n",
      "Cleaning data...\n"
     ]
    },
    {
     "name": "stderr",
     "output_type": "stream",
     "text": [
      "c:\\Users\\thaefele31\\Documents\\ADA\\Assignments\\WedgeProject\\data_functions.py:31: FutureWarning: Downcasting behavior in `replace` is deprecated and will be removed in a future version. To retain the old behavior, explicitly call `result.infer_objects(copy=False)`. To opt-in to the future behavior, set `pd.set_option('future.no_silent_downcasting', True)`\n",
      "  df = df.replace(r'\\\\N', np.nan, regex=True)\n"
     ]
    },
    {
     "name": "stdout",
     "output_type": "stream",
     "text": [
      "Data cleaned.\n",
      "Uploading data to the cloud...\n",
      "Successfully loaded 10001 rows into wedgeproject-438019.wedgeproject.transarchive_201612_small\n",
      "Found inner ZIP file: transArchive_201701_small.zip\n",
      "Processing CSV file: transArchive_201701_small.csv\n",
      "Detected delimiter: ,\n",
      "Has header: False\n",
      "Cleaning data...\n"
     ]
    },
    {
     "name": "stderr",
     "output_type": "stream",
     "text": [
      "c:\\Users\\thaefele31\\Documents\\ADA\\Assignments\\WedgeProject\\data_functions.py:31: FutureWarning: Downcasting behavior in `replace` is deprecated and will be removed in a future version. To retain the old behavior, explicitly call `result.infer_objects(copy=False)`. To opt-in to the future behavior, set `pd.set_option('future.no_silent_downcasting', True)`\n",
      "  df = df.replace(r'\\\\N', np.nan, regex=True)\n"
     ]
    },
    {
     "name": "stdout",
     "output_type": "stream",
     "text": [
      "Data cleaned.\n",
      "Uploading data to the cloud...\n",
      "Successfully loaded 10001 rows into wedgeproject-438019.wedgeproject.transarchive_201701_small\n"
     ]
    }
   ],
   "source": [
    "# Step 1: Open the ZIP file\n",
    "with ZipFile(outer, 'r') as outer_zip:\n",
    "    outer_files = outer_zip.namelist()\n",
    "\n",
    "    processed_files = 0\n",
    "    # Step 2: Loop through the files in the outer ZIP\n",
    "    for outer_file in outer_files:\n",
    "        if outer_file.endswith('.zip'):  # Check if it's a ZIP file within the outer ZIP\n",
    "            print(f\"Found inner ZIP file: {outer_file}\")\n",
    "\n",
    "            # Step 3: Open the inner ZIP file\n",
    "            with outer_zip.open(outer_file) as inner_zip_file:\n",
    "                # Step 4: Read the inner ZIP file as a ZipFile object\n",
    "                with ZipFile(inner_zip_file) as inner_zip:\n",
    "                    inner_files = inner_zip.namelist()\n",
    "\n",
    "                    for file in inner_files:\n",
    "                        if file.endswith('.csv'):\n",
    "                            print(f\"Processing CSV file: {file}\")\n",
    "                            \n",
    "                            # Step 3: Read the CSV file\n",
    "                            with inner_zip.open(file, 'r') as csv_file:\n",
    "                                csv_file = io.TextIOWrapper(csv_file, encoding=\"utf-8\")\n",
    "                                \n",
    "\n",
    "                                 # Read a sample of the file to detect delimiter\n",
    "                                sample = csv_file.read(3030)\n",
    "                                csv_file.seek(0)  # Reset the file pointer\n",
    "\n",
    "                                # Use csv.Sniffer to detect the delimiter\n",
    "                                try:\n",
    "                                    sniffer = csv.Sniffer()\n",
    "                                    dialect = sniffer.sniff(sample, delimiters=[',', ';', '\\t', ':'])\n",
    "                                    delimiter = dialect.delimiter\n",
    "                                    print(f\"Detected delimiter: {delimiter}\")\n",
    "                                except csv.Error:\n",
    "                                    delimiter = ','  # Default to comma if delimiter detection fails\n",
    "                                    print(\"Could not detect delimiter, using default ','\")\n",
    "\n",
    "                                #check for headers\n",
    "                                has_header = sniffer.has_header(sample)\n",
    "                                print(f\"Has header: {has_header}\")\n",
    "\n",
    "                                #remove the headers if they exist and add the schema columns\n",
    "                                if not has_header:\n",
    "                                    df = pd.read_csv(csv_file, delimiter=delimiter, header=None, names=schema_columns)\n",
    "                                else:\n",
    "                                    df = pd.read_csv(csv_file, delimiter=delimiter)\n",
    "                                    df.columns = schema_columns\n",
    "\n",
    "                                # Step 5: Perform data cleaning view data types\n",
    "                                print(\"Cleaning data...\")\n",
    "                                df = datafun.clean_data(df)\n",
    "                                print(\"Data cleaned.\")\n",
    "\n",
    "                                # open connection to bigquery\n",
    "                                table_name = \"wedgeproject-438019.wedgeproject.\" + file.split(\".\")[0].lower()\n",
    "                                datafun.upload_to_bigquery(df,table_name)\n",
    "\n",
    "                                processed_files += 1\n",
    "                                progress = processed_files / len(outer_files) * 100\n",
    "                                print(f\"Progress: {progress:.2f}%\")\n",
    "\n",
    "                            \n",
    "\n",
    "                               \n",
    "                                \n",
    "\n"
   ]
  }
 ],
 "metadata": {
  "kernelspec": {
   "display_name": "Python 3",
   "language": "python",
   "name": "python3"
  },
  "language_info": {
   "codemirror_mode": {
    "name": "ipython",
    "version": 3
   },
   "file_extension": ".py",
   "mimetype": "text/x-python",
   "name": "python",
   "nbconvert_exporter": "python",
   "pygments_lexer": "ipython3",
   "version": "3.12.7"
  }
 },
 "nbformat": 4,
 "nbformat_minor": 2
}
