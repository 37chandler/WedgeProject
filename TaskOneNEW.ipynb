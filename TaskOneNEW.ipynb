{
 "cells": [
  {
   "cell_type": "markdown",
   "metadata": {},
   "source": [
    "# Task One: To the Cloud!"
   ]
  },
  {
   "cell_type": "code",
   "execution_count": 1,
   "metadata": {},
   "outputs": [],
   "source": [
    "#cleaning data\n",
    "import pandas as pd\n",
    "import numpy as np\n",
    "from zipfile import ZipFile\n",
    "import os\n",
    "import io\n",
    "import csv\n",
    "import datetime\n",
    "\n",
    "import data_functions as datafun"
   ]
  },
  {
   "cell_type": "code",
   "execution_count": 2,
   "metadata": {},
   "outputs": [],
   "source": [
    "outer = \"Data/WedgeZipOfZips.zip\"\n",
    "\n",
    "delimiters = dict() \n"
   ]
  },
  {
   "cell_type": "code",
   "execution_count": 3,
   "metadata": {},
   "outputs": [],
   "source": [
    "# Define your schema column names for files without headers\n",
    "schema_columns = ['datetime', 'register_no', 'emp_no', 'trans_no', 'upc', 'description', \n",
    "                  'trans_type', 'trans_subtype', 'trans_status', 'department', 'quantity', \n",
    "                  'Scale', 'cost', 'unitPrice', 'total', 'regPrice', 'altPrice', 'tax', \n",
    "                  'taxexempt', 'foodstamp', 'wicable', 'discount', 'memDiscount', \n",
    "                  'discountable', 'discounttype', 'voided', 'percentDiscount', 'ItemQtty', \n",
    "                  'volDiscType', 'volume', 'VolSpecial', 'mixMatch', 'matched', 'memType', \n",
    "                  'staff', 'numflag', 'itemstatus', 'tenderstatus', 'charflag', 'varflag', \n",
    "                  'batchHeaderID', 'local', 'organic', 'display', 'receipt', 'card_no', \n",
    "                  'store', 'branch', 'match_id', 'trans_id']\n",
    "\n"
   ]
  },
  {
   "cell_type": "code",
   "execution_count": 4,
   "metadata": {},
   "outputs": [
    {
     "name": "stdout",
     "output_type": "stream",
     "text": [
      "Found inner ZIP file: transArchive_201511.zip\n",
      "Processing CSV file: transArchive_201511.csv\n",
      "Detected delimiter: ,\n",
      "Has header: False\n"
     ]
    },
    {
     "name": "stderr",
     "output_type": "stream",
     "text": [
      "C:\\Users\\thaef\\AppData\\Local\\Temp\\ipykernel_10084\\1416433384.py:49: DtypeWarning: Columns (18,36,37,41,43,44,48) have mixed types. Specify dtype option on import or set low_memory=False.\n",
      "  df = pd.read_csv(csv_file, delimiter=delimiter, header=None, names=schema_columns)\n"
     ]
    },
    {
     "name": "stdout",
     "output_type": "stream",
     "text": [
      "Cleaning data...\n"
     ]
    },
    {
     "name": "stderr",
     "output_type": "stream",
     "text": [
      "c:\\Users\\thaef\\OneDrive\\Documents\\School\\ADA\\WedgeProject\\data_functions.py:87: FutureWarning: Downcasting behavior in `replace` is deprecated and will be removed in a future version. To retain the old behavior, explicitly call `result.infer_objects(copy=False)`. To opt-in to the future behavior, set `pd.set_option('future.no_silent_downcasting', True)`\n",
      "  df[column] = df[column].replace([\"\\\\N\", \" \",\"\"], np.nan)\n"
     ]
    },
    {
     "name": "stdout",
     "output_type": "stream",
     "text": [
      "Data cleaned.\n",
      "Uploading data to the cloud...\n",
      "Checking if table exists...\n",
      "Table wedgeproject-438019.wedgeproject.transarchive_201511 does not exist.\n",
      "Successfully loaded 993744 rows into wedgeproject-438019.wedgeproject.transarchive_201511\n",
      "Progress: 6.67%\n",
      "Found inner ZIP file: transArchive_201512.zip\n",
      "Processing CSV file: transArchive_201512.csv\n",
      "Detected delimiter: ,\n",
      "Has header: False\n",
      "Cleaning data...\n"
     ]
    },
    {
     "name": "stderr",
     "output_type": "stream",
     "text": [
      "c:\\Users\\thaef\\OneDrive\\Documents\\School\\ADA\\WedgeProject\\data_functions.py:16: FutureWarning: Downcasting object dtype arrays on .fillna, .ffill, .bfill is deprecated and will change in a future version. Call result.infer_objects(copy=False) instead. To opt-in to the future behavior, set `pd.set_option('future.no_silent_downcasting', True)`\n",
      "  df['staff'] = df['staff'].fillna(False)      # fill with False\n",
      "c:\\Users\\thaef\\OneDrive\\Documents\\School\\ADA\\WedgeProject\\data_functions.py:17: FutureWarning: Downcasting object dtype arrays on .fillna, .ffill, .bfill is deprecated and will change in a future version. Call result.infer_objects(copy=False) instead. To opt-in to the future behavior, set `pd.set_option('future.no_silent_downcasting', True)`\n",
      "  df['batchHeaderID'] = df['batchHeaderID'].fillna(False)  # fill with False\n",
      "c:\\Users\\thaef\\OneDrive\\Documents\\School\\ADA\\WedgeProject\\data_functions.py:18: FutureWarning: Downcasting object dtype arrays on .fillna, .ffill, .bfill is deprecated and will change in a future version. Call result.infer_objects(copy=False) instead. To opt-in to the future behavior, set `pd.set_option('future.no_silent_downcasting', True)`\n",
      "  df['display'] = df['display'].fillna(False)  # fill with False\n"
     ]
    },
    {
     "name": "stdout",
     "output_type": "stream",
     "text": [
      "Data cleaned.\n",
      "Uploading data to the cloud...\n",
      "Checking if table exists...\n",
      "Deleting table wedgeproject-438019.wedgeproject.transarchive_201512...\n",
      "Successfully loaded 960017 rows into wedgeproject-438019.wedgeproject.transarchive_201512\n",
      "Progress: 13.33%\n",
      "Found inner ZIP file: transArchive_201601.zip\n",
      "Processing CSV file: transArchive_201601.csv\n",
      "Detected delimiter: ,\n",
      "Has header: False\n",
      "Cleaning data...\n"
     ]
    },
    {
     "name": "stderr",
     "output_type": "stream",
     "text": [
      "c:\\Users\\thaef\\OneDrive\\Documents\\School\\ADA\\WedgeProject\\data_functions.py:87: FutureWarning: Downcasting behavior in `replace` is deprecated and will be removed in a future version. To retain the old behavior, explicitly call `result.infer_objects(copy=False)`. To opt-in to the future behavior, set `pd.set_option('future.no_silent_downcasting', True)`\n",
      "  df[column] = df[column].replace([\"\\\\N\", \" \",\"\"], np.nan)\n"
     ]
    },
    {
     "name": "stdout",
     "output_type": "stream",
     "text": [
      "Data cleaned.\n",
      "Uploading data to the cloud...\n",
      "Checking if table exists...\n",
      "Deleting table wedgeproject-438019.wedgeproject.transarchive_201601...\n",
      "Successfully loaded 979408 rows into wedgeproject-438019.wedgeproject.transarchive_201601\n",
      "Progress: 20.00%\n",
      "Found inner ZIP file: transArchive_201602.zip\n",
      "Processing CSV file: transArchive_201602.csv\n",
      "Detected delimiter: ,\n",
      "Has header: False\n",
      "Cleaning data...\n"
     ]
    },
    {
     "name": "stderr",
     "output_type": "stream",
     "text": [
      "c:\\Users\\thaef\\OneDrive\\Documents\\School\\ADA\\WedgeProject\\data_functions.py:87: FutureWarning: Downcasting behavior in `replace` is deprecated and will be removed in a future version. To retain the old behavior, explicitly call `result.infer_objects(copy=False)`. To opt-in to the future behavior, set `pd.set_option('future.no_silent_downcasting', True)`\n",
      "  df[column] = df[column].replace([\"\\\\N\", \" \",\"\"], np.nan)\n"
     ]
    },
    {
     "name": "stdout",
     "output_type": "stream",
     "text": [
      "Data cleaned.\n",
      "Uploading data to the cloud...\n",
      "Checking if table exists...\n",
      "Deleting table wedgeproject-438019.wedgeproject.transarchive_201602...\n",
      "Successfully loaded 874853 rows into wedgeproject-438019.wedgeproject.transarchive_201602\n",
      "Progress: 26.67%\n",
      "Found inner ZIP file: transArchive_201603.zip\n",
      "Processing CSV file: transArchive_201603.csv\n",
      "Detected delimiter: ,\n",
      "Has header: False\n",
      "Cleaning data...\n"
     ]
    },
    {
     "name": "stderr",
     "output_type": "stream",
     "text": [
      "c:\\Users\\thaef\\OneDrive\\Documents\\School\\ADA\\WedgeProject\\data_functions.py:87: FutureWarning: Downcasting behavior in `replace` is deprecated and will be removed in a future version. To retain the old behavior, explicitly call `result.infer_objects(copy=False)`. To opt-in to the future behavior, set `pd.set_option('future.no_silent_downcasting', True)`\n",
      "  df[column] = df[column].replace([\"\\\\N\", \" \",\"\"], np.nan)\n"
     ]
    },
    {
     "name": "stdout",
     "output_type": "stream",
     "text": [
      "Data cleaned.\n",
      "Uploading data to the cloud...\n",
      "Checking if table exists...\n",
      "Deleting table wedgeproject-438019.wedgeproject.transarchive_201603...\n",
      "Successfully loaded 964635 rows into wedgeproject-438019.wedgeproject.transarchive_201603\n",
      "Progress: 33.33%\n",
      "Found inner ZIP file: transArchive_201604.zip\n",
      "Processing CSV file: transArchive_201604.csv\n",
      "Detected delimiter: ,\n",
      "Has header: False\n",
      "Cleaning data...\n"
     ]
    },
    {
     "name": "stderr",
     "output_type": "stream",
     "text": [
      "c:\\Users\\thaef\\OneDrive\\Documents\\School\\ADA\\WedgeProject\\data_functions.py:87: FutureWarning: Downcasting behavior in `replace` is deprecated and will be removed in a future version. To retain the old behavior, explicitly call `result.infer_objects(copy=False)`. To opt-in to the future behavior, set `pd.set_option('future.no_silent_downcasting', True)`\n",
      "  df[column] = df[column].replace([\"\\\\N\", \" \",\"\"], np.nan)\n"
     ]
    },
    {
     "name": "stdout",
     "output_type": "stream",
     "text": [
      "Data cleaned.\n",
      "Uploading data to the cloud...\n",
      "Checking if table exists...\n",
      "Deleting table wedgeproject-438019.wedgeproject.transarchive_201604...\n",
      "Successfully loaded 930359 rows into wedgeproject-438019.wedgeproject.transarchive_201604\n",
      "Progress: 40.00%\n",
      "Found inner ZIP file: transArchive_201605.zip\n",
      "Processing CSV file: transArchive_201605.csv\n",
      "Detected delimiter: ,\n",
      "Has header: False\n"
     ]
    },
    {
     "name": "stderr",
     "output_type": "stream",
     "text": [
      "C:\\Users\\thaef\\AppData\\Local\\Temp\\ipykernel_10084\\1416433384.py:49: DtypeWarning: Columns (18,36,37,41,43,44,48) have mixed types. Specify dtype option on import or set low_memory=False.\n",
      "  df = pd.read_csv(csv_file, delimiter=delimiter, header=None, names=schema_columns)\n"
     ]
    },
    {
     "name": "stdout",
     "output_type": "stream",
     "text": [
      "Cleaning data...\n"
     ]
    },
    {
     "name": "stderr",
     "output_type": "stream",
     "text": [
      "c:\\Users\\thaef\\OneDrive\\Documents\\School\\ADA\\WedgeProject\\data_functions.py:87: FutureWarning: Downcasting behavior in `replace` is deprecated and will be removed in a future version. To retain the old behavior, explicitly call `result.infer_objects(copy=False)`. To opt-in to the future behavior, set `pd.set_option('future.no_silent_downcasting', True)`\n",
      "  df[column] = df[column].replace([\"\\\\N\", \" \",\"\"], np.nan)\n"
     ]
    },
    {
     "name": "stdout",
     "output_type": "stream",
     "text": [
      "Data cleaned.\n",
      "Uploading data to the cloud...\n",
      "Checking if table exists...\n",
      "Deleting table wedgeproject-438019.wedgeproject.transarchive_201605...\n",
      "Successfully loaded 938769 rows into wedgeproject-438019.wedgeproject.transarchive_201605\n",
      "Progress: 46.67%\n",
      "Found inner ZIP file: transArchive_201606.zip\n",
      "Processing CSV file: transArchive_201606.csv\n",
      "Detected delimiter: ,\n",
      "Has header: False\n",
      "Cleaning data...\n"
     ]
    },
    {
     "name": "stderr",
     "output_type": "stream",
     "text": [
      "c:\\Users\\thaef\\OneDrive\\Documents\\School\\ADA\\WedgeProject\\data_functions.py:87: FutureWarning: Downcasting behavior in `replace` is deprecated and will be removed in a future version. To retain the old behavior, explicitly call `result.infer_objects(copy=False)`. To opt-in to the future behavior, set `pd.set_option('future.no_silent_downcasting', True)`\n",
      "  df[column] = df[column].replace([\"\\\\N\", \" \",\"\"], np.nan)\n"
     ]
    },
    {
     "name": "stdout",
     "output_type": "stream",
     "text": [
      "Data cleaned.\n",
      "Uploading data to the cloud...\n",
      "Checking if table exists...\n",
      "Deleting table wedgeproject-438019.wedgeproject.transarchive_201606...\n",
      "Successfully loaded 862329 rows into wedgeproject-438019.wedgeproject.transarchive_201606\n",
      "Progress: 53.33%\n",
      "Found inner ZIP file: transArchive_201607.zip\n",
      "Processing CSV file: transArchive_201607.csv\n",
      "Detected delimiter: ,\n",
      "Has header: False\n"
     ]
    },
    {
     "name": "stderr",
     "output_type": "stream",
     "text": [
      "C:\\Users\\thaef\\AppData\\Local\\Temp\\ipykernel_10084\\1416433384.py:49: DtypeWarning: Columns (18,36,37,41,43,44,48) have mixed types. Specify dtype option on import or set low_memory=False.\n",
      "  df = pd.read_csv(csv_file, delimiter=delimiter, header=None, names=schema_columns)\n"
     ]
    },
    {
     "name": "stdout",
     "output_type": "stream",
     "text": [
      "Cleaning data...\n"
     ]
    },
    {
     "name": "stderr",
     "output_type": "stream",
     "text": [
      "c:\\Users\\thaef\\OneDrive\\Documents\\School\\ADA\\WedgeProject\\data_functions.py:87: FutureWarning: Downcasting behavior in `replace` is deprecated and will be removed in a future version. To retain the old behavior, explicitly call `result.infer_objects(copy=False)`. To opt-in to the future behavior, set `pd.set_option('future.no_silent_downcasting', True)`\n",
      "  df[column] = df[column].replace([\"\\\\N\", \" \",\"\"], np.nan)\n"
     ]
    },
    {
     "name": "stdout",
     "output_type": "stream",
     "text": [
      "Data cleaned.\n",
      "Uploading data to the cloud...\n",
      "Checking if table exists...\n",
      "Deleting table wedgeproject-438019.wedgeproject.transarchive_201607...\n",
      "Successfully loaded 872161 rows into wedgeproject-438019.wedgeproject.transarchive_201607\n",
      "Progress: 60.00%\n",
      "Found inner ZIP file: transArchive_201608.zip\n",
      "Processing CSV file: transArchive_201608.csv\n",
      "Detected delimiter: ,\n",
      "Has header: False\n"
     ]
    },
    {
     "name": "stderr",
     "output_type": "stream",
     "text": [
      "C:\\Users\\thaef\\AppData\\Local\\Temp\\ipykernel_10084\\1416433384.py:49: DtypeWarning: Columns (18,36,37,41,43,44,48) have mixed types. Specify dtype option on import or set low_memory=False.\n",
      "  df = pd.read_csv(csv_file, delimiter=delimiter, header=None, names=schema_columns)\n"
     ]
    },
    {
     "name": "stdout",
     "output_type": "stream",
     "text": [
      "Cleaning data...\n"
     ]
    },
    {
     "name": "stderr",
     "output_type": "stream",
     "text": [
      "c:\\Users\\thaef\\OneDrive\\Documents\\School\\ADA\\WedgeProject\\data_functions.py:87: FutureWarning: Downcasting behavior in `replace` is deprecated and will be removed in a future version. To retain the old behavior, explicitly call `result.infer_objects(copy=False)`. To opt-in to the future behavior, set `pd.set_option('future.no_silent_downcasting', True)`\n",
      "  df[column] = df[column].replace([\"\\\\N\", \" \",\"\"], np.nan)\n"
     ]
    },
    {
     "name": "stdout",
     "output_type": "stream",
     "text": [
      "Data cleaned.\n",
      "Uploading data to the cloud...\n",
      "Checking if table exists...\n",
      "Deleting table wedgeproject-438019.wedgeproject.transarchive_201608...\n",
      "Successfully loaded 858168 rows into wedgeproject-438019.wedgeproject.transarchive_201608\n",
      "Progress: 66.67%\n",
      "Found inner ZIP file: transArchive_201609.zip\n",
      "Processing CSV file: transArchive_201609.csv\n",
      "Detected delimiter: ,\n",
      "Has header: False\n"
     ]
    },
    {
     "name": "stderr",
     "output_type": "stream",
     "text": [
      "C:\\Users\\thaef\\AppData\\Local\\Temp\\ipykernel_10084\\1416433384.py:49: DtypeWarning: Columns (18,36,37,41,43,44,48) have mixed types. Specify dtype option on import or set low_memory=False.\n",
      "  df = pd.read_csv(csv_file, delimiter=delimiter, header=None, names=schema_columns)\n"
     ]
    },
    {
     "name": "stdout",
     "output_type": "stream",
     "text": [
      "Cleaning data...\n"
     ]
    },
    {
     "name": "stderr",
     "output_type": "stream",
     "text": [
      "c:\\Users\\thaef\\OneDrive\\Documents\\School\\ADA\\WedgeProject\\data_functions.py:87: FutureWarning: Downcasting behavior in `replace` is deprecated and will be removed in a future version. To retain the old behavior, explicitly call `result.infer_objects(copy=False)`. To opt-in to the future behavior, set `pd.set_option('future.no_silent_downcasting', True)`\n",
      "  df[column] = df[column].replace([\"\\\\N\", \" \",\"\"], np.nan)\n"
     ]
    },
    {
     "name": "stdout",
     "output_type": "stream",
     "text": [
      "Data cleaned.\n",
      "Uploading data to the cloud...\n",
      "Checking if table exists...\n",
      "Deleting table wedgeproject-438019.wedgeproject.transarchive_201609...\n",
      "Successfully loaded 861248 rows into wedgeproject-438019.wedgeproject.transarchive_201609\n",
      "Progress: 73.33%\n",
      "Found inner ZIP file: transArchive_201610.zip\n",
      "Processing CSV file: transArchive_201610.csv\n",
      "Detected delimiter: ,\n",
      "Has header: False\n"
     ]
    },
    {
     "name": "stderr",
     "output_type": "stream",
     "text": [
      "C:\\Users\\thaef\\AppData\\Local\\Temp\\ipykernel_10084\\1416433384.py:49: DtypeWarning: Columns (18,36,37,41,43,44,48) have mixed types. Specify dtype option on import or set low_memory=False.\n",
      "  df = pd.read_csv(csv_file, delimiter=delimiter, header=None, names=schema_columns)\n"
     ]
    },
    {
     "name": "stdout",
     "output_type": "stream",
     "text": [
      "Cleaning data...\n"
     ]
    },
    {
     "name": "stderr",
     "output_type": "stream",
     "text": [
      "c:\\Users\\thaef\\OneDrive\\Documents\\School\\ADA\\WedgeProject\\data_functions.py:87: FutureWarning: Downcasting behavior in `replace` is deprecated and will be removed in a future version. To retain the old behavior, explicitly call `result.infer_objects(copy=False)`. To opt-in to the future behavior, set `pd.set_option('future.no_silent_downcasting', True)`\n",
      "  df[column] = df[column].replace([\"\\\\N\", \" \",\"\"], np.nan)\n"
     ]
    },
    {
     "name": "stdout",
     "output_type": "stream",
     "text": [
      "Data cleaned.\n",
      "Uploading data to the cloud...\n",
      "Checking if table exists...\n",
      "Deleting table wedgeproject-438019.wedgeproject.transarchive_201610...\n",
      "Successfully loaded 905092 rows into wedgeproject-438019.wedgeproject.transarchive_201610\n",
      "Progress: 80.00%\n",
      "Found inner ZIP file: transArchive_201611.zip\n",
      "Processing CSV file: transArchive_201611.csv\n",
      "Detected delimiter: ,\n",
      "Has header: False\n",
      "Cleaning data...\n"
     ]
    },
    {
     "name": "stderr",
     "output_type": "stream",
     "text": [
      "c:\\Users\\thaef\\OneDrive\\Documents\\School\\ADA\\WedgeProject\\data_functions.py:87: FutureWarning: Downcasting behavior in `replace` is deprecated and will be removed in a future version. To retain the old behavior, explicitly call `result.infer_objects(copy=False)`. To opt-in to the future behavior, set `pd.set_option('future.no_silent_downcasting', True)`\n",
      "  df[column] = df[column].replace([\"\\\\N\", \" \",\"\"], np.nan)\n"
     ]
    },
    {
     "name": "stdout",
     "output_type": "stream",
     "text": [
      "Data cleaned.\n",
      "Uploading data to the cloud...\n",
      "Checking if table exists...\n",
      "Deleting table wedgeproject-438019.wedgeproject.transarchive_201611...\n",
      "Successfully loaded 925314 rows into wedgeproject-438019.wedgeproject.transarchive_201611\n",
      "Progress: 86.67%\n",
      "Found inner ZIP file: transArchive_201612.zip\n",
      "Processing CSV file: transArchive_201612.csv\n",
      "Detected delimiter: ,\n",
      "Has header: False\n"
     ]
    },
    {
     "name": "stderr",
     "output_type": "stream",
     "text": [
      "C:\\Users\\thaef\\AppData\\Local\\Temp\\ipykernel_10084\\1416433384.py:49: DtypeWarning: Columns (18,36,37,41,43,44,48) have mixed types. Specify dtype option on import or set low_memory=False.\n",
      "  df = pd.read_csv(csv_file, delimiter=delimiter, header=None, names=schema_columns)\n"
     ]
    },
    {
     "name": "stdout",
     "output_type": "stream",
     "text": [
      "Cleaning data...\n"
     ]
    },
    {
     "name": "stderr",
     "output_type": "stream",
     "text": [
      "c:\\Users\\thaef\\OneDrive\\Documents\\School\\ADA\\WedgeProject\\data_functions.py:87: FutureWarning: Downcasting behavior in `replace` is deprecated and will be removed in a future version. To retain the old behavior, explicitly call `result.infer_objects(copy=False)`. To opt-in to the future behavior, set `pd.set_option('future.no_silent_downcasting', True)`\n",
      "  df[column] = df[column].replace([\"\\\\N\", \" \",\"\"], np.nan)\n"
     ]
    },
    {
     "name": "stdout",
     "output_type": "stream",
     "text": [
      "Data cleaned.\n",
      "Uploading data to the cloud...\n",
      "Checking if table exists...\n",
      "Deleting table wedgeproject-438019.wedgeproject.transarchive_201612...\n",
      "Successfully loaded 915707 rows into wedgeproject-438019.wedgeproject.transarchive_201612\n",
      "Progress: 93.33%\n",
      "Found inner ZIP file: transArchive_201701.zip\n",
      "Processing CSV file: transArchive_201701.csv\n",
      "Detected delimiter: ,\n",
      "Has header: False\n"
     ]
    },
    {
     "name": "stderr",
     "output_type": "stream",
     "text": [
      "C:\\Users\\thaef\\AppData\\Local\\Temp\\ipykernel_10084\\1416433384.py:49: DtypeWarning: Columns (18,36,37,41,43,44,48) have mixed types. Specify dtype option on import or set low_memory=False.\n",
      "  df = pd.read_csv(csv_file, delimiter=delimiter, header=None, names=schema_columns)\n"
     ]
    },
    {
     "name": "stdout",
     "output_type": "stream",
     "text": [
      "Cleaning data...\n"
     ]
    },
    {
     "name": "stderr",
     "output_type": "stream",
     "text": [
      "c:\\Users\\thaef\\OneDrive\\Documents\\School\\ADA\\WedgeProject\\data_functions.py:87: FutureWarning: Downcasting behavior in `replace` is deprecated and will be removed in a future version. To retain the old behavior, explicitly call `result.infer_objects(copy=False)`. To opt-in to the future behavior, set `pd.set_option('future.no_silent_downcasting', True)`\n",
      "  df[column] = df[column].replace([\"\\\\N\", \" \",\"\"], np.nan)\n"
     ]
    },
    {
     "name": "stdout",
     "output_type": "stream",
     "text": [
      "Data cleaned.\n",
      "Uploading data to the cloud...\n",
      "Checking if table exists...\n",
      "Deleting table wedgeproject-438019.wedgeproject.transarchive_201701...\n",
      "Successfully loaded 936741 rows into wedgeproject-438019.wedgeproject.transarchive_201701\n",
      "Progress: 100.00%\n",
      "2384982\n",
      "All files processed.\n"
     ]
    }
   ],
   "source": [
    "# Step 1: Open the ZIP file\n",
    "with ZipFile(outer, 'r') as outer_zip:\n",
    "    outer_files = outer_zip.namelist()\n",
    "\n",
    "    processed_files = 0\n",
    "\n",
    "    count_of_nulls = 0\n",
    "\n",
    "    # Step 2: Loop through the files in the outer ZIP\n",
    "    for outer_file in outer_files:\n",
    "        if outer_file.endswith('.zip'):  # Check if it's a ZIP file within the outer ZIP\n",
    "            print(f\"Found inner ZIP file: {outer_file}\")\n",
    "\n",
    "            # Step 3: Open the inner ZIP file\n",
    "            with outer_zip.open(outer_file) as inner_zip_file:\n",
    "                # Step 4: Read the inner ZIP file as a ZipFile object\n",
    "                with ZipFile(inner_zip_file) as inner_zip:\n",
    "                    inner_files = inner_zip.namelist()\n",
    "\n",
    "                    for file in inner_files:\n",
    "                        if file.endswith('.csv'):\n",
    "                            print(f\"Processing CSV file: {file}\")\n",
    "                            \n",
    "                            # Step 3: Read the CSV file\n",
    "                            with inner_zip.open(file, 'r') as csv_file:\n",
    "                                csv_file = io.TextIOWrapper(csv_file, encoding=\"utf-8\")\n",
    "                                \n",
    "\n",
    "                                 # Read a sample of the file to detect delimiter\n",
    "                                sample = csv_file.read(3030)\n",
    "                                csv_file.seek(0)  # Reset the file pointer\n",
    "\n",
    "                                # Use csv.Sniffer to detect the delimiter\n",
    "                                try:\n",
    "                                    sniffer = csv.Sniffer()\n",
    "                                    dialect = sniffer.sniff(sample, delimiters=[',', ';', '\\t', ':'])\n",
    "                                    delimiter = dialect.delimiter\n",
    "                                    print(f\"Detected delimiter: {delimiter}\")\n",
    "                                except csv.Error:\n",
    "                                    delimiter = ','  # Default to comma if delimiter detection fails\n",
    "                                    print(\"Could not detect delimiter, using default ','\")\n",
    "\n",
    "                                #check for headers\n",
    "                                has_header = sniffer.has_header(sample)\n",
    "                                print(f\"Has header: {has_header}\")\n",
    "\n",
    "                                #remove the headers if they exist and add the schema columns\n",
    "                                if not has_header:\n",
    "                                    df = pd.read_csv(csv_file, delimiter=delimiter, header=None, names=schema_columns)\n",
    "                                else:\n",
    "                                    df = pd.read_csv(csv_file, delimiter=delimiter)\n",
    "                                    df.columns = schema_columns\n",
    "                               \n",
    "                                \n",
    "                                # Step 5: Perform data cleaning view data types\n",
    "                                print(\"Cleaning data...\")\n",
    "                                df = datafun.clean_data(df)\n",
    "                                print(\"Data cleaned.\")\n",
    "\n",
    "                                \n",
    "\n",
    "                                #count null values and add to count_of_nulls\n",
    "                                count_of_nulls += df[\"trans_subtype\"].isnull().sum()\n",
    "\n",
    "                                \n",
    "                                 #open connection to bigquery\n",
    "                        \n",
    "                                table_name = \"wedgeproject-438019.wedgeproject.\" + file.split(\".\")[0].lower()\n",
    "                                datafun.upload_to_bigquery(df,table_name)\n",
    "                                \n",
    "                                processed_files += 1\n",
    "                                progress = processed_files / len(outer_files) * 100\n",
    "                                print(f\"Progress: {progress:.2f}%\")\n",
    "                                \n",
    "                            \n",
    "print(count_of_nulls)\n",
    "\n",
    "print(\"All files processed.\")\n"
   ]
  }
 ],
 "metadata": {
  "kernelspec": {
   "display_name": "Python 3",
   "language": "python",
   "name": "python3"
  },
  "language_info": {
   "codemirror_mode": {
    "name": "ipython",
    "version": 3
   },
   "file_extension": ".py",
   "mimetype": "text/x-python",
   "name": "python",
   "nbconvert_exporter": "python",
   "pygments_lexer": "ipython3",
   "version": "3.12.2"
  }
 },
 "nbformat": 4,
 "nbformat_minor": 2
}
