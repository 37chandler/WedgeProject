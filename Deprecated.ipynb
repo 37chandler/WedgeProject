{
 "cells": [
  {
   "cell_type": "code",
   "execution_count": 2,
   "metadata": {},
   "outputs": [],
   "source": [
    "import os\n",
    "import pandas as pd\n",
    "import pandas_gbq\n",
    "import janitor\n",
    "import zipfile36 as zipfile\n",
    "from google.cloud import bigquery\n",
    "from google.oauth2 import service_account\n"
   ]
  },
  {
   "cell_type": "code",
   "execution_count": 3,
   "metadata": {},
   "outputs": [],
   "source": [
    "#set the path to the credentials file \n",
    "\n",
    "\n",
    "# set the credentials\n",
    "private_key =service_path + service_file\n",
    "\n",
    "#set the credentials\n",
    "credentials = service_account.Credentials.from_service_account_file(private_key)\n"
   ]
  },
  {
   "cell_type": "code",
   "execution_count": 4,
   "metadata": {},
   "outputs": [],
   "source": [
    "#establish the connection to the GBQ\n",
    "client = bigquery.Client(credentials = credentials, project=gbq_proj_id)\n",
    "\n",
    "#set the path to the data\n",
    "path = \"C:/Users/thaefele31/Documents/ADA/Assignments/WedgeProject/Data/clean-files/\""
   ]
  },
  {
   "cell_type": "code",
   "execution_count": 5,
   "metadata": {},
   "outputs": [],
   "source": [
    "#setup gbq work\n",
    "config_job = bigquery.LoadJobConfig()\n"
   ]
  },
  {
   "cell_type": "code",
   "execution_count": 9,
   "metadata": {},
   "outputs": [],
   "source": [
    "#Setup schema for the data\n",
    "config_job.schema =[\n",
    "    {\"name\": \"datetime\", \"type\": \"TIMESTAMP\", \"mode\": \"NULLABLE\"},\n",
    "    {\"name\": \"register_no\", \"type\": \"FLOAT\", \"mode\": \"NULLABLE\"},\n",
    "    {\"name\": \"emp_no\", \"type\": \"FLOAT\", \"mode\": \"NULLABLE\"},\n",
    "    {\"name\": \"trans_no\", \"type\": \"FLOAT\", \"mode\": \"NULLABLE\"},\n",
    "    {\"name\": \"upc\", \"type\": \"STRING\", \"mode\": \"NULLABLE\"},\n",
    "    {\"name\": \"description\", \"type\": \"STRING\", \"mode\": \"NULLABLE\"},\n",
    "    {\"name\": \"trans_type\", \"type\": \"STRING\", \"mode\": \"NULLABLE\"},\n",
    "    {\"name\": \"trans_subtype\", \"type\": \"STRING\", \"mode\": \"NULLABLE\"},\n",
    "    {\"name\": \"trans_status\", \"type\": \"STRING\", \"mode\": \"NULLABLE\"},\n",
    "    {\"name\": \"department\", \"type\": \"FLOAT\", \"mode\": \"NULLABLE\"},\n",
    "    {\"name\": \"quantity\", \"type\": \"FLOAT\", \"mode\": \"NULLABLE\"},\n",
    "    {\"name\": \"Scale\", \"type\": \"FLOAT\", \"mode\": \"NULLABLE\"},\n",
    "    {\"name\": \"cost\", \"type\": \"FLOAT\", \"mode\": \"NULLABLE\"},\n",
    "    {\"name\": \"unitPrice\", \"type\": \"FLOAT\", \"mode\": \"NULLABLE\"},\n",
    "    {\"name\": \"total\", \"type\": \"FLOAT\", \"mode\": \"NULLABLE\"},\n",
    "    {\"name\": \"regPrice\", \"type\": \"FLOAT\", \"mode\": \"NULLABLE\"},\n",
    "    {\"name\": \"altPrice\", \"type\": \"FLOAT\", \"mode\": \"NULLABLE\"},\n",
    "    {\"name\": \"tax\", \"type\": \"FLOAT\", \"mode\": \"NULLABLE\"},\n",
    "    {\"name\": \"taxexempt\", \"type\": \"FLOAT\", \"mode\": \"NULLABLE\"},\n",
    "    {\"name\": \"foodstamp\", \"type\": \"FLOAT\", \"mode\": \"NULLABLE\"},\n",
    "    {\"name\": \"wicable\", \"type\": \"FLOAT\", \"mode\": \"NULLABLE\"},\n",
    "    {\"name\": \"discount\", \"type\": \"FLOAT\", \"mode\": \"NULLABLE\"},\n",
    "    {\"name\": \"memDiscount\", \"type\": \"FLOAT\", \"mode\": \"NULLABLE\"},\n",
    "    {\"name\": \"discountable\", \"type\": \"FLOAT\", \"mode\": \"NULLABLE\"},\n",
    "    {\"name\": \"discounttype\", \"type\": \"FLOAT\", \"mode\": \"NULLABLE\"},\n",
    "    {\"name\": \"voided\", \"type\": \"FLOAT\", \"mode\": \"NULLABLE\"},\n",
    "    {\"name\": \"percentDiscount\", \"type\": \"FLOAT\", \"mode\": \"NULLABLE\"},\n",
    "    {\"name\": \"ItemQtty\", \"type\": \"FLOAT\", \"mode\": \"NULLABLE\"},\n",
    "    {\"name\": \"volDiscType\", \"type\": \"FLOAT\", \"mode\": \"NULLABLE\"},\n",
    "    {\"name\": \"volume\", \"type\": \"FLOAT\", \"mode\": \"NULLABLE\"},\n",
    "    {\"name\": \"VolSpecial\", \"type\": \"FLOAT\", \"mode\": \"NULLABLE\"},\n",
    "    {\"name\": \"mixMatch\", \"type\": \"FLOAT\", \"mode\": \"NULLABLE\"},\n",
    "    {\"name\": \"matched\", \"type\": \"FLOAT\", \"mode\": \"NULLABLE\"},\n",
    "    {\"name\": \"memType\", \"type\": \"BOOLEAN\", \"mode\": \"NULLABLE\"},\n",
    "    {\"name\": \"staff\", \"type\": \"BOOLEAN\", \"mode\": \"NULLABLE\"},\n",
    "    {\"name\": \"numflag\", \"type\": \"FLOAT\", \"mode\": \"NULLABLE\"},\n",
    "    {\"name\": \"itemstatus\", \"type\": \"FLOAT\", \"mode\": \"NULLABLE\"},\n",
    "    {\"name\": \"tenderstatus\", \"type\": \"FLOAT\", \"mode\": \"NULLABLE\"},\n",
    "    {\"name\": \"charflag\", \"type\": \"STRING\", \"mode\": \"NULLABLE\"},\n",
    "    {\"name\": \"varflag\", \"type\": \"FLOAT\", \"mode\": \"NULLABLE\"},\n",
    "    {\"name\": \"batchHeaderID\", \"type\": \"BOOLEAN\", \"mode\": \"NULLABLE\"},\n",
    "    {\"name\": \"local\", \"type\": \"FLOAT\", \"mode\": \"NULLABLE\"},\n",
    "    {\"name\": \"organic\", \"type\": \"FLOAT\", \"mode\": \"NULLABLE\"},\n",
    "    {\"name\": \"display\", \"type\": \"BOOLEAN\", \"mode\": \"NULLABLE\"},\n",
    "    {\"name\": \"receipt\", \"type\": \"FLOAT\", \"mode\": \"NULLABLE\"},\n",
    "    {\"name\": \"card_no\", \"type\": \"FLOAT\", \"mode\": \"NULLABLE\"},\n",
    "    {\"name\": \"store\", \"type\": \"FLOAT\", \"mode\": \"NULLABLE\"},\n",
    "    {\"name\": \"branch\", \"type\": \"FLOAT\", \"mode\": \"NULLABLE\"},\n",
    "    {\"name\": \"match_id\", \"type\": \"FLOAT\", \"mode\": \"NULLABLE\"},\n",
    "    {\"name\": \"trans_id\", \"type\": \"FLOAT\", \"mode\": \"NULLABLE\"}\n",
    "]\n",
    "\n",
    "\n",
    "#job configuration\n",
    "config_job.write_disposition =  bigquery.WriteDisposition.WRITE_APPEND\n",
    "config_job.schema_update_options = [bigquery.SchemaUpdateOption.ALLOW_FIELD_ADDITION]\n",
    "config_job.skip_leading_rows = 1\n",
    "config_job.source_format = bigquery.SourceFormat.CSV\n",
    "\n"
   ]
  },
  {
   "cell_type": "code",
   "execution_count": null,
   "metadata": {},
   "outputs": [
    {
     "name": "stdout",
     "output_type": "stream",
     "text": [
      "Processing file: transArchive_201001_201003_clean.csv\n",
      "Table wedgeproject-438019.wedgeproject.transarchive_201001_201003_clean does not exist\n",
      "Successfully loaded 2998330 rows into wedgeproject-438019.wedgeproject.transarchive_201001_201003_clean\n",
      "Processing file: transArchive_201004_201006_clean.csv\n",
      "Table wedgeproject-438019.wedgeproject.transarchive_201004_201006_clean does not exist\n",
      "Successfully loaded 3185807 rows into wedgeproject-438019.wedgeproject.transarchive_201004_201006_clean\n",
      "Processing file: transArchive_201007_201009_clean.csv\n",
      "Table wedgeproject-438019.wedgeproject.transarchive_201007_201009_clean does not exist\n",
      "Successfully loaded 2992585 rows into wedgeproject-438019.wedgeproject.transarchive_201007_201009_clean\n",
      "Processing file: transArchive_201010_201012_clean.csv\n",
      "Table wedgeproject-438019.wedgeproject.transarchive_201010_201012_clean does not exist\n"
     ]
    }
   ],
   "source": [
    "for file in os.listdir(path):\n",
    "    if file.endswith(\".csv\"):\n",
    "        print(f\"Processing file: {file}\")\n",
    "\n",
    "        #check if the table already exists and delete it\n",
    "        table_id = \"wedgeproject-438019.wedgeproject.\" + file.split(\".\")[0].lower()\n",
    "        try:\n",
    "            client.delete_table(table_id)\n",
    "            print(f\"Deleted table: {table_id}\")\n",
    "        except:\n",
    "            print(f\"Table {table_id} does not exist\")\n",
    "\n",
    "\n",
    "        # Open the file and load it into BigQuery\n",
    "        with open(os.path.join(path, file), \"rb\") as source_file:\n",
    "            table_id = \"wedgeproject-438019.wedgeproject.\" + file.split(\".\")[0].lower()  # Convert to lowercase table name\n",
    "            job = client.load_table_from_file(source_file, table_id, job_config=config_job)\n",
    "\n",
    "            # Wait for the job to finish\n",
    "            job.result()  # Waits for the job to complete\n",
    "\n",
    "            # Check if the job was successful\n",
    "            if job.errors:\n",
    "                print(f\"Error loading {file}: {job.errors}\")\n",
    "            else:\n",
    "                print(f\"Successfully loaded {job.output_rows} rows into {table_id}\")\n",
    "\n",
    "\n"
   ]
  }
 ],
 "metadata": {
  "kernelspec": {
   "display_name": "Python 3",
   "language": "python",
   "name": "python3"
  },
  "language_info": {
   "codemirror_mode": {
    "name": "ipython",
    "version": 3
   },
   "file_extension": ".py",
   "mimetype": "text/x-python",
   "name": "python",
   "nbconvert_exporter": "python",
   "pygments_lexer": "ipython3",
   "version": "3.12.7"
  }
 },
 "nbformat": 4,
 "nbformat_minor": 2
}
