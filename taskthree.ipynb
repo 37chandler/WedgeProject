{
 "cells": [
  {
   "cell_type": "markdown",
   "metadata": {},
   "source": [
    "# Task Three\n",
    "\n",
    "## Problem Statement\n",
    "For this task, you will build a single SQLite database via Python (in a .db file) containing three tables:\n",
    "\n",
    "Sales by date by hour: By calendar date (YYYY-MM-DD) and hour of the day, determine the total spend in the store, the number of transactions, and a count of the number of items[1].\n",
    "\n",
    "Sales by owner by year by month: A file that has the following columns: card_no, year, month, sales, transactions, and items.\n",
    "\n",
    "Sales by product description by year by month: A file that has the following columns: upc, description, department number, department name, year, month, sales, transactions, and items."
   ]
  },
  {
   "cell_type": "code",
   "execution_count": 9,
   "metadata": {},
   "outputs": [],
   "source": [
    "\n",
    "\n",
    "#Import libraries\n",
    "import os\n",
    "import datetime \n",
    "\n",
    "import pandas as pd\n",
    "import matplotlib.pyplot as plt\n",
    "import pandas_gbq\n",
    "import janitor\n",
    "import sqlite3\n",
    "\n",
    "from google.cloud import bigquery\n",
    "from google.oauth2 import service_account"
   ]
  },
  {
   "cell_type": "code",
   "execution_count": 6,
   "metadata": {},
   "outputs": [],
   "source": [
    "# connect to bigquery\n",
    "#setup connection with user default credentials\n",
    "project_id = 'wedgeproject-438019'\n",
    "\n",
    "#setup connection with user default credentials\n",
    "client = bigquery.Client(project=project_id)"
   ]
  },
  {
   "cell_type": "markdown",
   "metadata": {},
   "source": [
    "## Setup Queries"
   ]
  },
  {
   "cell_type": "code",
   "execution_count": 7,
   "metadata": {},
   "outputs": [],
   "source": [
    "#Query 1\n",
    "total_by_date = \"\"\"\n",
    "    SELECT \n",
    "    EXTRACT (DATE from datetime) as date, \n",
    "    EXTRACT(HOUR FROM datetime) AS hour,\n",
    "    SUM(total) as total_spend, \n",
    "    SUM(CASE\n",
    "    WHEN trans_status in ('V', 'R') THEN -1\n",
    "    ELSE 1 \n",
    "    END) as items,\n",
    "    COUNT(DISTINCT CONCAT(CAST(EXTRACT(DATE FROM datetime) AS STRING), CAST(register_no AS STRING), CAST(emp_no AS STRING), CAST(trans_no AS STRING))) AS transactions\n",
    "    FROM `wedgeproject-438019.wedgeproject.transarchive_201001_201003_clean`\n",
    "    WHERE trans_status IS NULL OR ('V','R','',' ') AND department not in (0,15)\n",
    "    GROUP BY date, hour\n",
    "    ORDER BY date, hour;\n",
    "\"\"\"\n",
    "\n",
    "#Query 2\n",
    "total_by_owner = \"\"\"\n",
    "    SELECT card_no as owner,\n",
    "    EXTRACT(YEAR FROM datetime) AS year,\n",
    "    EXTRACT(MONTH FROM datetime)AS month,\n",
    "    sum(total) as total_spend,\n",
    "    SUM(CASE\n",
    "    WHEN trans_status in ('V', 'R') THEN -1\n",
    "    ELSE 1 \n",
    "    END) as num_items,\n",
    "    COUNT(DISTINCT CONCAT(CAST(EXTRACT(DATE FROM datetime) AS STRING), CAST(register_no AS STRING), CAST(emp_no AS STRING), CAST(trans_no AS STRING))) AS trans_count\n",
    "    FROM `wedgeproject-438019.wedgeproject.transarchive_201001_201003_clean`\n",
    "    WHERE trans_status in ('V','R','',' ') AND department not in (0,15)\n",
    "    GROUP BY card_no, year, month\n",
    "    ORDER BY owner, year, month;\n",
    "\"\"\"\n",
    "\n",
    "#Query 3\n",
    "total_by_item = \"\"\"\n",
    "    SELECT\n",
    "    upc,\n",
    "    description,\n",
    "    trans.department,\n",
    "    dept.dept_name,\n",
    "    EXTRACT(YEAR FROM datetime) AS year,\n",
    "    EXTRACT(MONTH FROM datetime)AS month,\n",
    "    sum(total) as total_spend,\n",
    "    SUM(CASE\n",
    "    WHEN trans_status in ('V', 'R') THEN -1\n",
    "    ELSE 1 \n",
    "    END) as num_items,\n",
    "    COUNT(DISTINCT CONCAT(CAST(EXTRACT(DATE FROM datetime) AS STRING), CAST(register_no AS STRING), CAST(emp_no AS STRING), CAST(trans_no AS STRING))) AS trans_count\n",
    "    FROM `wedgeproject-438019.wedgeproject.transarchive_201001_201003_clean` AS trans\n",
    "    LEFT JOIN `wedgeproject-438019.wedgeproject.department_lookup` AS dept\n",
    "    ON trans.department = dept.department\n",
    "    WHERE trans_status in ('V','R','',' ') AND trans.department not in (0,15)\n",
    "    GROUP BY upc,description, trans.department, dept.dept_name, year, month\n",
    "    ORDER BY description, year, month;\n",
    "\"\"\"\n"
   ]
  },
  {
   "cell_type": "code",
   "execution_count": 8,
   "metadata": {},
   "outputs": [
    {
     "name": "stderr",
     "output_type": "stream",
     "text": [
      "c:\\Users\\thaefele31\\AppData\\Local\\Programs\\Python\\Python312\\Lib\\site-packages\\google\\cloud\\bigquery\\table.py:1727: UserWarning: BigQuery Storage module not found, fetch data with the REST endpoint instead.\n",
      "  warnings.warn(\n"
     ]
    }
   ],
   "source": [
    "#send queries to bigquery and store results in dataframes\n",
    "total_by_date_df = client.query(total_by_date).to_dataframe()\n",
    "\n",
    "total_by_owner_df = client.query(total_by_owner).to_dataframe()\n",
    "\n",
    "total_by_item_df = client.query(total_by_item).to_dataframe()"
   ]
  },
  {
   "cell_type": "code",
   "execution_count": 12,
   "metadata": {},
   "outputs": [],
   "source": [
    "#connect to sql database\n",
    "conn = sqlite3.connect('Data/wedge.db')\n",
    "\n",
    "cursor = conn.cursor()\n",
    "\n",
    "#write dataframes to sql database\n",
    "total_by_date_df.to_sql('total_by_date', conn, if_exists='replace', index=False)\n",
    "\n",
    "total_by_owner_df.to_sql('total_by_owner', conn, if_exists='replace', index=False)\n",
    "\n",
    "total_by_item_df.to_sql('total_by_item', conn, if_exists='replace', index=False)\n",
    "\n",
    "#close connection\n",
    "conn.close()"
   ]
  }
 ],
 "metadata": {
  "kernelspec": {
   "display_name": "Python 3",
   "language": "python",
   "name": "python3"
  },
  "language_info": {
   "codemirror_mode": {
    "name": "ipython",
    "version": 3
   },
   "file_extension": ".py",
   "mimetype": "text/x-python",
   "name": "python",
   "nbconvert_exporter": "python",
   "pygments_lexer": "ipython3",
   "version": "3.12.7"
  }
 },
 "nbformat": 4,
 "nbformat_minor": 2
}
